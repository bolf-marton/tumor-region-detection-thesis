{
 "cells": [
  {
   "cell_type": "markdown",
   "id": "f3274f6a",
   "metadata": {},
   "source": [
    "# Initializing"
   ]
  },
  {
   "cell_type": "code",
   "execution_count": 1,
   "id": "f0685ce9",
   "metadata": {},
   "outputs": [],
   "source": [
    "%load_ext autoreload\n",
    "%autoreload 2"
   ]
  },
  {
   "cell_type": "code",
   "execution_count": 2,
   "id": "dcfd12f5",
   "metadata": {},
   "outputs": [],
   "source": [
    "import comet_ml\n",
    "import os\n",
    "import torch\n",
    "from pathlib import Path\n",
    "from src.wsilib import WSIDatabase, WSITileDatabase\n",
    "\n",
    "os.environ[\"CUDA_VISIBLE_DEVICES\"] = \"0\"\n",
    "device = \"cuda\" if torch.cuda.is_available() else \"cpu\"\n",
    "\n",
    "datapath = Path(\"/storage01/bolma/dev/data/BIOMAG_slides/Lung\")"
   ]
  },
  {
   "cell_type": "markdown",
   "id": "f7ea9eea",
   "metadata": {},
   "source": [
    "# Databases"
   ]
  },
  {
   "cell_type": "markdown",
   "id": "f81178e9",
   "metadata": {},
   "source": [
    "## Whole slide dataset"
   ]
  },
  {
   "cell_type": "code",
   "execution_count": 3,
   "id": "f266be47",
   "metadata": {},
   "outputs": [
    {
     "name": "stdout",
     "output_type": "stream",
     "text": [
      "\n",
      "ℹ️ Found 52 .mrxs files in /storage01/bolma/dev/data/BIOMAG_slides/Lung\n"
     ]
    },
    {
     "name": "stderr",
     "output_type": "stream",
     "text": [
      "Loading annotations...: 100%|██████████| 52/52 [00:31<00:00,  1.66it/s]"
     ]
    },
    {
     "name": "stdout",
     "output_type": "stream",
     "text": [
      "\n",
      "\u001b[92m✅ Loaded 52 WSIs with annotations\u001b[0m\n"
     ]
    },
    {
     "name": "stderr",
     "output_type": "stream",
     "text": [
      "\n"
     ]
    }
   ],
   "source": [
    "database = WSIDatabase(wsi_dir=datapath)"
   ]
  },
  {
   "cell_type": "code",
   "execution_count": 5,
   "id": "80f4a335",
   "metadata": {},
   "outputs": [
    {
     "name": "stderr",
     "output_type": "stream",
     "text": [
      "Processing images...: 100%|██████████| 52/52 [01:48<00:00,  2.08s/it]"
     ]
    },
    {
     "name": "stdout",
     "output_type": "stream",
     "text": [
      "\n",
      "\u001b[92m✅ Dataset saved to /storage01/bolma/dev/data/datasets/WSI-ROI/slides/l6. Number of images: 52\u001b[0m\n"
     ]
    },
    {
     "name": "stderr",
     "output_type": "stream",
     "text": [
      "\n"
     ]
    }
   ],
   "source": [
    "database.save_coco_dataset(output_dir=\"/storage01/bolma/dev/data/datasets/WSI-ROI/slides/l6\", level=6)"
   ]
  },
  {
   "cell_type": "markdown",
   "id": "26428981",
   "metadata": {},
   "source": [
    "## Tile datased"
   ]
  },
  {
   "cell_type": "code",
   "execution_count": 4,
   "id": "fc0cca5b",
   "metadata": {},
   "outputs": [
    {
     "name": "stdout",
     "output_type": "stream",
     "text": [
      "\n",
      "ℹ️ Found 52 .mrxs files in /storage01/bolma/dev/data/BIOMAG_slides/Lung\n"
     ]
    },
    {
     "name": "stderr",
     "output_type": "stream",
     "text": [
      "Creating tile containers for each WSI: 100%|██████████| 52/52 [00:20<00:00,  2.50it/s]"
     ]
    },
    {
     "name": "stdout",
     "output_type": "stream",
     "text": [
      "\n",
      "\u001b[92m✅ Created 52 tile containers\u001b[0m\n"
     ]
    },
    {
     "name": "stderr",
     "output_type": "stream",
     "text": [
      "\n"
     ]
    }
   ],
   "source": [
    "tile_db = WSITileDatabase(\n",
    "    wsi_dir=datapath,\n",
    "    tile_size=256,\n",
    "    level=6\n",
    ")"
   ]
  },
  {
   "cell_type": "code",
   "execution_count": 5,
   "id": "199d93c4",
   "metadata": {},
   "outputs": [
    {
     "name": "stderr",
     "output_type": "stream",
     "text": [
      "Extracting tiles from containers:   0%|          | 0/52 [00:00<?, ?it/s]"
     ]
    },
    {
     "name": "stderr",
     "output_type": "stream",
     "text": [
      "Extracting tiles from 3722_17_HE_40x: 1224 tiles [00:01, 1108.78 tiles/s]                    \n",
      "Extracting tiles from 779_17_HE_40x: 1224 tiles [00:00, 1246.57 tiles/s]                     \n",
      "Extracting tiles from 5342_24_A6: 1224 tiles [00:01, 740.94 tiles/s]                      \n",
      "Extracting tiles from 2336_17_HE_40x: 1224 tiles [00:01, 1012.20 tiles/s]                     \n",
      "Extracting tiles from 12104_24_A4: 1224 tiles [00:01, 928.15 tiles/s]                     \n",
      "Extracting tiles from 7532_21_A2_HE_20240515_2: 1224 tiles [00:01, 672.81 tiles/s]                     \n",
      "Extracting tiles from 8394_24_A4: 1224 tiles [00:01, 951.94 tiles/s]                       \n",
      "Extracting tiles from 518_17_HE_40x: 1224 tiles [00:00, 1398.18 tiles/s]                     \n",
      "Extracting tiles from 1968_17_HE_40x: 1224 tiles [00:00, 1748.21 tiles/s]                    \n",
      "Extracting tiles from 1170_17_HE_40x: 1224 tiles [00:00, 1345.07 tiles/s]                     \n",
      "Extracting tiles from 779-21_a2_HE_20230308_8: 1224 tiles [00:01, 700.04 tiles/s]                       \n",
      "Extracting tiles from 762_17_HE_40x: 1224 tiles [00:01, 1023.87 tiles/s]                    \n",
      "Extracting tiles from 3553_17_HE_40x: 1224 tiles [00:01, 1017.28 tiles/s]                    \n",
      "Extracting tiles from 6766_21_A3_HE_20240515: 1224 tiles [00:01, 889.39 tiles/s]                      \n",
      "Extracting tiles from 602_17_HE_40x: 1224 tiles [00:02, 593.16 tiles/s]                      \n",
      "Extracting tiles from 779_21_a4_HE_20230712_2: 1224 tiles [00:02, 594.17 tiles/s]                      \n",
      "Extracting tiles from 12880_24_A6: 1224 tiles [00:01, 1023.42 tiles/s]                     \n",
      "Extracting tiles from 7394_21_A7_HE_20240515: 1224 tiles [00:01, 1127.17 tiles/s]                     \n",
      "Extracting tiles from 4576_17_HE_40x: 1224 tiles [00:01, 1000.24 tiles/s]                     \n",
      "Extracting tiles from 897_17_HE_40x: 1224 tiles [00:00, 1286.75 tiles/s]                    \n",
      "Extracting tiles from 187_18_HE_40x: 1224 tiles [00:01, 852.14 tiles/s]                      \n",
      "Extracting tiles from 1251_17_HE_40x: 1224 tiles [00:00, 1429.94 tiles/s]                     \n",
      "Extracting tiles from 1728_12_HE_40x: 1224 tiles [00:00, 2313.28 tiles/s]                     \n",
      "Extracting tiles from 1484_17_HE_40x: 1224 tiles [00:01, 946.81 tiles/s]                       \n",
      "Extracting tiles from 7628_23_A4_HE_20240116_1: 1224 tiles [00:01, 840.30 tiles/s]                      \n",
      "Extracting tiles from 962_17_HE_40x: 1224 tiles [00:02, 546.20 tiles/s]                      \n",
      "Extracting tiles from 290_23_A3_HE_20240116_1: 1224 tiles [00:01, 941.30 tiles/s]                     \n",
      "Extracting tiles from 109_17_HE_40x: 1224 tiles [00:01, 767.12 tiles/s]                     \n",
      "Extracting tiles from 3389_17_HE_40x: 1224 tiles [00:01, 1180.59 tiles/s]                    \n",
      "Extracting tiles from 92_17_HE_40x: 1224 tiles [00:01, 1213.63 tiles/s]                    \n",
      "Extracting tiles from 1898_17_HE_40x: 1224 tiles [00:01, 855.82 tiles/s]                     \n",
      "Extracting tiles from 2987_21_A3_HE_20240730_1: 1224 tiles [00:01, 700.48 tiles/s]                     \n",
      "Extracting tiles from 5003_11_HE_40x: 1224 tiles [00:01, 875.93 tiles/s]                      \n",
      "Extracting tiles from 977_17_HE_40x: 1224 tiles [00:01, 936.17 tiles/s] 3.64s/it]\n",
      "Extracting tiles from 4184_17_HE_40x: 1224 tiles [00:01, 1012.76 tiles/s]                     \n",
      "Extracting tiles from 2488_17_HE_40x: 1224 tiles [00:01, 1051.29 tiles/s]                     \n",
      "Extracting tiles from 14674_24_A8: 1224 tiles [00:01, 888.80 tiles/s]                     \n",
      "Extracting tiles from 3610_17_HE_40x: 1224 tiles [00:00, 1509.48 tiles/s]                    \n",
      "Extracting tiles from 3312_17_HE_40x: 1224 tiles [00:01, 931.64 tiles/s]                      \n",
      "Extracting tiles from 995_18_HE_40x: 1224 tiles [00:01, 754.77 tiles/s]                     \n",
      "Extracting tiles from 1790_23_A3_HE_20240723_1: 1224 tiles [00:01, 764.11 tiles/s]                      \n",
      "Extracting tiles from 2353_17_HE_40x: 1224 tiles [00:01, 760.03 tiles/s]                     \n",
      "Extracting tiles from 2358_17_HE_40x: 1224 tiles [00:01, 1059.57 tiles/s]                     \n",
      "Extracting tiles from 1947_18_HE_40x: 1224 tiles [00:01, 1095.01 tiles/s]                    \n",
      "Extracting tiles from 2358_17_HE_40x: 1224 tiles [00:01, 1057.55 tiles/s]                     \n",
      "Extracting tiles from 1264_18_HE_40x: 1224 tiles [00:00, 1810.99 tiles/s]                    \n",
      "Extracting tiles from 5064_21_A4_HE_20240515: 1224 tiles [00:01, 774.14 tiles/s]                      \n",
      "Extracting tiles from 2553_18_HE_40x: 1224 tiles [00:01, 769.59 tiles/s]                      \n",
      "Extracting tiles from 2996_17_HE_40x: 1224 tiles [00:01, 733.60 tiles/s]                     \n",
      "Extracting tiles from 1111_17_HE_40x: 1224 tiles [00:01, 964.19 tiles/s]                      \n",
      "Extracting tiles from 3201_17_HE_40x: 1224 tiles [00:01, 779.47 tiles/s]                      \n",
      "Extracting tiles from 1790_23_A4_HE_20240603_1: 1224 tiles [00:01, 716.54 tiles/s]                     \n",
      "Extracting tiles from containers: 100%|██████████| 52/52 [02:56<00:00,  3.40s/it]"
     ]
    },
    {
     "name": "stdout",
     "output_type": "stream",
     "text": [
      "Merging annotations...\n",
      "\n",
      "\u001b[92m✅ Dataset saved to /storage01/bolma/dev/data/datasets/WSI-ROI/tiles. Total images: 6064\u001b[0m\n"
     ]
    },
    {
     "name": "stderr",
     "output_type": "stream",
     "text": [
      "\n"
     ]
    }
   ],
   "source": [
    "tile_db.save_dataset(Path(\"/storage01/bolma/dev/data/datasets/WSI-ROI/tiles\"))"
   ]
  }
 ],
 "metadata": {
  "kernelspec": {
   "display_name": ".venv",
   "language": "python",
   "name": "python3"
  },
  "language_info": {
   "codemirror_mode": {
    "name": "ipython",
    "version": 3
   },
   "file_extension": ".py",
   "mimetype": "text/x-python",
   "name": "python",
   "nbconvert_exporter": "python",
   "pygments_lexer": "ipython3",
   "version": "3.10.17"
  }
 },
 "nbformat": 4,
 "nbformat_minor": 5
}
