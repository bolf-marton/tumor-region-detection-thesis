{
 "cells": [
  {
   "cell_type": "markdown",
   "id": "f3274f6a",
   "metadata": {},
   "source": [
    "# Initializing"
   ]
  },
  {
   "cell_type": "code",
   "execution_count": 2,
   "id": "f0685ce9",
   "metadata": {},
   "outputs": [
    {
     "name": "stdout",
     "output_type": "stream",
     "text": [
      "The autoreload extension is already loaded. To reload it, use:\n",
      "  %reload_ext autoreload\n"
     ]
    }
   ],
   "source": [
    "%load_ext autoreload\n",
    "%autoreload 2"
   ]
  },
  {
   "cell_type": "code",
   "execution_count": 3,
   "id": "dcfd12f5",
   "metadata": {},
   "outputs": [],
   "source": [
    "import comet_ml\n",
    "import os\n",
    "import torch\n",
    "from pathlib import Path\n",
    "from src.wsilib import WSIDatabase, WSITileDatabase\n",
    "\n",
    "os.environ[\"CUDA_VISIBLE_DEVICES\"] = \"0\"\n",
    "device = \"cuda\" if torch.cuda.is_available() else \"cpu\"\n",
    "\n",
    "datapath = Path(\"/storage01/bolma/dev/data/BIOMAG_slides/Lung\")"
   ]
  },
  {
   "cell_type": "markdown",
   "id": "f7ea9eea",
   "metadata": {},
   "source": [
    "# Databases"
   ]
  },
  {
   "cell_type": "markdown",
   "id": "f81178e9",
   "metadata": {},
   "source": [
    "## Whole slide dataset"
   ]
  },
  {
   "cell_type": "code",
   "execution_count": 4,
   "id": "f266be47",
   "metadata": {},
   "outputs": [
    {
     "name": "stdout",
     "output_type": "stream",
     "text": [
      "\n",
      "ℹ️ Found 52 .mrxs files in /storage01/bolma/dev/data/BIOMAG_slides/Lung\n"
     ]
    },
    {
     "name": "stderr",
     "output_type": "stream",
     "text": [
      "Loading annotations...: 100%|██████████| 52/52 [00:31<00:00,  1.64it/s]"
     ]
    },
    {
     "name": "stdout",
     "output_type": "stream",
     "text": [
      "\n",
      "\u001b[92m✅ Loaded 52 WSIs with annotations\u001b[0m\n"
     ]
    },
    {
     "name": "stderr",
     "output_type": "stream",
     "text": [
      "\n"
     ]
    }
   ],
   "source": [
    "database = WSIDatabase(wsi_dir=datapath)"
   ]
  },
  {
   "cell_type": "code",
   "execution_count": 5,
   "id": "80f4a335",
   "metadata": {},
   "outputs": [
    {
     "name": "stderr",
     "output_type": "stream",
     "text": [
      "Processing images...: 100%|██████████| 52/52 [01:48<00:00,  2.08s/it]"
     ]
    },
    {
     "name": "stdout",
     "output_type": "stream",
     "text": [
      "\n",
      "\u001b[92m✅ Dataset saved to /storage01/bolma/dev/data/datasets/WSI-ROI/slides/l6. Number of images: 52\u001b[0m\n"
     ]
    },
    {
     "name": "stderr",
     "output_type": "stream",
     "text": [
      "\n"
     ]
    }
   ],
   "source": [
    "database.save_coco_dataset(output_dir=\"/storage01/bolma/dev/data/datasets/WSI-ROI/slides/l6\", level=6)"
   ]
  },
  {
   "cell_type": "markdown",
   "id": "26428981",
   "metadata": {},
   "source": [
    "## Tile datased"
   ]
  },
  {
   "cell_type": "code",
   "execution_count": null,
   "id": "fc0cca5b",
   "metadata": {},
   "outputs": [
    {
     "name": "stdout",
     "output_type": "stream",
     "text": [
      "\n",
      "ℹ️ Found 52 .mrxs files in /storage01/bolma/dev/data/BIOMAG_slides/Lung\n"
     ]
    },
    {
     "name": "stderr",
     "output_type": "stream",
     "text": [
      "Creating tile containers for each WSI: 100%|██████████| 52/52 [00:25<00:00,  2.03it/s]"
     ]
    },
    {
     "name": "stdout",
     "output_type": "stream",
     "text": [
      "\n",
      "\u001b[92m✅ Created 52 tile containers\u001b[0m\n"
     ]
    },
    {
     "name": "stderr",
     "output_type": "stream",
     "text": [
      "\n"
     ]
    }
   ],
   "source": [
    "tile_db = WSITileDatabase(\n",
    "    wsi_dir=datapath,\n",
    "    tile_size=256,\n",
    "    level=6\n",
    ")"
   ]
  },
  {
   "cell_type": "code",
   "execution_count": null,
   "id": "199d93c4",
   "metadata": {},
   "outputs": [
    {
     "name": "stderr",
     "output_type": "stream",
     "text": [
      "Extracting tiles from 3722_17_HE_40x: 1224 tiles [00:01, 1140.33 tiles/s]                     \n",
      "Extracting tiles from 779_17_HE_40x: 1224 tiles [00:01, 1143.23 tiles/s]                     \n",
      "Extracting tiles from 5342_24_A6: 1224 tiles [00:01, 704.71 tiles/s]                      \n",
      "Extracting tiles from 2336_17_HE_40x: 1224 tiles [00:01, 966.74 tiles/s]                      \n",
      "Extracting tiles from 12104_24_A4: 1224 tiles [00:01, 857.03 tiles/s]                       \n",
      "Extracting tiles from 7532_21_A2_HE_20240515_2: 1224 tiles [00:01, 724.57 tiles/s]                     \n",
      "Extracting tiles from 8394_24_A4: 1224 tiles [00:02, 493.98 tiles/s]                     \n",
      "Extracting tiles from 518_17_HE_40x: 1224 tiles [00:01, 981.43 tiles/s]                      \n",
      "Extracting tiles from 1968_17_HE_40x: 1224 tiles [00:00, 1625.97 tiles/s]                      \n",
      "Extracting tiles from 1170_17_HE_40x: 1224 tiles [00:01, 1216.36 tiles/s]                     \n",
      "Extracting tiles from 779-21_a2_HE_20230308_8: 1224 tiles [00:01, 638.27 tiles/s]                     \n",
      "Extracting tiles from 762_17_HE_40x: 1224 tiles [00:01, 932.19 tiles/s]                     \n",
      "Extracting tiles from 3553_17_HE_40x: 1224 tiles [00:01, 906.76 tiles/s]                       \n",
      "Extracting tiles from 6766_21_A3_HE_20240515: 1224 tiles [00:02, 583.03 tiles/s]                      \n",
      "Extracting tiles from 602_17_HE_40x: 1224 tiles [00:01, 921.25 tiles/s]                      \n",
      "Extracting tiles from 779_21_a4_HE_20230712_2: 1224 tiles [00:02, 550.06 tiles/s]                      \n",
      "Extracting tiles from 12880_24_A6: 1224 tiles [00:01, 918.79 tiles/s]                      \n",
      "Extracting tiles from 7394_21_A7_HE_20240515: 1224 tiles [00:01, 1014.87 tiles/s]                     \n",
      "Extracting tiles from 4576_17_HE_40x: 1224 tiles [00:01, 938.07 tiles/s]                      \n",
      "Extracting tiles from 897_17_HE_40x: 1224 tiles [00:01, 1170.74 tiles/s]                    \n",
      "Extracting tiles from 187_18_HE_40x: 1224 tiles [00:01, 766.17 tiles/s]                      \n",
      "Extracting tiles from 1251_17_HE_40x: 1224 tiles [00:00, 1245.43 tiles/s]                     \n",
      "Extracting tiles from 1728_12_HE_40x: 1224 tiles [00:00, 2048.99 tiles/s]                     \n",
      "Extracting tiles from 1484_17_HE_40x: 1224 tiles [00:01, 845.37 tiles/s]                     \n",
      "Extracting tiles from 7628_23_A4_HE_20240116_1: 1224 tiles [00:01, 751.90 tiles/s]                      \n",
      "Extracting tiles from 962_17_HE_40x: 1224 tiles [00:01, 998.74 tiles/s]                      \n",
      "Extracting tiles from 290_23_A3_HE_20240116_1: 1224 tiles [00:01, 839.51 tiles/s]                     \n",
      "Extracting tiles from 109_17_HE_40x: 1224 tiles [00:01, 681.86 tiles/s] 3.21s/it]\n",
      "Extracting tiles from 3389_17_HE_40x: 1224 tiles [00:01, 753.84 tiles/s] .83s/it]\n",
      "Extracting tiles from 92_17_HE_40x: 1224 tiles [00:01, 1066.38 tiles/s]                      \n",
      "Extracting tiles from 1898_17_HE_40x: 1224 tiles [00:01, 751.30 tiles/s]                       \n",
      "Extracting tiles from 2987_21_A3_HE_20240730_1: 1224 tiles [00:01, 663.15 tiles/s]                      \n",
      "Extracting tiles from 5003_11_HE_40x: 1224 tiles [00:01, 795.81 tiles/s]                      \n",
      "Extracting tiles from 977_17_HE_40x: 1224 tiles [00:01, 835.00 tiles/s]                     \n",
      "Extracting tiles from 4184_17_HE_40x: 1224 tiles [00:01, 913.80 tiles/s]                     \n",
      "Extracting tiles from 2488_17_HE_40x: 1224 tiles [00:01, 834.76 tiles/s]                      \n",
      "Extracting tiles from 14674_24_A8: 1224 tiles [00:01, 810.67 tiles/s]                     \n",
      "Extracting tiles from 3610_17_HE_40x: 1224 tiles [00:00, 1365.02 tiles/s]                    \n",
      "Extracting tiles from 3312_17_HE_40x: 1224 tiles [00:01, 859.43 tiles/s]                      \n",
      "Extracting tiles from 995_18_HE_40x: 1224 tiles [00:01, 684.24 tiles/s] 3.28s/it]\n",
      "Extracting tiles from 1790_23_A3_HE_20240723_1: 1224 tiles [00:01, 679.51 tiles/s]                      \n",
      "Extracting tiles from 2353_17_HE_40x: 1224 tiles [00:01, 673.79 tiles/s]                     \n",
      "Extracting tiles from 2358_17_HE_40x: 1224 tiles [00:01, 951.82 tiles/s]                      \n",
      "Extracting tiles from 1947_18_HE_40x: 1224 tiles [00:01, 970.45 tiles/s]                     \n",
      "Extracting tiles from 2358_17_HE_40x: 1224 tiles [00:01, 934.07 tiles/s]                      \n",
      "Extracting tiles from 1264_18_HE_40x: 1224 tiles [00:00, 1606.58 tiles/s]                    \n",
      "Extracting tiles from 5064_21_A4_HE_20240515: 1224 tiles [00:01, 700.15 tiles/s]                      \n",
      "Extracting tiles from 2553_18_HE_40x: 1224 tiles [00:01, 680.31 tiles/s]                      \n",
      "Extracting tiles from 2996_17_HE_40x: 1224 tiles [00:01, 751.88 tiles/s]                       \n",
      "Extracting tiles from 1111_17_HE_40x: 1224 tiles [00:01, 860.75 tiles/s]                      \n",
      "Extracting tiles from 3201_17_HE_40x: 1224 tiles [00:01, 695.51 tiles/s]                      \n",
      "Extracting tiles from 1790_23_A4_HE_20240603_1: 1224 tiles [00:01, 686.88 tiles/s]                       \n",
      "Extracting tiles from containers: 100%|██████████| 52/52 [03:11<00:00,  3.68s/it]"
     ]
    },
    {
     "name": "stdout",
     "output_type": "stream",
     "text": [
      "\n",
      "ℹ️ Merging annotations...\n",
      "\n",
      "\u001b[92m✅ Dataset saved to /storage01/bolma/dev/data/datasets/WSI-ROI/tiles. Total images: 6064\u001b[0m\n"
     ]
    },
    {
     "name": "stderr",
     "output_type": "stream",
     "text": [
      "\n"
     ]
    }
   ],
   "source": [
    "tile_db.save_dataset(Path(\"/storage01/bolma/dev/data/datasets/WSI-ROI/tiles\"))"
   ]
  }
 ],
 "metadata": {
  "kernelspec": {
   "display_name": ".venv",
   "language": "python",
   "name": "python3"
  },
  "language_info": {
   "codemirror_mode": {
    "name": "ipython",
    "version": 3
   },
   "file_extension": ".py",
   "mimetype": "text/x-python",
   "name": "python",
   "nbconvert_exporter": "python",
   "pygments_lexer": "ipython3",
   "version": "3.10.17"
  }
 },
 "nbformat": 4,
 "nbformat_minor": 5
}
