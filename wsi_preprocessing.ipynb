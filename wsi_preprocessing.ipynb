{
 "cells": [
  {
   "cell_type": "markdown",
   "id": "f3274f6a",
   "metadata": {},
   "source": [
    "# Initializing"
   ]
  },
  {
   "cell_type": "code",
   "execution_count": 24,
   "id": "f0685ce9",
   "metadata": {},
   "outputs": [
    {
     "name": "stdout",
     "output_type": "stream",
     "text": [
      "The autoreload extension is already loaded. To reload it, use:\n",
      "  %reload_ext autoreload\n"
     ]
    }
   ],
   "source": [
    "%load_ext autoreload\n",
    "%autoreload 2"
   ]
  },
  {
   "cell_type": "code",
   "execution_count": 25,
   "id": "dcfd12f5",
   "metadata": {},
   "outputs": [],
   "source": [
    "import comet_ml\n",
    "import os\n",
    "import torch\n",
    "from pathlib import Path\n",
    "from src.wsilib import WSIDatabase, WSITileDatabase\n",
    "\n",
    "os.environ[\"CUDA_VISIBLE_DEVICES\"] = \"0\"\n",
    "device = \"cuda\" if torch.cuda.is_available() else \"cpu\"\n",
    "\n",
    "datapath = Path(\"/storage01/bolma/dev/data/BIOMAG_slides/Lung\")"
   ]
  },
  {
   "cell_type": "markdown",
   "id": "f7ea9eea",
   "metadata": {},
   "source": [
    "# Databases"
   ]
  },
  {
   "cell_type": "markdown",
   "id": "f81178e9",
   "metadata": {},
   "source": [
    "## Whole slide dataset"
   ]
  },
  {
   "cell_type": "code",
   "execution_count": 26,
   "id": "f266be47",
   "metadata": {},
   "outputs": [
    {
     "name": "stdout",
     "output_type": "stream",
     "text": [
      "\n",
      "ℹ️ Found 48 .mrxs files in /storage01/bolma/dev/data/BIOMAG_slides/Lung\n"
     ]
    },
    {
     "name": "stderr",
     "output_type": "stream",
     "text": [
      "Loading annotations...:   0%|          | 0/48 [00:00<?, ?it/s]"
     ]
    },
    {
     "name": "stderr",
     "output_type": "stream",
     "text": [
      "Loading annotations...: 100%|██████████| 48/48 [00:19<00:00,  2.45it/s]"
     ]
    },
    {
     "name": "stdout",
     "output_type": "stream",
     "text": [
      "\n",
      "\u001b[92m✅ Loaded 48 WSIs with annotations\u001b[0m\n"
     ]
    },
    {
     "name": "stderr",
     "output_type": "stream",
     "text": [
      "\n"
     ]
    }
   ],
   "source": [
    "database = WSIDatabase(wsi_dir=datapath)"
   ]
  },
  {
   "cell_type": "code",
   "execution_count": 27,
   "id": "80f4a335",
   "metadata": {},
   "outputs": [
    {
     "name": "stderr",
     "output_type": "stream",
     "text": [
      "Processing images...: 100%|██████████| 48/48 [00:24<00:00,  1.92it/s]"
     ]
    },
    {
     "name": "stdout",
     "output_type": "stream",
     "text": [
      "\n",
      "\u001b[92m✅ Dataset saved to /storage01/bolma/dev/data/datasets/WSI-ROI/slides/l8. Number of images: 48\u001b[0m\n"
     ]
    },
    {
     "name": "stderr",
     "output_type": "stream",
     "text": [
      "\n"
     ]
    }
   ],
   "source": [
    "database.save_coco_dataset(output_dir=\"/storage01/bolma/dev/data/datasets/WSI-ROI/slides/l8\", level=8)"
   ]
  },
  {
   "cell_type": "markdown",
   "id": "26428981",
   "metadata": {},
   "source": [
    "## Tile datased"
   ]
  },
  {
   "cell_type": "code",
   "execution_count": 28,
   "id": "fc0cca5b",
   "metadata": {},
   "outputs": [
    {
     "name": "stdout",
     "output_type": "stream",
     "text": [
      "\n",
      "ℹ️ Found 48 .mrxs files in /storage01/bolma/dev/data/BIOMAG_slides/Lung\n"
     ]
    },
    {
     "name": "stderr",
     "output_type": "stream",
     "text": [
      "Creating tile containers for each WSI:   0%|          | 0/48 [00:00<?, ?it/s]"
     ]
    },
    {
     "name": "stderr",
     "output_type": "stream",
     "text": [
      "Creating tile containers for each WSI: 100%|██████████| 48/48 [00:19<00:00,  2.44it/s]"
     ]
    },
    {
     "name": "stdout",
     "output_type": "stream",
     "text": [
      "\n",
      "\u001b[92m✅ Created 48 tile containers\u001b[0m\n"
     ]
    },
    {
     "name": "stderr",
     "output_type": "stream",
     "text": [
      "\n"
     ]
    }
   ],
   "source": [
    "tile_db = WSITileDatabase(\n",
    "    wsi_dir=datapath,\n",
    "    tile_size=256,\n",
    "    level=6\n",
    ")"
   ]
  },
  {
   "cell_type": "code",
   "execution_count": 29,
   "id": "199d93c4",
   "metadata": {},
   "outputs": [
    {
     "name": "stderr",
     "output_type": "stream",
     "text": [
      "Extracting tiles from containers:   0%|          | 0/48 [00:00<?, ?it/s]"
     ]
    },
    {
     "name": "stderr",
     "output_type": "stream",
     "text": [
      "Extracting tiles from 779_17_HE_40x: 1224 tiles [00:00, 1293.37 tiles/s]                     \n",
      "Extracting tiles from 5342_24_A6: 1224 tiles [00:01, 780.29 tiles/s]                      \n",
      "Extracting tiles from 2336_17_HE_40x: 1224 tiles [00:01, 1037.26 tiles/s]                     \n",
      "Extracting tiles from 12104_24_A4: 1224 tiles [00:01, 952.97 tiles/s]                     \n",
      "Extracting tiles from 7532_21_A2_HE_20240515_2: 1224 tiles [00:01, 791.65 tiles/s]                     \n",
      "Extracting tiles from 8394_24_A4: 1224 tiles [00:01, 954.71 tiles/s]                       \n",
      "Extracting tiles from 518_17_HE_40x: 1224 tiles [00:00, 1390.57 tiles/s]                     \n",
      "Extracting tiles from 1968_17_HE_40x: 1224 tiles [00:00, 1786.86 tiles/s]                    \n",
      "Extracting tiles from 1170_17_HE_40x: 1224 tiles [00:00, 1320.49 tiles/s]                     \n",
      "Extracting tiles from 779-21_a2_HE_20230308_8: 1224 tiles [00:01, 704.03 tiles/s]                       \n",
      "Extracting tiles from 762_17_HE_40x: 1224 tiles [00:01, 1018.14 tiles/s]                    \n",
      "Extracting tiles from 3553_17_HE_40x: 1224 tiles [00:01, 1023.86 tiles/s]                    \n",
      "Extracting tiles from 6766_21_A3_HE_20240515: 1224 tiles [00:01, 892.73 tiles/s]                      \n",
      "Extracting tiles from 602_17_HE_40x: 1224 tiles [00:01, 1199.96 tiles/s]                     \n",
      "Extracting tiles from 779_21_a4_HE_20230712_2: 1224 tiles [00:02, 597.83 tiles/s]                      \n",
      "Extracting tiles from 7394_21_A7_HE_20240515: 1224 tiles [00:01, 1120.58 tiles/s]                     \n",
      "Extracting tiles from 4576_17_HE_40x: 1224 tiles [00:01, 1012.40 tiles/s]                     \n",
      "Extracting tiles from 897_17_HE_40x: 1224 tiles [00:00, 1272.71 tiles/s]                     \n",
      "Extracting tiles from 187_18_HE_40x: 1224 tiles [00:01, 866.69 tiles/s]                      \n",
      "Extracting tiles from 1251_17_HE_40x: 1224 tiles [00:00, 1394.58 tiles/s]                     \n",
      "Extracting tiles from 1728_12_HE_40x: 1224 tiles [00:00, 2246.18 tiles/s]                     \n",
      "Extracting tiles from 1484_17_HE_40x: 1224 tiles [00:01, 919.11 tiles/s]                     \n",
      "Extracting tiles from 7628_23_A4_HE_20240116_1: 1224 tiles [00:01, 822.59 tiles/s]                       \n",
      "Extracting tiles from 962_17_HE_40x: 1224 tiles [00:01, 1102.48 tiles/s]                     \n",
      "Extracting tiles from 290_23_A3_HE_20240116_1: 1224 tiles [00:01, 932.24 tiles/s]                       \n",
      "Extracting tiles from 109_17_HE_40x: 1224 tiles [00:01, 763.30 tiles/s]                     \n",
      "Extracting tiles from 3389_17_HE_40x: 1224 tiles [00:01, 1165.98 tiles/s]                    \n",
      "Extracting tiles from 92_17_HE_40x: 1224 tiles [00:00, 1226.71 tiles/s]                    \n",
      "Extracting tiles from 1898_17_HE_40x: 1224 tiles [00:01, 843.76 tiles/s]                     \n",
      "Extracting tiles from 2987_21_A3_HE_20240730_1: 1224 tiles [00:01, 745.23 tiles/s]                     \n",
      "Extracting tiles from 5003_11_HE_40x: 1224 tiles [00:01, 899.10 tiles/s]                      \n",
      "Extracting tiles from 977_17_HE_40x: 1224 tiles [00:01, 947.72 tiles/s]                     \n",
      "Extracting tiles from 4184_17_HE_40x: 1224 tiles [00:01, 989.20 tiles/s]                      \n",
      "Extracting tiles from 2488_17_HE_40x: 1224 tiles [00:01, 1048.62 tiles/s]                     \n",
      "Extracting tiles from 14674_24_A8: 1224 tiles [00:01, 881.60 tiles/s]                     \n",
      "Extracting tiles from 3610_17_HE_40x: 1224 tiles [00:00, 1501.14 tiles/s]                    \n",
      "Extracting tiles from 3312_17_HE_40x: 1224 tiles [00:01, 940.60 tiles/s]                      \n",
      "Extracting tiles from 995_18_HE_40x: 1224 tiles [00:01, 757.08 tiles/s]                     \n",
      "Extracting tiles from 1790_23_A3_HE_20240723_1: 1224 tiles [00:01, 759.88 tiles/s]                      \n",
      "Extracting tiles from 2353_17_HE_40x: 1224 tiles [00:01, 761.38 tiles/s]                     \n",
      "Extracting tiles from 2358_17_HE_40x: 1224 tiles [00:01, 1056.72 tiles/s]                     \n",
      "Extracting tiles from 1264_18_HE_40x: 1224 tiles [00:00, 1753.36 tiles/s]                    \n",
      "Extracting tiles from 5064_21_A4_HE_20240515: 1224 tiles [00:01, 772.99 tiles/s]                      \n",
      "Extracting tiles from 2553_18_HE_40x: 1224 tiles [00:01, 768.50 tiles/s]                      \n",
      "Extracting tiles from 2996_17_HE_40x: 1224 tiles [00:01, 830.76 tiles/s] .65s/it]\n",
      "Extracting tiles from 1111_17_HE_40x: 1224 tiles [00:01, 958.57 tiles/s]                      \n",
      "Extracting tiles from 3201_17_HE_40x: 1224 tiles [00:01, 769.94 tiles/s]                      \n",
      "Extracting tiles from 1790_23_A4_HE_20240603_1: 1224 tiles [00:01, 756.89 tiles/s]                     \n",
      "Extracting tiles from containers: 100%|██████████| 48/48 [02:35<00:00,  3.24s/it]"
     ]
    },
    {
     "name": "stdout",
     "output_type": "stream",
     "text": [
      "Merging annotations...\n",
      "\n",
      "\u001b[92m✅ Dataset saved to /storage01/bolma/dev/data/datasets/WSI-ROI/tiles. Total images: 5634\u001b[0m\n"
     ]
    },
    {
     "name": "stderr",
     "output_type": "stream",
     "text": [
      "\n"
     ]
    }
   ],
   "source": [
    "tile_db.save_dataset(Path(\"/storage01/bolma/dev/data/datasets/WSI-ROI/tiles\"))"
   ]
  }
 ],
 "metadata": {
  "kernelspec": {
   "display_name": ".venv",
   "language": "python",
   "name": "python3"
  },
  "language_info": {
   "codemirror_mode": {
    "name": "ipython",
    "version": 3
   },
   "file_extension": ".py",
   "mimetype": "text/x-python",
   "name": "python",
   "nbconvert_exporter": "python",
   "pygments_lexer": "ipython3",
   "version": "3.10.17"
  }
 },
 "nbformat": 4,
 "nbformat_minor": 5
}
