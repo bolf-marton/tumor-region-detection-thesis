{
      "cells": [
            {
                  "cell_type": "markdown",
                  "id": "3e2a7e22",
                  "metadata": {},
                  "source": [
                        "# Initializing"
                  ]
            },
            {
                  "cell_type": "code",
                  "execution_count": 2,
                  "id": "fe5fc339",
                  "metadata": {},
                  "outputs": [],
                  "source": [
                        "%load_ext autoreload\n",
                        "%autoreload 2"
                  ]
            },
            {
                  "cell_type": "code",
                  "execution_count": 3,
                  "id": "de84c463",
                  "metadata": {},
                  "outputs": [
                        {
                              "data": {
                                    "text/plain": [
                                          "<torch._C.Generator at 0x7ff981e2dab0>"
                                    ]
                              },
                              "execution_count": 3,
                              "metadata": {},
                              "output_type": "execute_result"
                        }
                  ],
                  "source": [
                        "import comet_ml\n",
                        "import os\n",
                        "import torch\n",
                        "from torch.utils.data import DataLoader\n",
                        "from pathlib import Path\n",
                        "\n",
                        "from src.utils.coco import COCODataset\n",
                        "from src.utils.pretty_print import *\n",
                        "from src.models import get_model_unet\n",
                        "from src.utils.train import unet_training_testing_loop\n",
                        "from src.utils.comet import CometLogger\n",
                        "from dotenv import load_dotenv\n",
                        "\n",
                        "os.environ[\"CUDA_VISIBLE_DEVICES\"] = \"0\"\n",
                        "device = \"cuda\" if torch.cuda.is_available() else \"cpu\"\n",
                        "\n",
                        "SEED = 42\n",
                        "\n",
                        "# for reproducibility\n",
                        "torch.manual_seed(SEED)"
                  ]
            },
            {
                  "cell_type": "markdown",
                  "id": "d80b7154",
                  "metadata": {},
                  "source": [
                        "# Datasets"
                  ]
            },
            {
                  "cell_type": "markdown",
                  "id": "2e321c6f",
                  "metadata": {},
                  "source": [
                        "## COCO Datasets"
                  ]
            },
            {
                  "cell_type": "code",
                  "execution_count": 4,
                  "id": "1e01a944",
                  "metadata": {},
                  "outputs": [],
                  "source": [
                        "slide_path = Path(\"/storage01/bolma/dev/data/datasets/WSI-ROI/slides/l8/annotations.json\")"
                  ]
            },
            {
                  "cell_type": "code",
                  "execution_count": 5,
                  "id": "8eb08998",
                  "metadata": {},
                  "outputs": [
                        {
                              "name": "stderr",
                              "output_type": "stream",
                              "text": [
                                    "/storage01/bolma/dev/tumor-region-detection-thesis/.venv/lib/python3.10/site-packages/albumentations/__init__.py:28: UserWarning: A new version of Albumentations is available: '2.0.6' (you have '2.0.5'). Upgrade using: pip install -U albumentations. To disable automatic update checks, set the environment variable NO_ALBUMENTATIONS_UPDATE to 1.\n",
                                    "  check_for_updates()\n",
                                    "/storage01/bolma/dev/tumor-region-detection-thesis/.venv/lib/python3.10/site-packages/albumentations/core/composition.py:250: UserWarning: Got processor for bboxes, but no transform to process it.\n",
                                    "  self._set_keys()\n"
                              ]
                        }
                  ],
                  "source": [
                        "import albumentations as A\n",
                        "\n",
                        "transform = A.Compose([\n",
                        "    #A.HorizontalFlip(0.5),\n",
                        "    #A.VerticalFlip(0.5),\n",
                        "    A.ToTensorV2(),\n",
                        "], bbox_params=A.BboxParams(format='pascal_voc',label_fields=['class_labels']))\n"
                  ]
            },
            {
                  "cell_type": "code",
                  "execution_count": 6,
                  "id": "a7fc1eb5",
                  "metadata": {},
                  "outputs": [
                        {
                              "name": "stdout",
                              "output_type": "stream",
                              "text": [
                                    "loading annotations into memory...\n",
                                    "Done (t=0.01s)\n",
                                    "creating index...\n",
                                    "index created!\n",
                                    "\n",
                                    "\u001b[92m✅ Loaded split from dataset_split.json\u001b[0m\n",
                                    "\n",
                                    "\u001b[92m✅ Found 38 training images and 10 test images\u001b[0m\n",
                                    "\n",
                                    "\u001b[92m✅ Loaded training set with 38 images\n",
                                    "\u001b[0m\n",
                                    "loading annotations into memory...\n",
                                    "Done (t=0.01s)\n",
                                    "creating index...\n",
                                    "index created!\n",
                                    "\n",
                                    "\u001b[92m✅ Loaded split from dataset_split.json\u001b[0m\n",
                                    "\n",
                                    "\u001b[92m✅ Found 38 training images and 10 test images\u001b[0m\n",
                                    "\n",
                                    "\u001b[92m✅ Loaded test set with 10 images\n",
                                    "\u001b[0m\n",
                                    "Training image id-s: \t{0, 1, 2, 3, 4, 6, 7, 10, 11, 13, 14, 15, 16, 17, 18, 19, 20, 21, 22, 23, 26, 28, 29, 31, 32, 33, 34, 35, 36, 38, 39, 40, 41, 42, 43, 44, 45, 47}\n",
                                    "\n",
                                    "Test image id-s: \t{5, 37, 8, 9, 12, 46, 24, 25, 27, 30}\n",
                                    "\n",
                                    "\u001b[92m✅ Datasets are properly split and ready to use!\u001b[0m\n"
                              ]
                        }
                  ],
                  "source": [
                        "train_dataset = COCODataset(\n",
                        "    annotation_file=slide_path,\n",
                        "    train=True,\n",
                        "    transform=None,\n",
                        "    random_seed=SEED,\n",
                        "    split_file=Path(\"dataset_split.json\"),\n",
                        "    bbox_format='pascal_voc'\n",
                        ")\n",
                        "\n",
                        "test_dataset = COCODataset(\n",
                        "    annotation_file=slide_path,\n",
                        "    train=False,\n",
                        "    transform=None,\n",
                        "    random_seed=SEED,\n",
                        "    split_file=Path(\"dataset_split.json\"),\n",
                        "    bbox_format='pascal_voc'\n",
                        ")\n",
                        "\n",
                        "# Checks\n",
                        "train_images = set(id for id in train_dataset.image_ids)\n",
                        "test_images = set(id for id in test_dataset.image_ids)\n",
                        "\n",
                        "print(f\"Training image id-s: \\t{train_images}\")\n",
                        "print(f\"\\nTest image id-s: \\t{test_images}\")\n",
                        "\n",
                        "# Overlapping images between datasets\n",
                        "overlapping_images = train_images.intersection(test_images)\n",
                        "\n",
                        "if overlapping_images:\n",
                        "    print(\"\\n[WARNING]: Overlapping images found:\")\n",
                        "    for img in overlapping_images:\n",
                        "        print(f\"- {img}\")\n",
                        "else:\n",
                        "    print_success(\"Datasets are properly split and ready to use!\")\n",
                        "\n"
                  ]
            },
            {
                  "cell_type": "markdown",
                  "id": "999e11c0",
                  "metadata": {},
                  "source": [
                        "### Visualization"
                  ]
            },
            {
                  "cell_type": "code",
                  "execution_count": 7,
                  "id": "cb89d88e",
                  "metadata": {},
                  "outputs": [
                        {
                              "name": "stderr",
                              "output_type": "stream",
                              "text": [
                                    "/storage01/bolma/dev/tumor-region-detection-thesis/src/utils/coco.py:211: UserWarning: Creating a tensor from a list of numpy.ndarrays is extremely slow. Please consider converting the list to a single numpy.ndarray with numpy.array() before converting to a tensor. (Triggered internally at /pytorch/torch/csrc/utils/tensor_new.cpp:254.)\n",
                                    "  target[\"masks\"] = torch.as_tensor(masks, dtype=torch.uint8)\n"
                              ]
                        },
                        {
                              "name": "stdout",
                              "output_type": "stream",
                              "text": [
                                    "Training Dataset Examples:\n",
                                    "Image index: 5 (Image ID: 6)\n"
                              ]
                        },
                        {
                              "data": {
                                    "image/png": "[encoded data removed]",
                                    "text/plain": [
                                          "<Figure size 1500x500 with 1 Axes>"
                                    ]
                              },
                              "metadata": {},
                              "output_type": "display_data"
                        },
                        {
                              "name": "stdout",
                              "output_type": "stream",
                              "text": [
                                    "Image index: 1 (Image ID: 1)\n"
                              ]
                        },
                        {
                              "data": {
                                    "image/png": "[encoded data removed]",
                                    "text/plain": [
                                          "<Figure size 1500x500 with 1 Axes>"
                                    ]
                              },
                              "metadata": {},
                              "output_type": "display_data"
                        }
                  ],
                  "source": [
                        "import matplotlib.pyplot as plt\n",
                        "import numpy as np\n",
                        "import torch\n",
                        "import random\n",
                        "from matplotlib.patches import Rectangle\n",
                        "\n",
                        "def visualize_coco_samples(dataset, num_samples=3, indices=None, figsize=(15, 5), \n",
                        "                          show_masks=True, show_boxes=True, show_labels=True,\n",
                        "                          mask_alpha=0.3, random_color=True):\n",
                        "    \"\"\"\n",
                        "    Visualizes samples from COCO dataset with annotations.\n",
                        "    \"\"\"\n",
                        "    if indices is None:\n",
                        "        # Get random indices\n",
                        "        indices = random.sample(range(len(dataset)), min(num_samples, len(dataset)))\n",
                        "    \n",
                        "    for idx in indices:\n",
                        "        print(f\"Image index: {idx} (Image ID: {dataset.image_ids[idx]})\")\n",
                        "        image, target = dataset[idx]\n",
                        "        \n",
                        "        # If image is a tensor, convert to numpy array for visualization\n",
                        "        if isinstance(image, torch.Tensor):\n",
                        "            img = image.cpu().numpy().transpose(1, 2, 0)\n",
                        "            # Use consistent scaling - divide by 255 instead of min-max normalization\n",
                        "            img = img / 255.0\n",
                        "            # Clip to valid range\n",
                        "            img = np.clip(img, 0, 1)\n",
                        "        else:\n",
                        "            img = np.array(image) / 255.0\n",
                        "        \n",
                        "        # Create figure and axes\n",
                        "        fig, ax = plt.subplots(figsize=figsize)\n",
                        "        \n",
                        "        # Display image\n",
                        "        ax.imshow(img)\n",
                        "        \n",
                        "        # Get masks, boxes, and labels from target\n",
                        "        masks = target['masks']\n",
                        "        boxes = target['boxes']\n",
                        "        labels = target['labels']\n",
                        "        \n",
                        "        # Create a single combined overlay for all masks\n",
                        "        if show_masks and len(masks) > 0:\n",
                        "            # Initialize combined overlay\n",
                        "            h, w = masks[0].shape if len(masks) > 0 else img.shape[:2]\n",
                        "            combined_overlay = np.zeros((h, w, 4))  # RGBA image for overlay\n",
                        "            \n",
                        "            for i in range(len(masks)):\n",
                        "                if i < len(masks):\n",
                        "                    # Generate color for this instance\n",
                        "                    if random_color:\n",
                        "                        color = np.random.rand(3)\n",
                        "                    else:\n",
                        "                        cmap = plt.cm.get_cmap('tab10')\n",
                        "                        color = cmap(labels[i] % 10)[:3]\n",
                        "                    \n",
                        "                    # Add this mask to the combined overlay\n",
                        "                    mask = masks[i].cpu().numpy()\n",
                        "                    combined_overlay[mask == 1, :3] = color\n",
                        "                    combined_overlay[mask == 1, 3] = mask_alpha  # Set alpha channel\n",
                        "            \n",
                        "            # Apply the combined overlay\n",
                        "            ax.imshow(combined_overlay)\n",
                        "        \n",
                        "        # Display bounding boxes and labels\n",
                        "        for i in range(len(boxes)):\n",
                        "            # Generate color for this instance\n",
                        "            if random_color:\n",
                        "                color = np.random.rand(3)\n",
                        "            else:\n",
                        "                cmap = plt.cm.get_cmap('tab10')\n",
                        "                color = cmap(labels[i] % 10)[:3]\n",
                        "            \n",
                        "            # Display bounding box if requested\n",
                        "            if show_boxes and i < len(boxes):\n",
                        "                box = boxes[i].cpu().numpy()\n",
                        "                x1, y1, x2, y2 = box\n",
                        "                width = x2 - x1\n",
                        "                height = y2 - y1\n",
                        "                rect = Rectangle((x1, y1), width, height, \n",
                        "                                linewidth=2, edgecolor=color, facecolor='none')\n",
                        "                ax.add_patch(rect)\n",
                        "                \n",
                        "                # Display category label if requested\n",
                        "                if show_labels:\n",
                        "                    category_id = labels[i].item()\n",
                        "                    category_name = dataset.categories.get(category_id, str(category_id))\n",
                        "                    ax.text(x1, y1-5, category_name, color=color, \n",
                        "                           fontsize=10, backgroundcolor='white')\n",
                        "        \n",
                        "        ax.axis('off')\n",
                        "        plt.tight_layout()\n",
                        "        plt.show()\n",
                        "\n",
                        "print(\"Training Dataset Examples:\")\n",
                        "visualize_coco_samples(train_dataset, num_samples=2)"
                  ]
            },
            {
                  "cell_type": "markdown",
                  "id": "2cfdfb83",
                  "metadata": {},
                  "source": [
                        "## Dataloaders"
                  ]
            },
            {
                  "cell_type": "code",
                  "execution_count": 8,
                  "id": "d247fd9b",
                  "metadata": {},
                  "outputs": [],
                  "source": [
                        "BATCH_SIZE = 1\n",
                        "NUM_WORKERS = 8"
                  ]
            },
            {
                  "cell_type": "code",
                  "execution_count": 9,
                  "id": "3583424d",
                  "metadata": {},
                  "outputs": [
                        {
                              "name": "stdout",
                              "output_type": "stream",
                              "text": [
                                    "\n",
                                    "ℹ️ Created DataLoaders with batch size 1\n",
                                    "\t- Training batches: 38\n",
                                    "\t- Test batches: 10\n"
                              ]
                        }
                  ],
                  "source": [
                        "train_dataloader = DataLoader(\n",
                        "    train_dataset,\n",
                        "    batch_size=BATCH_SIZE,\n",
                        "    shuffle=True,\n",
                        "    num_workers=NUM_WORKERS,\n",
                        "    #collate_fn=lambda x: tuple(zip(*x))  # To handle variable size images/masks\n",
                        ")\n",
                        "\n",
                        "test_dataloader = DataLoader(\n",
                        "    test_dataset,\n",
                        "    batch_size=BATCH_SIZE,\n",
                        "    shuffle=False,\n",
                        "    num_workers=NUM_WORKERS,\n",
                        "    #collate_fn=lambda x: tuple(zip(*x))\n",
                        ")\n",
                        "\n",
                        "print_info(f\"Created DataLoaders with batch size {BATCH_SIZE}\")\n",
                        "print(f\"\\t- Training batches: {len(train_dataloader)}\")\n",
                        "print(f\"\\t- Test batches: {len(test_dataloader)}\")"
                  ]
            },
            {
                  "cell_type": "markdown",
                  "id": "63824b58",
                  "metadata": {},
                  "source": [
                        "# Training"
                  ]
            },
            {
                  "cell_type": "markdown",
                  "id": "2211ced7",
                  "metadata": {},
                  "source": [
                        "## Model architecture"
                  ]
            },
            {
                  "cell_type": "code",
                  "execution_count": 10,
                  "id": "59be6ac7",
                  "metadata": {},
                  "outputs": [],
                  "source": [
                        "unet = get_model_unet(in_channels=3,\n",
                        "                          out_channels=1,\n",
                        "                          features=[32, 64, 128, 256])\n",
                        "\n",
                        "optimizer = torch.optim.SGD(unet.parameters(), lr=0.01, momentum=0.9)\n",
                        "scheduler = torch.optim.lr_scheduler.ReduceLROnPlateau(optimizer, mode='max', factor=0.1, patience=10)"
                  ]
            },
            {
                  "cell_type": "markdown",
                  "id": "0d1c6712",
                  "metadata": {},
                  "source": [
                        "## Training loop"
                  ]
            },
            {
                  "cell_type": "code",
                  "execution_count": 11,
                  "id": "fad85886",
                  "metadata": {},
                  "outputs": [
                        {
                              "name": "stderr",
                              "output_type": "stream",
                              "text": [
                                    "\u001b[1;38;5;214mCOMET WARNING:\u001b[0m As you are running in a Jupyter environment, you will need to call `experiment.end()` when finished to ensure all metrics and code are logged before exiting.\n"
                              ]
                        },
                        {
                              "name": "stderr",
                              "output_type": "stream",
                              "text": [
                                    "\u001b[1;38;5;39mCOMET INFO:\u001b[0m Experiment is live on comet.com https://www.comet.com/bolf-marton/msc-thesis/88e2a597323e4030b28b4d4a7afada91\n",
                                    "\n"
                              ]
                        },
                        {
                              "name": "stdout",
                              "output_type": "stream",
                              "text": [
                                    "\n",
                                    "🚀 STARTING TRAINING\n",
                                    "-----------------------\n",
                                    "Epoch 1/30 - UNet-valid\n",
                                    "-----------------------\n"
                              ]
                        },
                        {
                              "name": "stderr",
                              "output_type": "stream",
                              "text": [
                                    "100%|██████████| 38/38 [00:04<00:00,  8.23it/s]\n"
                              ]
                        },
                        {
                              "name": "stdout",
                              "output_type": "stream",
                              "text": [
                                    "Train – Mean Loss: 0.8220\n"
                              ]
                        },
                        {
                              "name": "stderr",
                              "output_type": "stream",
                              "text": [
                                    "100%|██████████| 10/10 [00:01<00:00,  9.56it/s]\n"
                              ]
                        },
                        {
                              "name": "stdout",
                              "output_type": "stream",
                              "text": [
                                    "Test – IoU: 0.5633, Loss: 0.7620\n",
                                    "-----------------------\n",
                                    "Epoch 2/30 - UNet-valid\n",
                                    "-----------------------\n"
                              ]
                        },
                        {
                              "name": "stderr",
                              "output_type": "stream",
                              "text": [
                                    "100%|██████████| 38/38 [00:03<00:00,  9.64it/s]\n"
                              ]
                        },
                        {
                              "name": "stdout",
                              "output_type": "stream",
                              "text": [
                                    "Train – Mean Loss: 0.7224\n"
                              ]
                        },
                        {
                              "name": "stderr",
                              "output_type": "stream",
                              "text": [
                                    "100%|██████████| 10/10 [00:01<00:00,  9.25it/s]\n"
                              ]
                        },
                        {
                              "name": "stdout",
                              "output_type": "stream",
                              "text": [
                                    "Test – IoU: 0.5716, Loss: 0.7083\n",
                                    "-----------------------\n",
                                    "Epoch 3/30 - UNet-valid\n",
                                    "-----------------------\n"
                              ]
                        },
                        {
                              "name": "stderr",
                              "output_type": "stream",
                              "text": [
                                    "100%|██████████| 38/38 [00:04<00:00,  9.38it/s]\n"
                              ]
                        },
                        {
                              "name": "stdout",
                              "output_type": "stream",
                              "text": [
                                    "Train – Mean Loss: 0.6978\n"
                              ]
                        },
                        {
                              "name": "stderr",
                              "output_type": "stream",
                              "text": [
                                    "100%|██████████| 10/10 [00:01<00:00,  9.08it/s]\n"
                              ]
                        },
                        {
                              "name": "stdout",
                              "output_type": "stream",
                              "text": [
                                    "Test – IoU: 0.5850, Loss: 0.6966\n",
                                    "-----------------------\n",
                                    "Epoch 4/30 - UNet-valid\n",
                                    "-----------------------\n"
                              ]
                        },
                        {
                              "name": "stderr",
                              "output_type": "stream",
                              "text": [
                                    "100%|██████████| 38/38 [00:04<00:00,  8.74it/s]\n"
                              ]
                        },
                        {
                              "name": "stdout",
                              "output_type": "stream",
                              "text": [
                                    "Train – Mean Loss: 0.6889\n"
                              ]
                        },
                        {
                              "name": "stderr",
                              "output_type": "stream",
                              "text": [
                                    "100%|██████████| 10/10 [00:01<00:00,  6.22it/s]\n"
                              ]
                        },
                        {
                              "name": "stdout",
                              "output_type": "stream",
                              "text": [
                                    "Test – IoU: 0.5888, Loss: 0.6921\n",
                                    "-----------------------\n",
                                    "Epoch 5/30 - UNet-valid\n",
                                    "-----------------------\n"
                              ]
                        },
                        {
                              "name": "stderr",
                              "output_type": "stream",
                              "text": [
                                    "100%|██████████| 38/38 [00:06<00:00,  6.01it/s]\n"
                              ]
                        },
                        {
                              "name": "stdout",
                              "output_type": "stream",
                              "text": [
                                    "Train – Mean Loss: 0.6835\n"
                              ]
                        },
                        {
                              "name": "stderr",
                              "output_type": "stream",
                              "text": [
                                    "100%|██████████| 10/10 [00:01<00:00,  8.11it/s]\n"
                              ]
                        },
                        {
                              "name": "stdout",
                              "output_type": "stream",
                              "text": [
                                    "Test – IoU: 0.5915, Loss: 0.6832\n",
                                    "-----------------------\n",
                                    "Epoch 6/30 - UNet-valid\n",
                                    "-----------------------\n"
                              ]
                        },
                        {
                              "name": "stderr",
                              "output_type": "stream",
                              "text": [
                                    "100%|██████████| 38/38 [00:06<00:00,  5.83it/s]\n"
                              ]
                        },
                        {
                              "name": "stdout",
                              "output_type": "stream",
                              "text": [
                                    "Train – Mean Loss: 0.6800\n"
                              ]
                        },
                        {
                              "name": "stderr",
                              "output_type": "stream",
                              "text": [
                                    "100%|██████████| 10/10 [00:01<00:00,  5.86it/s]\n"
                              ]
                        },
                        {
                              "name": "stdout",
                              "output_type": "stream",
                              "text": [
                                    "Test – IoU: 0.5283, Loss: 0.6811\n",
                                    "-----------------------\n",
                                    "Epoch 7/30 - UNet-valid\n",
                                    "-----------------------\n"
                              ]
                        },
                        {
                              "name": "stderr",
                              "output_type": "stream",
                              "text": [
                                    "100%|██████████| 38/38 [00:05<00:00,  6.41it/s]\n"
                              ]
                        },
                        {
                              "name": "stdout",
                              "output_type": "stream",
                              "text": [
                                    "Train – Mean Loss: 0.6788\n"
                              ]
                        },
                        {
                              "name": "stderr",
                              "output_type": "stream",
                              "text": [
                                    "100%|██████████| 10/10 [00:01<00:00,  8.09it/s]\n"
                              ]
                        },
                        {
                              "name": "stdout",
                              "output_type": "stream",
                              "text": [
                                    "Test – IoU: 0.5998, Loss: 0.6846\n",
                                    "-----------------------\n",
                                    "Epoch 8/30 - UNet-valid\n",
                                    "-----------------------\n"
                              ]
                        },
                        {
                              "name": "stderr",
                              "output_type": "stream",
                              "text": [
                                    "100%|██████████| 38/38 [00:06<00:00,  5.52it/s]\n"
                              ]
                        },
                        {
                              "name": "stdout",
                              "output_type": "stream",
                              "text": [
                                    "Train – Mean Loss: 0.6755\n"
                              ]
                        },
                        {
                              "name": "stderr",
                              "output_type": "stream",
                              "text": [
                                    "100%|██████████| 10/10 [00:01<00:00,  6.27it/s]\n"
                              ]
                        },
                        {
                              "name": "stdout",
                              "output_type": "stream",
                              "text": [
                                    "Test – IoU: 0.6003, Loss: 0.6848\n",
                                    "-----------------------\n",
                                    "Epoch 9/30 - UNet-valid\n",
                                    "-----------------------\n"
                              ]
                        },
                        {
                              "name": "stderr",
                              "output_type": "stream",
                              "text": [
                                    "100%|██████████| 38/38 [00:06<00:00,  5.63it/s]\n"
                              ]
                        },
                        {
                              "name": "stdout",
                              "output_type": "stream",
                              "text": [
                                    "Train – Mean Loss: 0.6748\n"
                              ]
                        },
                        {
                              "name": "stderr",
                              "output_type": "stream",
                              "text": [
                                    "100%|██████████| 10/10 [00:01<00:00,  8.83it/s]\n"
                              ]
                        },
                        {
                              "name": "stdout",
                              "output_type": "stream",
                              "text": [
                                    "Test – IoU: 0.5635, Loss: 0.6785\n",
                                    "------------------------\n",
                                    "Epoch 10/30 - UNet-valid\n",
                                    "------------------------\n"
                              ]
                        },
                        {
                              "name": "stderr",
                              "output_type": "stream",
                              "text": [
                                    "100%|██████████| 38/38 [00:06<00:00,  5.91it/s]\n"
                              ]
                        },
                        {
                              "name": "stdout",
                              "output_type": "stream",
                              "text": [
                                    "Train – Mean Loss: 0.6726\n"
                              ]
                        },
                        {
                              "name": "stderr",
                              "output_type": "stream",
                              "text": [
                                    "100%|██████████| 10/10 [00:01<00:00,  6.15it/s]\n"
                              ]
                        },
                        {
                              "name": "stdout",
                              "output_type": "stream",
                              "text": [
                                    "Test – IoU: 0.4783, Loss: 0.6786\n",
                                    "------------------------\n",
                                    "Epoch 11/30 - UNet-valid\n",
                                    "------------------------\n"
                              ]
                        },
                        {
                              "name": "stderr",
                              "output_type": "stream",
                              "text": [
                                    "100%|██████████| 38/38 [00:05<00:00,  6.35it/s]\n"
                              ]
                        },
                        {
                              "name": "stdout",
                              "output_type": "stream",
                              "text": [
                                    "Train – Mean Loss: 0.6719\n"
                              ]
                        },
                        {
                              "name": "stderr",
                              "output_type": "stream",
                              "text": [
                                    "100%|██████████| 10/10 [00:01<00:00,  7.96it/s]\n"
                              ]
                        },
                        {
                              "name": "stdout",
                              "output_type": "stream",
                              "text": [
                                    "Test – IoU: 0.4273, Loss: 0.6789\n",
                                    "------------------------\n",
                                    "Epoch 12/30 - UNet-valid\n",
                                    "------------------------\n"
                              ]
                        },
                        {
                              "name": "stderr",
                              "output_type": "stream",
                              "text": [
                                    "100%|██████████| 38/38 [00:06<00:00,  5.57it/s]\n"
                              ]
                        },
                        {
                              "name": "stdout",
                              "output_type": "stream",
                              "text": [
                                    "Train – Mean Loss: 0.6714\n"
                              ]
                        },
                        {
                              "name": "stderr",
                              "output_type": "stream",
                              "text": [
                                    "100%|██████████| 10/10 [00:01<00:00,  7.68it/s]\n"
                              ]
                        },
                        {
                              "name": "stdout",
                              "output_type": "stream",
                              "text": [
                                    "Test – IoU: 0.6037, Loss: 0.6795\n",
                                    "------------------------\n",
                                    "Epoch 13/30 - UNet-valid\n",
                                    "------------------------\n"
                              ]
                        },
                        {
                              "name": "stderr",
                              "output_type": "stream",
                              "text": [
                                    "100%|██████████| 38/38 [00:06<00:00,  5.87it/s]\n"
                              ]
                        },
                        {
                              "name": "stdout",
                              "output_type": "stream",
                              "text": [
                                    "Train – Mean Loss: 0.6694\n"
                              ]
                        },
                        {
                              "name": "stderr",
                              "output_type": "stream",
                              "text": [
                                    "100%|██████████| 10/10 [00:01<00:00,  7.37it/s]\n"
                              ]
                        },
                        {
                              "name": "stdout",
                              "output_type": "stream",
                              "text": [
                                    "Test – IoU: 0.5773, Loss: 0.6730\n",
                                    "------------------------\n",
                                    "Epoch 14/30 - UNet-valid\n",
                                    "------------------------\n"
                              ]
                        },
                        {
                              "name": "stderr",
                              "output_type": "stream",
                              "text": [
                                    "100%|██████████| 38/38 [00:06<00:00,  5.97it/s]\n"
                              ]
                        },
                        {
                              "name": "stdout",
                              "output_type": "stream",
                              "text": [
                                    "Train – Mean Loss: 0.6688\n"
                              ]
                        },
                        {
                              "name": "stderr",
                              "output_type": "stream",
                              "text": [
                                    "100%|██████████| 10/10 [00:01<00:00,  8.28it/s]\n"
                              ]
                        },
                        {
                              "name": "stdout",
                              "output_type": "stream",
                              "text": [
                                    "Test – IoU: 0.5277, Loss: 0.6764\n",
                                    "------------------------\n",
                                    "Epoch 15/30 - UNet-valid\n",
                                    "------------------------\n"
                              ]
                        },
                        {
                              "name": "stderr",
                              "output_type": "stream",
                              "text": [
                                    "100%|██████████| 38/38 [00:06<00:00,  5.82it/s]\n"
                              ]
                        },
                        {
                              "name": "stdout",
                              "output_type": "stream",
                              "text": [
                                    "Train – Mean Loss: 0.6692\n"
                              ]
                        },
                        {
                              "name": "stderr",
                              "output_type": "stream",
                              "text": [
                                    "100%|██████████| 10/10 [00:01<00:00,  7.81it/s]\n"
                              ]
                        },
                        {
                              "name": "stdout",
                              "output_type": "stream",
                              "text": [
                                    "Test – IoU: 0.6056, Loss: 0.6791\n",
                                    "------------------------\n",
                                    "Epoch 16/30 - UNet-valid\n",
                                    "------------------------\n"
                              ]
                        },
                        {
                              "name": "stderr",
                              "output_type": "stream",
                              "text": [
                                    "100%|██████████| 38/38 [00:06<00:00,  5.91it/s]\n"
                              ]
                        },
                        {
                              "name": "stdout",
                              "output_type": "stream",
                              "text": [
                                    "Train – Mean Loss: 0.6673\n"
                              ]
                        },
                        {
                              "name": "stderr",
                              "output_type": "stream",
                              "text": [
                                    "100%|██████████| 10/10 [00:01<00:00,  8.20it/s]\n"
                              ]
                        },
                        {
                              "name": "stdout",
                              "output_type": "stream",
                              "text": [
                                    "Test – IoU: 0.5719, Loss: 0.6697\n",
                                    "------------------------\n",
                                    "Epoch 17/30 - UNet-valid\n",
                                    "------------------------\n"
                              ]
                        },
                        {
                              "name": "stderr",
                              "output_type": "stream",
                              "text": [
                                    "100%|██████████| 38/38 [00:06<00:00,  6.02it/s]\n"
                              ]
                        },
                        {
                              "name": "stdout",
                              "output_type": "stream",
                              "text": [
                                    "Train – Mean Loss: 0.6675\n"
                              ]
                        },
                        {
                              "name": "stderr",
                              "output_type": "stream",
                              "text": [
                                    "100%|██████████| 10/10 [00:01<00:00,  7.88it/s]\n"
                              ]
                        },
                        {
                              "name": "stdout",
                              "output_type": "stream",
                              "text": [
                                    "Test – IoU: 0.6176, Loss: 0.6840\n",
                                    "------------------------\n",
                                    "Epoch 18/30 - UNet-valid\n",
                                    "------------------------\n"
                              ]
                        },
                        {
                              "name": "stderr",
                              "output_type": "stream",
                              "text": [
                                    "100%|██████████| 38/38 [00:06<00:00,  5.85it/s]\n"
                              ]
                        },
                        {
                              "name": "stdout",
                              "output_type": "stream",
                              "text": [
                                    "Train – Mean Loss: 0.6658\n"
                              ]
                        },
                        {
                              "name": "stderr",
                              "output_type": "stream",
                              "text": [
                                    "100%|██████████| 10/10 [00:01<00:00,  7.87it/s]\n"
                              ]
                        },
                        {
                              "name": "stdout",
                              "output_type": "stream",
                              "text": [
                                    "Test – IoU: 0.6190, Loss: 0.6773\n",
                                    "------------------------\n",
                                    "Epoch 19/30 - UNet-valid\n",
                                    "------------------------\n"
                              ]
                        },
                        {
                              "name": "stderr",
                              "output_type": "stream",
                              "text": [
                                    "100%|██████████| 38/38 [00:05<00:00,  6.68it/s]\n"
                              ]
                        },
                        {
                              "name": "stdout",
                              "output_type": "stream",
                              "text": [
                                    "Train – Mean Loss: 0.6655\n"
                              ]
                        },
                        {
                              "name": "stderr",
                              "output_type": "stream",
                              "text": [
                                    "100%|██████████| 10/10 [00:01<00:00,  7.64it/s]\n"
                              ]
                        },
                        {
                              "name": "stdout",
                              "output_type": "stream",
                              "text": [
                                    "Test – IoU: 0.6303, Loss: 0.6809\n",
                                    "------------------------\n",
                                    "Epoch 20/30 - UNet-valid\n",
                                    "------------------------\n"
                              ]
                        },
                        {
                              "name": "stderr",
                              "output_type": "stream",
                              "text": [
                                    "100%|██████████| 38/38 [00:05<00:00,  6.39it/s]\n"
                              ]
                        },
                        {
                              "name": "stdout",
                              "output_type": "stream",
                              "text": [
                                    "Train – Mean Loss: 0.6648\n"
                              ]
                        },
                        {
                              "name": "stderr",
                              "output_type": "stream",
                              "text": [
                                    "100%|██████████| 10/10 [00:01<00:00,  5.78it/s]\n"
                              ]
                        },
                        {
                              "name": "stdout",
                              "output_type": "stream",
                              "text": [
                                    "Test – IoU: 0.6054, Loss: 0.6831\n",
                                    "------------------------\n",
                                    "Epoch 21/30 - UNet-valid\n",
                                    "------------------------\n"
                              ]
                        },
                        {
                              "name": "stderr",
                              "output_type": "stream",
                              "text": [
                                    "100%|██████████| 38/38 [00:05<00:00,  6.41it/s]\n"
                              ]
                        },
                        {
                              "name": "stdout",
                              "output_type": "stream",
                              "text": [
                                    "Train – Mean Loss: 0.6657\n"
                              ]
                        },
                        {
                              "name": "stderr",
                              "output_type": "stream",
                              "text": [
                                    "100%|██████████| 10/10 [00:01<00:00,  7.96it/s]\n"
                              ]
                        },
                        {
                              "name": "stdout",
                              "output_type": "stream",
                              "text": [
                                    "Test – IoU: 0.2997, Loss: 0.6758\n",
                                    "------------------------\n",
                                    "Epoch 22/30 - UNet-valid\n",
                                    "------------------------\n"
                              ]
                        },
                        {
                              "name": "stderr",
                              "output_type": "stream",
                              "text": [
                                    "100%|██████████| 38/38 [00:06<00:00,  5.97it/s]\n"
                              ]
                        },
                        {
                              "name": "stdout",
                              "output_type": "stream",
                              "text": [
                                    "Train – Mean Loss: 0.6649\n"
                              ]
                        },
                        {
                              "name": "stderr",
                              "output_type": "stream",
                              "text": [
                                    "100%|██████████| 10/10 [00:01<00:00,  7.58it/s]\n"
                              ]
                        },
                        {
                              "name": "stdout",
                              "output_type": "stream",
                              "text": [
                                    "Test – IoU: 0.6337, Loss: 0.6816\n",
                                    "------------------------\n",
                                    "Epoch 23/30 - UNet-valid\n",
                                    "------------------------\n"
                              ]
                        },
                        {
                              "name": "stderr",
                              "output_type": "stream",
                              "text": [
                                    "100%|██████████| 38/38 [00:05<00:00,  6.76it/s]\n"
                              ]
                        },
                        {
                              "name": "stdout",
                              "output_type": "stream",
                              "text": [
                                    "Train – Mean Loss: 0.6642\n"
                              ]
                        },
                        {
                              "name": "stderr",
                              "output_type": "stream",
                              "text": [
                                    "100%|██████████| 10/10 [00:01<00:00,  7.34it/s]\n"
                              ]
                        },
                        {
                              "name": "stdout",
                              "output_type": "stream",
                              "text": [
                                    "Test – IoU: 0.6268, Loss: 0.6968\n",
                                    "------------------------\n",
                                    "Epoch 24/30 - UNet-valid\n",
                                    "------------------------\n"
                              ]
                        },
                        {
                              "name": "stderr",
                              "output_type": "stream",
                              "text": [
                                    "100%|██████████| 38/38 [00:06<00:00,  5.76it/s]\n"
                              ]
                        },
                        {
                              "name": "stdout",
                              "output_type": "stream",
                              "text": [
                                    "Train – Mean Loss: 0.6631\n"
                              ]
                        },
                        {
                              "name": "stderr",
                              "output_type": "stream",
                              "text": [
                                    "100%|██████████| 10/10 [00:01<00:00,  8.31it/s]\n"
                              ]
                        },
                        {
                              "name": "stdout",
                              "output_type": "stream",
                              "text": [
                                    "Test – IoU: 0.5769, Loss: 0.7194\n",
                                    "------------------------\n",
                                    "Epoch 25/30 - UNet-valid\n",
                                    "------------------------\n"
                              ]
                        },
                        {
                              "name": "stderr",
                              "output_type": "stream",
                              "text": [
                                    "100%|██████████| 38/38 [00:05<00:00,  6.42it/s]\n"
                              ]
                        },
                        {
                              "name": "stdout",
                              "output_type": "stream",
                              "text": [
                                    "Train – Mean Loss: 0.6623\n"
                              ]
                        },
                        {
                              "name": "stderr",
                              "output_type": "stream",
                              "text": [
                                    "100%|██████████| 10/10 [00:01<00:00,  5.34it/s]\n"
                              ]
                        },
                        {
                              "name": "stdout",
                              "output_type": "stream",
                              "text": [
                                    "Test – IoU: 0.4760, Loss: 0.6750\n",
                                    "------------------------\n",
                                    "Epoch 26/30 - UNet-valid\n",
                                    "------------------------\n"
                              ]
                        },
                        {
                              "name": "stderr",
                              "output_type": "stream",
                              "text": [
                                    "100%|██████████| 38/38 [00:06<00:00,  5.63it/s]\n"
                              ]
                        },
                        {
                              "name": "stdout",
                              "output_type": "stream",
                              "text": [
                                    "Train – Mean Loss: 0.6614\n"
                              ]
                        },
                        {
                              "name": "stderr",
                              "output_type": "stream",
                              "text": [
                                    "100%|██████████| 10/10 [00:01<00:00,  7.32it/s]\n"
                              ]
                        },
                        {
                              "name": "stdout",
                              "output_type": "stream",
                              "text": [
                                    "Test – IoU: 0.5120, Loss: 0.6708\n",
                                    "------------------------\n",
                                    "Epoch 27/30 - UNet-valid\n",
                                    "------------------------\n"
                              ]
                        },
                        {
                              "name": "stderr",
                              "output_type": "stream",
                              "text": [
                                    "100%|██████████| 38/38 [00:05<00:00,  6.53it/s]\n"
                              ]
                        },
                        {
                              "name": "stdout",
                              "output_type": "stream",
                              "text": [
                                    "Train – Mean Loss: 0.6628\n"
                              ]
                        },
                        {
                              "name": "stderr",
                              "output_type": "stream",
                              "text": [
                                    "100%|██████████| 10/10 [00:01<00:00,  5.90it/s]\n"
                              ]
                        },
                        {
                              "name": "stdout",
                              "output_type": "stream",
                              "text": [
                                    "Test – IoU: 0.6006, Loss: 0.6864\n",
                                    "------------------------\n",
                                    "Epoch 28/30 - UNet-valid\n",
                                    "------------------------\n"
                              ]
                        },
                        {
                              "name": "stderr",
                              "output_type": "stream",
                              "text": [
                                    "100%|██████████| 38/38 [00:07<00:00,  5.39it/s]\n"
                              ]
                        },
                        {
                              "name": "stdout",
                              "output_type": "stream",
                              "text": [
                                    "Train – Mean Loss: 0.6608\n"
                              ]
                        },
                        {
                              "name": "stderr",
                              "output_type": "stream",
                              "text": [
                                    "100%|██████████| 10/10 [00:01<00:00,  8.41it/s]\n"
                              ]
                        },
                        {
                              "name": "stdout",
                              "output_type": "stream",
                              "text": [
                                    "Test – IoU: 0.6348, Loss: 0.6697\n",
                                    "------------------------\n",
                                    "Epoch 29/30 - UNet-valid\n",
                                    "------------------------\n"
                              ]
                        },
                        {
                              "name": "stderr",
                              "output_type": "stream",
                              "text": [
                                    "100%|██████████| 38/38 [00:06<00:00,  5.94it/s]\n"
                              ]
                        },
                        {
                              "name": "stdout",
                              "output_type": "stream",
                              "text": [
                                    "Train – Mean Loss: 0.6600\n"
                              ]
                        },
                        {
                              "name": "stderr",
                              "output_type": "stream",
                              "text": [
                                    "100%|██████████| 10/10 [00:01<00:00,  7.77it/s]\n"
                              ]
                        },
                        {
                              "name": "stdout",
                              "output_type": "stream",
                              "text": [
                                    "Test – IoU: 0.5973, Loss: 0.6689\n",
                                    "------------------------\n",
                                    "Epoch 30/30 - UNet-valid\n",
                                    "------------------------\n"
                              ]
                        },
                        {
                              "name": "stderr",
                              "output_type": "stream",
                              "text": [
                                    "100%|██████████| 38/38 [00:06<00:00,  5.72it/s]\n"
                              ]
                        },
                        {
                              "name": "stdout",
                              "output_type": "stream",
                              "text": [
                                    "Train – Mean Loss: 0.6597\n"
                              ]
                        },
                        {
                              "name": "stderr",
                              "output_type": "stream",
                              "text": [
                                    "100%|██████████| 10/10 [00:01<00:00,  8.85it/s]\n",
                                    "\u001b[1;38;5;39mCOMET INFO:\u001b[0m ---------------------------------------------------------------------------------------\n",
                                    "\u001b[1;38;5;39mCOMET INFO:\u001b[0m Comet.ml CometLogger Summary\n",
                                    "\u001b[1;38;5;39mCOMET INFO:\u001b[0m ---------------------------------------------------------------------------------------\n",
                                    "\u001b[1;38;5;39mCOMET INFO:\u001b[0m   Data:\n",
                                    "\u001b[1;38;5;39mCOMET INFO:\u001b[0m     display_summary_level : 1\n",
                                    "\u001b[1;38;5;39mCOMET INFO:\u001b[0m     name                  : UNet-valid\n",
                                    "\u001b[1;38;5;39mCOMET INFO:\u001b[0m     url                   : https://www.comet.com/bolf-marton/msc-thesis/88e2a597323e4030b28b4d4a7afada91\n",
                                    "\u001b[1;38;5;39mCOMET INFO:\u001b[0m   Metrics [count] (min, max):\n",
                                    "\u001b[1;38;5;39mCOMET INFO:\u001b[0m     iou [30]           : (0.29972140919417145, 0.6348470747470856)\n",
                                    "\u001b[1;38;5;39mCOMET INFO:\u001b[0m     learning_rate      : 0.01\n",
                                    "\u001b[1;38;5;39mCOMET INFO:\u001b[0m     loss [114]         : (0.5803027153015137, 0.9388270378112793)\n",
                                    "\u001b[1;38;5;39mCOMET INFO:\u001b[0m     test_loss [30]     : (0.6689470052719116, 0.7620083391666412)\n",
                                    "\u001b[1;38;5;39mCOMET INFO:\u001b[0m     training_loss [30] : (0.6596975922584534, 0.8219716548919678)\n",
                                    "\u001b[1;38;5;39mCOMET INFO:\u001b[0m   Others:\n",
                                    "\u001b[1;38;5;39mCOMET INFO:\u001b[0m     Name : UNet-valid\n",
                                    "\u001b[1;38;5;39mCOMET INFO:\u001b[0m   Uploads:\n",
                                    "\u001b[1;38;5;39mCOMET INFO:\u001b[0m     filename                 : 1\n",
                                    "\u001b[1;38;5;39mCOMET INFO:\u001b[0m     git metadata             : 1\n",
                                    "\u001b[1;38;5;39mCOMET INFO:\u001b[0m     git-patch (uncompressed) : 1 (1.06 MB)\n",
                                    "\u001b[1;38;5;39mCOMET INFO:\u001b[0m     notebook                 : 1\n",
                                    "\u001b[1;38;5;39mCOMET INFO:\u001b[0m     source_code              : 1\n",
                                    "\u001b[1;38;5;39mCOMET INFO:\u001b[0m \n"
                              ]
                        },
                        {
                              "name": "stdout",
                              "output_type": "stream",
                              "text": [
                                    "Test – IoU: 0.4837, Loss: 0.6695\n"
                              ]
                        },
                        {
                              "name": "stderr",
                              "output_type": "stream",
                              "text": [
                                    "\u001b[1;38;5;39mCOMET INFO:\u001b[0m Please wait for metadata to finish uploading (timeout is 3600 seconds)\n",
                                    "\u001b[1;38;5;39mCOMET INFO:\u001b[0m Uploading 1 metrics, params and output messages\n"
                              ]
                        }
                  ],
                  "source": [
                        "import warnings\n",
                        "\n",
                        "# For logging to comet.ml, a cloud service\n",
                        "load_dotenv()\n",
                        "api_key = os.getenv('COMET_API_KEY')\n",
                        "comet_logger = CometLogger(api_key=api_key,\n",
                        "                        project_name=\"msc-thesis\",\n",
                        "                        experiment_name=\"UNet-valid\",\n",
                        "                        log_env_details=False,)\n",
                        "\n",
                        "# Supressing some warning coming from a library with legacy code\n",
                        "with warnings.catch_warnings():\n",
                        "    warnings.filterwarnings('ignore', message='Creating a tensor from a list of numpy.ndarrays is extremely slow.')\n",
                        "    # Training loop\n",
                        "    unet_training_testing_loop(unet, device, train_dataloader, test_dataloader, optimizer, scheduler, n_epochs=30, comet_logger=comet_logger)\n",
                        "\n",
                        "comet_logger.end() # End the comet logger session"
                  ]
            },
            {
                  "cell_type": "code",
                  "execution_count": 12,
                  "id": "e806c38f",
                  "metadata": {},
                  "outputs": [],
                  "source": [
                        "# Save the model weights\n",
                        "torch.save(unet.state_dict(), \"src/models/weights/UNet_trained_weights_eval.pth\")"
                  ]
            }
      ],
      "metadata": {
            "kernelspec": {
                  "display_name": ".venv",
                  "language": "python",
                  "name": "python3"
            },
            "language_info": {
                  "codemirror_mode": {
                        "name": "ipython",
                        "version": 3
                  },
                  "file_extension": ".py",
                  "mimetype": "text/x-python",
                  "name": "python",
                  "nbconvert_exporter": "python",
                  "pygments_lexer": "ipython3",
                  "version": "3.10.17"
            }
      },
      "nbformat": 4,
      "nbformat_minor": 5
}
