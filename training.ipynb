{
 "cells": [
  {
   "cell_type": "code",
   "execution_count": 2,
   "metadata": {},
   "outputs": [],
   "source": [
    "%load_ext autoreload\n",
    "%autoreload 2"
   ]
  },
  {
   "cell_type": "code",
   "execution_count": 3,
   "metadata": {},
   "outputs": [],
   "source": [
    "import comet_ml\n",
    "import os\n",
    "import torch\n",
    "os.environ[\"CUDA_VISIBLE_DEVICES\"] = \"0\"\n",
    "device = \"cuda\" if torch.cuda.is_available() else \"cpu\""
   ]
  },
  {
   "cell_type": "code",
   "execution_count": 4,
   "metadata": {},
   "outputs": [],
   "source": [
    "#import torch\n",
    "from pathlib import Path\n",
    "\n",
    "from src.wsilib import WSIDatabase, WSITileDatabase\n",
    "#from src.models import get_model_unet, get_model_maskrcnn, get_model_resnet34"
   ]
  },
  {
   "cell_type": "code",
   "execution_count": 4,
   "metadata": {},
   "outputs": [],
   "source": [
    "datapath = Path(\"/storage01/bolma/dev/data/BIOMAG_slides/Lung\")"
   ]
  },
  {
   "cell_type": "markdown",
   "metadata": {},
   "source": [
    "# WSI preprocessing"
   ]
  },
  {
   "cell_type": "code",
   "execution_count": 141,
   "metadata": {},
   "outputs": [
    {
     "name": "stdout",
     "output_type": "stream",
     "text": [
      "\n",
      "ℹ️ Found 52 .mrxs files in /storage01/bolma/dev/data/BIOMAG_slides/Lung\n"
     ]
    },
    {
     "name": "stderr",
     "output_type": "stream",
     "text": [
      "Loading annotations...: 100%|██████████| 52/52 [00:31<00:00,  1.68it/s]"
     ]
    },
    {
     "name": "stdout",
     "output_type": "stream",
     "text": [
      "\n",
      "\u001b[92m✅ Loaded 52 WSIs with annotations\u001b[0m\n"
     ]
    },
    {
     "name": "stderr",
     "output_type": "stream",
     "text": [
      "\n"
     ]
    }
   ],
   "source": [
    "database = WSIDatabase(wsi_dir=datapath)"
   ]
  },
  {
   "cell_type": "code",
   "execution_count": 144,
   "metadata": {},
   "outputs": [
    {
     "name": "stderr",
     "output_type": "stream",
     "text": [
      "Processing images...: 100%|██████████| 52/52 [00:26<00:00,  2.00it/s]"
     ]
    },
    {
     "name": "stdout",
     "output_type": "stream",
     "text": [
      "\n",
      "\u001b[92m✅ Dataset saved to /storage01/bolma/dev/data/datasets/WSI-ROI/slides. Number of images: 52\u001b[0m\n"
     ]
    },
    {
     "name": "stderr",
     "output_type": "stream",
     "text": [
      "\n"
     ]
    }
   ],
   "source": [
    "database.save_coco_dataset(output_dir=\"/storage01/bolma/dev/data/datasets/WSI-ROI/slides\", level=8)"
   ]
  },
  {
   "cell_type": "code",
   "execution_count": 42,
   "metadata": {},
   "outputs": [
    {
     "name": "stdout",
     "output_type": "stream",
     "text": [
      "\n",
      "ℹ️ Found 52 .mrxs files in /storage01/bolma/dev/data/BIOMAG_slides/Lung\n"
     ]
    },
    {
     "name": "stderr",
     "output_type": "stream",
     "text": [
      "Creating tile containers for each WSI: 100%|██████████| 52/52 [00:25<00:00,  2.03it/s]"
     ]
    },
    {
     "name": "stdout",
     "output_type": "stream",
     "text": [
      "\n",
      "\u001b[92m✅ Created 52 tile containers\u001b[0m\n"
     ]
    },
    {
     "name": "stderr",
     "output_type": "stream",
     "text": [
      "\n"
     ]
    }
   ],
   "source": [
    "tile_db = WSITileDatabase(\n",
    "    wsi_dir=datapath,\n",
    "    tile_size=256,\n",
    "    level=6\n",
    ")"
   ]
  },
  {
   "cell_type": "code",
   "execution_count": 43,
   "metadata": {},
   "outputs": [
    {
     "name": "stderr",
     "output_type": "stream",
     "text": [
      "Extracting tiles from 3722_17_HE_40x: 1224 tiles [00:01, 1140.33 tiles/s]                     \n",
      "Extracting tiles from 779_17_HE_40x: 1224 tiles [00:01, 1143.23 tiles/s]                     \n",
      "Extracting tiles from 5342_24_A6: 1224 tiles [00:01, 704.71 tiles/s]                      \n",
      "Extracting tiles from 2336_17_HE_40x: 1224 tiles [00:01, 966.74 tiles/s]                      \n",
      "Extracting tiles from 12104_24_A4: 1224 tiles [00:01, 857.03 tiles/s]                       \n",
      "Extracting tiles from 7532_21_A2_HE_20240515_2: 1224 tiles [00:01, 724.57 tiles/s]                     \n",
      "Extracting tiles from 8394_24_A4: 1224 tiles [00:02, 493.98 tiles/s]                     \n",
      "Extracting tiles from 518_17_HE_40x: 1224 tiles [00:01, 981.43 tiles/s]                      \n",
      "Extracting tiles from 1968_17_HE_40x: 1224 tiles [00:00, 1625.97 tiles/s]                      \n",
      "Extracting tiles from 1170_17_HE_40x: 1224 tiles [00:01, 1216.36 tiles/s]                     \n",
      "Extracting tiles from 779-21_a2_HE_20230308_8: 1224 tiles [00:01, 638.27 tiles/s]                     \n",
      "Extracting tiles from 762_17_HE_40x: 1224 tiles [00:01, 932.19 tiles/s]                     \n",
      "Extracting tiles from 3553_17_HE_40x: 1224 tiles [00:01, 906.76 tiles/s]                       \n",
      "Extracting tiles from 6766_21_A3_HE_20240515: 1224 tiles [00:02, 583.03 tiles/s]                      \n",
      "Extracting tiles from 602_17_HE_40x: 1224 tiles [00:01, 921.25 tiles/s]                      \n",
      "Extracting tiles from 779_21_a4_HE_20230712_2: 1224 tiles [00:02, 550.06 tiles/s]                      \n",
      "Extracting tiles from 12880_24_A6: 1224 tiles [00:01, 918.79 tiles/s]                      \n",
      "Extracting tiles from 7394_21_A7_HE_20240515: 1224 tiles [00:01, 1014.87 tiles/s]                     \n",
      "Extracting tiles from 4576_17_HE_40x: 1224 tiles [00:01, 938.07 tiles/s]                      \n",
      "Extracting tiles from 897_17_HE_40x: 1224 tiles [00:01, 1170.74 tiles/s]                    \n",
      "Extracting tiles from 187_18_HE_40x: 1224 tiles [00:01, 766.17 tiles/s]                      \n",
      "Extracting tiles from 1251_17_HE_40x: 1224 tiles [00:00, 1245.43 tiles/s]                     \n",
      "Extracting tiles from 1728_12_HE_40x: 1224 tiles [00:00, 2048.99 tiles/s]                     \n",
      "Extracting tiles from 1484_17_HE_40x: 1224 tiles [00:01, 845.37 tiles/s]                     \n",
      "Extracting tiles from 7628_23_A4_HE_20240116_1: 1224 tiles [00:01, 751.90 tiles/s]                      \n",
      "Extracting tiles from 962_17_HE_40x: 1224 tiles [00:01, 998.74 tiles/s]                      \n",
      "Extracting tiles from 290_23_A3_HE_20240116_1: 1224 tiles [00:01, 839.51 tiles/s]                     \n",
      "Extracting tiles from 109_17_HE_40x: 1224 tiles [00:01, 681.86 tiles/s] 3.21s/it]\n",
      "Extracting tiles from 3389_17_HE_40x: 1224 tiles [00:01, 753.84 tiles/s] .83s/it]\n",
      "Extracting tiles from 92_17_HE_40x: 1224 tiles [00:01, 1066.38 tiles/s]                      \n",
      "Extracting tiles from 1898_17_HE_40x: 1224 tiles [00:01, 751.30 tiles/s]                       \n",
      "Extracting tiles from 2987_21_A3_HE_20240730_1: 1224 tiles [00:01, 663.15 tiles/s]                      \n",
      "Extracting tiles from 5003_11_HE_40x: 1224 tiles [00:01, 795.81 tiles/s]                      \n",
      "Extracting tiles from 977_17_HE_40x: 1224 tiles [00:01, 835.00 tiles/s]                     \n",
      "Extracting tiles from 4184_17_HE_40x: 1224 tiles [00:01, 913.80 tiles/s]                     \n",
      "Extracting tiles from 2488_17_HE_40x: 1224 tiles [00:01, 834.76 tiles/s]                      \n",
      "Extracting tiles from 14674_24_A8: 1224 tiles [00:01, 810.67 tiles/s]                     \n",
      "Extracting tiles from 3610_17_HE_40x: 1224 tiles [00:00, 1365.02 tiles/s]                    \n",
      "Extracting tiles from 3312_17_HE_40x: 1224 tiles [00:01, 859.43 tiles/s]                      \n",
      "Extracting tiles from 995_18_HE_40x: 1224 tiles [00:01, 684.24 tiles/s] 3.28s/it]\n",
      "Extracting tiles from 1790_23_A3_HE_20240723_1: 1224 tiles [00:01, 679.51 tiles/s]                      \n",
      "Extracting tiles from 2353_17_HE_40x: 1224 tiles [00:01, 673.79 tiles/s]                     \n",
      "Extracting tiles from 2358_17_HE_40x: 1224 tiles [00:01, 951.82 tiles/s]                      \n",
      "Extracting tiles from 1947_18_HE_40x: 1224 tiles [00:01, 970.45 tiles/s]                     \n",
      "Extracting tiles from 2358_17_HE_40x: 1224 tiles [00:01, 934.07 tiles/s]                      \n",
      "Extracting tiles from 1264_18_HE_40x: 1224 tiles [00:00, 1606.58 tiles/s]                    \n",
      "Extracting tiles from 5064_21_A4_HE_20240515: 1224 tiles [00:01, 700.15 tiles/s]                      \n",
      "Extracting tiles from 2553_18_HE_40x: 1224 tiles [00:01, 680.31 tiles/s]                      \n",
      "Extracting tiles from 2996_17_HE_40x: 1224 tiles [00:01, 751.88 tiles/s]                       \n",
      "Extracting tiles from 1111_17_HE_40x: 1224 tiles [00:01, 860.75 tiles/s]                      \n",
      "Extracting tiles from 3201_17_HE_40x: 1224 tiles [00:01, 695.51 tiles/s]                      \n",
      "Extracting tiles from 1790_23_A4_HE_20240603_1: 1224 tiles [00:01, 686.88 tiles/s]                       \n",
      "Extracting tiles from containers: 100%|██████████| 52/52 [03:11<00:00,  3.68s/it]"
     ]
    },
    {
     "name": "stdout",
     "output_type": "stream",
     "text": [
      "\n",
      "ℹ️ Merging annotations...\n",
      "\n",
      "\u001b[92m✅ Dataset saved to /storage01/bolma/dev/data/datasets/WSI-ROI/tiles. Total images: 6064\u001b[0m\n"
     ]
    },
    {
     "name": "stderr",
     "output_type": "stream",
     "text": [
      "\n"
     ]
    }
   ],
   "source": [
    "tile_db.save_dataset(Path(\"/storage01/bolma/dev/data/datasets/WSI-ROI/tiles\"))"
   ]
  },
  {
   "cell_type": "markdown",
   "metadata": {},
   "source": [
    "# Datasets"
   ]
  },
  {
   "cell_type": "code",
   "execution_count": 5,
   "metadata": {},
   "outputs": [],
   "source": [
    "from src.utils.coco import COCODataset\n",
    "from torch.utils.data import DataLoader\n",
    "from src.utils.pretty_print import *"
   ]
  },
  {
   "cell_type": "code",
   "execution_count": 6,
   "metadata": {},
   "outputs": [],
   "source": [
    "slide_path = Path(\"/storage01/bolma/dev/data/datasets/WSI-ROI/slides/annotations.json\")"
   ]
  },
  {
   "cell_type": "code",
   "execution_count": 31,
   "metadata": {},
   "outputs": [
    {
     "name": "stdout",
     "output_type": "stream",
     "text": [
      "loading annotations into memory...\n",
      "Done (t=0.01s)\n",
      "creating index...\n",
      "index created!\n",
      "\n",
      "\u001b[92m✅ Loaded training set with 41 images\n",
      "\u001b[0m\n",
      "loading annotations into memory...\n",
      "Done (t=0.01s)\n",
      "creating index...\n",
      "index created!\n",
      "\n",
      "\u001b[92m✅ Loaded test set with 11 images\n",
      "\u001b[0m\n",
      "Training image id-s: \t{0, 1, 2, 4, 6, 7, 8, 9, 10, 11, 14, 15, 16, 18, 20, 21, 22, 23, 24, 25, 26, 27, 28, 29, 30, 31, 33, 34, 35, 36, 37, 38, 39, 40, 42, 44, 45, 46, 48, 49, 51}\n",
      "\n",
      "Test image id-s: \t{32, 3, 5, 41, 43, 12, 13, 47, 17, 50, 19}\n",
      "\n",
      "\u001b[92m✅ Datasets are properly split and ready to use!\u001b[0m\n"
     ]
    }
   ],
   "source": [
    "train_dataset = COCODataset(\n",
    "    annotation_file=slide_path,\n",
    "    train=True,\n",
    "    transform=None,\n",
    "    random_seed=42,\n",
    ")\n",
    "\n",
    "test_dataset = COCODataset(\n",
    "    annotation_file=slide_path,\n",
    "    train=False,\n",
    "    transform=None,\n",
    "    random_seed=42,\n",
    ")\n",
    "\n",
    "# Checks\n",
    "train_images = set(id for id in train_dataset.image_ids)\n",
    "test_images = set(id for id in test_dataset.image_ids)\n",
    "\n",
    "print(f\"Training image id-s: \\t{train_images}\")\n",
    "print(f\"\\nTest image id-s: \\t{test_images}\")\n",
    "\n",
    "# Overlapping images between datasets\n",
    "overlapping_images = train_images.intersection(test_images)\n",
    "\n",
    "if overlapping_images:\n",
    "    print(\"\\n[WARNING]: Overlapping images found:\")\n",
    "    for img in overlapping_images:\n",
    "        print(f\"- {img}\")\n",
    "else:\n",
    "    print_success(\"Datasets are properly split and ready to use!\")\n",
    "\n"
   ]
  },
  {
   "cell_type": "markdown",
   "metadata": {},
   "source": [
    "## Dataloaders"
   ]
  },
  {
   "cell_type": "code",
   "execution_count": 8,
   "metadata": {},
   "outputs": [],
   "source": [
    "BATCH_SIZE = 1\n",
    "NUM_WORKERS = 2"
   ]
  },
  {
   "cell_type": "code",
   "execution_count": 32,
   "metadata": {},
   "outputs": [
    {
     "name": "stdout",
     "output_type": "stream",
     "text": [
      "\n",
      "ℹ️ Created DataLoaders with batch size 1\n",
      "\t- Training batches: 41\n",
      "\t- Test batches: 11\n"
     ]
    }
   ],
   "source": [
    "train_dataloader = DataLoader(\n",
    "    train_dataset,\n",
    "    batch_size=BATCH_SIZE,\n",
    "    shuffle=True,\n",
    "    num_workers=NUM_WORKERS,\n",
    "    #collate_fn=lambda x: tuple(zip(*x))  # To handle variable size images/masks\n",
    ")\n",
    "\n",
    "test_dataloader = DataLoader(\n",
    "    test_dataset,\n",
    "    batch_size=BATCH_SIZE,\n",
    "    shuffle=False,\n",
    "    num_workers=NUM_WORKERS,\n",
    "    #collate_fn=lambda x: tuple(zip(*x))\n",
    ")\n",
    "\n",
    "print_info(f\"Created DataLoaders with batch size {BATCH_SIZE}\")\n",
    "print(f\"\\t- Training batches: {len(train_dataloader)}\")\n",
    "print(f\"\\t- Test batches: {len(test_dataloader)}\")"
   ]
  },
  {
   "cell_type": "code",
   "execution_count": 10,
   "metadata": {},
   "outputs": [],
   "source": [
    "import matplotlib.pyplot as plt\n",
    "import numpy as np\n",
    "\n",
    "def visualize_dataloader_batch(dataloader, num_images=2, figsize=(15, 4)):\n",
    "    \"\"\"Visualize a batch of images and their masks from a dataloader.\n",
    "    \n",
    "    Args:\n",
    "        dataloader: PyTorch dataloader containing (image, target) pairs\n",
    "        num_images: Number of images to display (default: 2)\n",
    "        figsize: Figure size (width, height) in inches\n",
    "    \"\"\"\n",
    "    # Get a batch\n",
    "    images, targets = next(iter(dataloader))\n",
    "    \n",
    "    # Create subplot grid: 1 row x num_images columns\n",
    "    plt.figure(figsize=figsize)\n",
    "    \n",
    "    for idx in range(min(num_images, len(images))):\n",
    "        # Get image and normalize for display\n",
    "        img = images[idx].cpu().numpy().transpose(1, 2, 0)\n",
    "        img = (img - img.min()) / (img.max() - img.min())\n",
    "        \n",
    "        # Plot original image\n",
    "        plt.imshow(img)\n",
    "        \n",
    "        # Create combined mask\n",
    "        masks = targets['masks'][idx]\n",
    "        combined_mask = torch.zeros_like(masks[0])\n",
    "        \n",
    "        # Combine all masks\n",
    "        for mask in masks:\n",
    "            combined_mask = torch.logical_or(combined_mask, mask)\n",
    "        \n",
    "        # Create mask overlay\n",
    "        mask_img = combined_mask.cpu().numpy()\n",
    "        overlay = img.copy()\n",
    "        overlay[mask_img == 1] = np.array([1, 0, 0])  # Red color for masks\n",
    "        plt.imshow(overlay, alpha=0.3)\n",
    "        \n",
    "        plt.axis('off')\n",
    "    \n",
    "    plt.tight_layout()\n",
    "    plt.show()"
   ]
  },
  {
   "cell_type": "code",
   "execution_count": 35,
   "metadata": {},
   "outputs": [
    {
     "name": "stdout",
     "output_type": "stream",
     "text": [
      "Training Dataset Examples:\n"
     ]
    },
    {
     "data": {
      "image/png": "[encoded data removed]",
      "text/plain": [
       "<Figure size 1500x400 with 1 Axes>"
      ]
     },
     "metadata": {},
     "output_type": "display_data"
    },
    {
     "name": "stdout",
     "output_type": "stream",
     "text": [
      "\n",
      "Test Dataset Examples:\n"
     ]
    },
    {
     "data": {
      "image/png": "[encoded data removed]",
      "text/plain": [
       "<Figure size 1500x400 with 1 Axes>"
      ]
     },
     "metadata": {},
     "output_type": "display_data"
    }
   ],
   "source": [
    "import warnings\n",
    "# Visualize training data\n",
    "print(\"Training Dataset Examples:\")\n",
    "with warnings.catch_warnings():\n",
    "    warnings.filterwarnings('ignore', message='Creating a tensor from a list of numpy.ndarrays is extremely slow.')\n",
    "    visualize_dataloader_batch(train_dataloader)\n",
    "\n",
    "# Visualize test data\n",
    "print(\"\\nTest Dataset Examples:\")\n",
    "with warnings.catch_warnings():\n",
    "    warnings.filterwarnings('ignore', message='Creating a tensor from a list of numpy.ndarrays is extremely slow.')\n",
    "    visualize_dataloader_batch(test_dataloader)"
   ]
  },
  {
   "cell_type": "markdown",
   "metadata": {},
   "source": [
    "# Training"
   ]
  },
  {
   "cell_type": "code",
   "execution_count": 12,
   "metadata": {},
   "outputs": [],
   "source": [
    "import torch\n",
    "from src.models import get_model_unet, get_model_maskrcnn, get_model_resnet34\n",
    "from src.utils.train import maskrcnn_training_testing_loop"
   ]
  },
  {
   "cell_type": "markdown",
   "metadata": {},
   "source": [
    "## Mask R-CNN"
   ]
  },
  {
   "cell_type": "code",
   "execution_count": null,
   "metadata": {},
   "outputs": [
    {
     "ename": "ValueError",
     "evalue": "SequentialLR does not support `ReduceLROnPlateau` scheduler as it requires additional kwargs to be specified when calling `step`, but got one at index 1 in the given schedulers sequence.",
     "output_type": "error",
     "traceback": [
      "\u001b[0;31m---------------------------------------------------------------------------\u001b[0m",
      "\u001b[0;31mValueError\u001b[0m                                Traceback (most recent call last)",
      "Cell \u001b[0;32mIn[69], line 13\u001b[0m\n\u001b[1;32m     11\u001b[0m scheduler_warmup \u001b[38;5;241m=\u001b[39m torch\u001b[38;5;241m.\u001b[39moptim\u001b[38;5;241m.\u001b[39mlr_scheduler\u001b[38;5;241m.\u001b[39mLinearLR(optimizer, start_factor\u001b[38;5;241m=\u001b[39m\u001b[38;5;241m0.1\u001b[39m, total_iters\u001b[38;5;241m=\u001b[39m\u001b[38;5;241m2\u001b[39m)\n\u001b[1;32m     12\u001b[0m scheduler1 \u001b[38;5;241m=\u001b[39m torch\u001b[38;5;241m.\u001b[39moptim\u001b[38;5;241m.\u001b[39mlr_scheduler\u001b[38;5;241m.\u001b[39mReduceLROnPlateau(optimizer, mode\u001b[38;5;241m=\u001b[39m\u001b[38;5;124m'\u001b[39m\u001b[38;5;124mmax\u001b[39m\u001b[38;5;124m'\u001b[39m, factor\u001b[38;5;241m=\u001b[39m\u001b[38;5;241m0.1\u001b[39m, patience\u001b[38;5;241m=\u001b[39m\u001b[38;5;241m3\u001b[39m)\n\u001b[0;32m---> 13\u001b[0m scheduler \u001b[38;5;241m=\u001b[39m \u001b[43mtorch\u001b[49m\u001b[38;5;241;43m.\u001b[39;49m\u001b[43moptim\u001b[49m\u001b[38;5;241;43m.\u001b[39;49m\u001b[43mlr_scheduler\u001b[49m\u001b[38;5;241;43m.\u001b[39;49m\u001b[43mSequentialLR\u001b[49m\u001b[43m(\u001b[49m\u001b[43moptimizer\u001b[49m\u001b[43m,\u001b[49m\u001b[43m \u001b[49m\u001b[43mschedulers\u001b[49m\u001b[38;5;241;43m=\u001b[39;49m\u001b[43m[\u001b[49m\u001b[43mscheduler_warmup\u001b[49m\u001b[43m,\u001b[49m\u001b[43m \u001b[49m\u001b[43mscheduler1\u001b[49m\u001b[43m]\u001b[49m\u001b[43m,\u001b[49m\u001b[43m \u001b[49m\u001b[43mmilestones\u001b[49m\u001b[38;5;241;43m=\u001b[39;49m\u001b[43m[\u001b[49m\u001b[38;5;241;43m5\u001b[39;49m\u001b[43m]\u001b[49m\u001b[43m)\u001b[49m\n",
      "File \u001b[0;32m/storage01/bolma/dev/tumor-region-detection-thesis/.venv/lib/python3.10/site-packages/torch/optim/lr_scheduler.py:882\u001b[0m, in \u001b[0;36mSequentialLR.__init__\u001b[0;34m(self, optimizer, schedulers, milestones, last_epoch, verbose)\u001b[0m\n\u001b[1;32m    878\u001b[0m     \u001b[38;5;28;01mraise\u001b[39;00m \u001b[38;5;167;01mTypeError\u001b[39;00m(\n\u001b[1;32m    879\u001b[0m         \u001b[38;5;124mf\u001b[39m\u001b[38;5;124m\"\u001b[39m\u001b[38;5;132;01m{\u001b[39;00m\u001b[38;5;28mself\u001b[39m\u001b[38;5;241m.\u001b[39m\u001b[38;5;18m__class__\u001b[39m\u001b[38;5;241m.\u001b[39m\u001b[38;5;18m__name__\u001b[39m\u001b[38;5;132;01m}\u001b[39;00m\u001b[38;5;124m at index \u001b[39m\u001b[38;5;132;01m{\u001b[39;00mscheduler_idx\u001b[38;5;132;01m}\u001b[39;00m\u001b[38;5;124m should have `optimizer` as its attribute.\u001b[39m\u001b[38;5;124m\"\u001b[39m\n\u001b[1;32m    880\u001b[0m     )\n\u001b[1;32m    881\u001b[0m \u001b[38;5;28;01mif\u001b[39;00m \u001b[38;5;28misinstance\u001b[39m(scheduler, ReduceLROnPlateau):\n\u001b[0;32m--> 882\u001b[0m     \u001b[38;5;28;01mraise\u001b[39;00m \u001b[38;5;167;01mValueError\u001b[39;00m(\n\u001b[1;32m    883\u001b[0m         \u001b[38;5;124mf\u001b[39m\u001b[38;5;124m\"\u001b[39m\u001b[38;5;132;01m{\u001b[39;00m\u001b[38;5;28mself\u001b[39m\u001b[38;5;241m.\u001b[39m\u001b[38;5;18m__class__\u001b[39m\u001b[38;5;241m.\u001b[39m\u001b[38;5;18m__name__\u001b[39m\u001b[38;5;132;01m}\u001b[39;00m\u001b[38;5;124m does not support `ReduceLROnPlateau` scheduler as it \u001b[39m\u001b[38;5;124m\"\u001b[39m\n\u001b[1;32m    884\u001b[0m         \u001b[38;5;124m\"\u001b[39m\u001b[38;5;124mrequires additional kwargs to be specified when calling `step`, \u001b[39m\u001b[38;5;124m\"\u001b[39m\n\u001b[1;32m    885\u001b[0m         \u001b[38;5;124mf\u001b[39m\u001b[38;5;124m\"\u001b[39m\u001b[38;5;124mbut got one at index \u001b[39m\u001b[38;5;132;01m{\u001b[39;00mscheduler_idx\u001b[38;5;132;01m}\u001b[39;00m\u001b[38;5;124m in the given schedulers sequence.\u001b[39m\u001b[38;5;124m\"\u001b[39m\n\u001b[1;32m    886\u001b[0m     )\n\u001b[1;32m    887\u001b[0m \u001b[38;5;28;01mif\u001b[39;00m optimizer \u001b[38;5;241m!=\u001b[39m scheduler\u001b[38;5;241m.\u001b[39moptimizer:\n\u001b[1;32m    888\u001b[0m     \u001b[38;5;28;01mraise\u001b[39;00m \u001b[38;5;167;01mValueError\u001b[39;00m(\n\u001b[1;32m    889\u001b[0m         \u001b[38;5;124mf\u001b[39m\u001b[38;5;124m\"\u001b[39m\u001b[38;5;132;01m{\u001b[39;00m\u001b[38;5;28mself\u001b[39m\u001b[38;5;241m.\u001b[39m\u001b[38;5;18m__class__\u001b[39m\u001b[38;5;241m.\u001b[39m\u001b[38;5;18m__name__\u001b[39m\u001b[38;5;132;01m}\u001b[39;00m\u001b[38;5;124m expects all schedulers to belong to the same optimizer, but \u001b[39m\u001b[38;5;124m\"\u001b[39m\n\u001b[1;32m    890\u001b[0m         \u001b[38;5;124mf\u001b[39m\u001b[38;5;124m\"\u001b[39m\u001b[38;5;124mgot scheduler \u001b[39m\u001b[38;5;132;01m{\u001b[39;00mscheduler\u001b[38;5;241m.\u001b[39m\u001b[38;5;18m__class__\u001b[39m\u001b[38;5;241m.\u001b[39m\u001b[38;5;18m__name__\u001b[39m\u001b[38;5;132;01m}\u001b[39;00m\u001b[38;5;124m at index \u001b[39m\u001b[38;5;132;01m{\u001b[39;00mscheduler_idx\u001b[38;5;132;01m}\u001b[39;00m\u001b[38;5;124m has \u001b[39m\u001b[38;5;132;01m{\u001b[39;00mscheduler\u001b[38;5;241m.\u001b[39moptimizer\u001b[38;5;132;01m}\u001b[39;00m\u001b[38;5;124m, \u001b[39m\u001b[38;5;124m\"\u001b[39m\n\u001b[1;32m    891\u001b[0m         \u001b[38;5;124mf\u001b[39m\u001b[38;5;124m\"\u001b[39m\u001b[38;5;124mwhich is different from \u001b[39m\u001b[38;5;132;01m{\u001b[39;00moptimizer\u001b[38;5;241m.\u001b[39m\u001b[38;5;18m__class__\u001b[39m\u001b[38;5;241m.\u001b[39m\u001b[38;5;18m__name__\u001b[39m\u001b[38;5;132;01m}\u001b[39;00m\u001b[38;5;124m.\u001b[39m\u001b[38;5;124m\"\u001b[39m\n\u001b[1;32m    892\u001b[0m     )\n",
      "\u001b[0;31mValueError\u001b[0m: SequentialLR does not support `ReduceLROnPlateau` scheduler as it requires additional kwargs to be specified when calling `step`, but got one at index 1 in the given schedulers sequence."
     ]
    }
   ],
   "source": [
    "maskrcnn = get_model_maskrcnn(num_classes=2, \n",
    "                      box_score_thresh=0.1,\n",
    "                      box_nms_thresh=0.3,\n",
    "                      box_fg_iou_thresh=0.5,\n",
    "                      box_bg_iou_thresh=0.4,\n",
    "                      box_detections_per_img=5,\n",
    "                      image_mean = [0.485, 0.456, 0.406],\n",
    "                      image_std = [0.229, 0.224, 0.225])\n",
    "\n",
    "optimizer = torch.optim.SGD(maskrcnn.parameters(), lr=0.1)\n",
    "scheduler = torch.optim.lr_scheduler.ReduceLROnPlateau(optimizer, mode='max', factor=0.1, patience=5)"
   ]
  },
  {
   "cell_type": "markdown",
   "metadata": {},
   "source": [
    "### Comet logging"
   ]
  },
  {
   "cell_type": "code",
   "execution_count": 14,
   "metadata": {},
   "outputs": [],
   "source": [
    "from src.utils.comet import CometLogger\n",
    "from dotenv import load_dotenv\n",
    "import os"
   ]
  },
  {
   "cell_type": "markdown",
   "metadata": {},
   "source": [
    "### Training loop"
   ]
  },
  {
   "cell_type": "code",
   "execution_count": 68,
   "metadata": {},
   "outputs": [
    {
     "name": "stderr",
     "output_type": "stream",
     "text": [
      "\u001b[1;38;5;39mCOMET INFO:\u001b[0m ---------------------------------------------------------------------------------------\n",
      "\u001b[1;38;5;39mCOMET INFO:\u001b[0m Comet.ml CometLogger Summary\n",
      "\u001b[1;38;5;39mCOMET INFO:\u001b[0m ---------------------------------------------------------------------------------------\n",
      "\u001b[1;38;5;39mCOMET INFO:\u001b[0m   Data:\n",
      "\u001b[1;38;5;39mCOMET INFO:\u001b[0m     display_summary_level : 1\n",
      "\u001b[1;38;5;39mCOMET INFO:\u001b[0m     name                  : MaskRCNN\n",
      "\u001b[1;38;5;39mCOMET INFO:\u001b[0m     url                   : https://www.comet.com/bolf-marton/msc-thesis/43f7ed7067f84e9a9fb63ed5f800b1f7\n",
      "\u001b[1;38;5;39mCOMET INFO:\u001b[0m   Metrics [count] (min, max):\n",
      "\u001b[1;38;5;39mCOMET INFO:\u001b[0m     iou               : 0.2817458179694124\n",
      "\u001b[1;38;5;39mCOMET INFO:\u001b[0m     learning_rate     : 0.01\n",
      "\u001b[1;38;5;39mCOMET INFO:\u001b[0m     loss [9]          : (0.4495711624622345, 1.5567625761032104)\n",
      "\u001b[1;38;5;39mCOMET INFO:\u001b[0m     test_loss         : 0.9268462657928467\n",
      "\u001b[1;38;5;39mCOMET INFO:\u001b[0m     training_loss [2] : (0.9000000953674316, 1.2767685651779175)\n",
      "\u001b[1;38;5;39mCOMET INFO:\u001b[0m   Others:\n",
      "\u001b[1;38;5;39mCOMET INFO:\u001b[0m     Name : MaskRCNN\n",
      "\u001b[1;38;5;39mCOMET INFO:\u001b[0m   Uploads:\n",
      "\u001b[1;38;5;39mCOMET INFO:\u001b[0m     filename                 : 1\n",
      "\u001b[1;38;5;39mCOMET INFO:\u001b[0m     git metadata             : 1\n",
      "\u001b[1;38;5;39mCOMET INFO:\u001b[0m     git-patch (uncompressed) : 1 (57.78 KB)\n",
      "\u001b[1;38;5;39mCOMET INFO:\u001b[0m     notebook                 : 1\n",
      "\u001b[1;38;5;39mCOMET INFO:\u001b[0m     source_code              : 1\n",
      "\u001b[1;38;5;39mCOMET INFO:\u001b[0m \n"
     ]
    },
    {
     "name": "stderr",
     "output_type": "stream",
     "text": [
      "\u001b[1;38;5;214mCOMET WARNING:\u001b[0m As you are running in a Jupyter environment, you will need to call `experiment.end()` when finished to ensure all metrics and code are logged before exiting.\n",
      "\u001b[1;38;5;39mCOMET INFO:\u001b[0m Experiment is live on comet.com https://www.comet.com/bolf-marton/msc-thesis/a0dda5c5ce5c43418d3ece629684d23d\n",
      "\n"
     ]
    },
    {
     "name": "stdout",
     "output_type": "stream",
     "text": [
      "\n",
      "🚀 STARTING TRAINING\n",
      "---------------------\n",
      "Epoch 1/30 - MaskRCNN\n",
      "---------------------\n"
     ]
    },
    {
     "name": "stderr",
     "output_type": "stream",
     "text": [
      "100%|██████████| 41/41 [00:06<00:00,  6.21it/s]\n"
     ]
    },
    {
     "name": "stdout",
     "output_type": "stream",
     "text": [
      "Train – Mean Loss: 1.2084\n"
     ]
    },
    {
     "name": "stderr",
     "output_type": "stream",
     "text": [
      "100%|██████████| 41/41 [00:06<00:00,  6.43it/s]\n"
     ]
    },
    {
     "name": "stdout",
     "output_type": "stream",
     "text": [
      "Test – IoU: 0.3944, Loss: 1.1715\n",
      "---------------------\n",
      "Epoch 2/30 - MaskRCNN\n",
      "---------------------\n"
     ]
    },
    {
     "name": "stderr",
     "output_type": "stream",
     "text": [
      "100%|██████████| 41/41 [00:06<00:00,  6.15it/s]\n"
     ]
    },
    {
     "name": "stdout",
     "output_type": "stream",
     "text": [
      "Train – Mean Loss: 1.0905\n"
     ]
    },
    {
     "name": "stderr",
     "output_type": "stream",
     "text": [
      "100%|██████████| 41/41 [00:06<00:00,  6.20it/s]\n"
     ]
    },
    {
     "name": "stdout",
     "output_type": "stream",
     "text": [
      "Test – IoU: 0.4701, Loss: 0.8706\n",
      "---------------------\n",
      "Epoch 3/30 - MaskRCNN\n",
      "---------------------\n"
     ]
    },
    {
     "name": "stderr",
     "output_type": "stream",
     "text": [
      "100%|██████████| 41/41 [00:05<00:00,  7.09it/s]\n"
     ]
    },
    {
     "name": "stdout",
     "output_type": "stream",
     "text": [
      "Train – Mean Loss: 1.0044\n"
     ]
    },
    {
     "name": "stderr",
     "output_type": "stream",
     "text": [
      "100%|██████████| 41/41 [00:06<00:00,  6.79it/s]\n"
     ]
    },
    {
     "name": "stdout",
     "output_type": "stream",
     "text": [
      "Test – IoU: 0.4064, Loss: 0.8542\n",
      "---------------------\n",
      "Epoch 4/30 - MaskRCNN\n",
      "---------------------\n"
     ]
    },
    {
     "name": "stderr",
     "output_type": "stream",
     "text": [
      "100%|██████████| 41/41 [00:06<00:00,  6.36it/s]\n"
     ]
    },
    {
     "name": "stdout",
     "output_type": "stream",
     "text": [
      "Train – Mean Loss: 0.9081\n"
     ]
    },
    {
     "name": "stderr",
     "output_type": "stream",
     "text": [
      "100%|██████████| 41/41 [00:06<00:00,  6.29it/s]\n"
     ]
    },
    {
     "name": "stdout",
     "output_type": "stream",
     "text": [
      "Test – IoU: 0.3932, Loss: 0.8289\n",
      "---------------------\n",
      "Epoch 5/30 - MaskRCNN\n",
      "---------------------\n"
     ]
    },
    {
     "name": "stderr",
     "output_type": "stream",
     "text": [
      "100%|██████████| 41/41 [00:06<00:00,  6.04it/s]\n"
     ]
    },
    {
     "name": "stdout",
     "output_type": "stream",
     "text": [
      "Train – Mean Loss: 0.8944\n"
     ]
    },
    {
     "name": "stderr",
     "output_type": "stream",
     "text": [
      "100%|██████████| 41/41 [00:06<00:00,  6.40it/s]\n"
     ]
    },
    {
     "name": "stdout",
     "output_type": "stream",
     "text": [
      "Test – IoU: 0.5294, Loss: 0.7799\n",
      "---------------------\n",
      "Epoch 6/30 - MaskRCNN\n",
      "---------------------\n"
     ]
    },
    {
     "name": "stderr",
     "output_type": "stream",
     "text": [
      "100%|██████████| 41/41 [00:06<00:00,  6.33it/s]\n"
     ]
    },
    {
     "name": "stdout",
     "output_type": "stream",
     "text": [
      "Train – Mean Loss: 0.7838\n"
     ]
    },
    {
     "name": "stderr",
     "output_type": "stream",
     "text": [
      "100%|██████████| 41/41 [00:06<00:00,  6.65it/s]\n"
     ]
    },
    {
     "name": "stdout",
     "output_type": "stream",
     "text": [
      "Test – IoU: 0.3472, Loss: 0.7161\n",
      "---------------------\n",
      "Epoch 7/30 - MaskRCNN\n",
      "---------------------\n"
     ]
    },
    {
     "name": "stderr",
     "output_type": "stream",
     "text": [
      "100%|██████████| 41/41 [00:06<00:00,  5.98it/s]\n"
     ]
    },
    {
     "name": "stdout",
     "output_type": "stream",
     "text": [
      "Train – Mean Loss: 0.6930\n"
     ]
    },
    {
     "name": "stderr",
     "output_type": "stream",
     "text": [
      "100%|██████████| 41/41 [00:06<00:00,  6.32it/s]\n"
     ]
    },
    {
     "name": "stdout",
     "output_type": "stream",
     "text": [
      "Test – IoU: 0.4732, Loss: 0.6440\n",
      "---------------------\n",
      "Epoch 8/30 - MaskRCNN\n",
      "---------------------\n"
     ]
    },
    {
     "name": "stderr",
     "output_type": "stream",
     "text": [
      "100%|██████████| 41/41 [00:06<00:00,  6.15it/s]\n"
     ]
    },
    {
     "name": "stdout",
     "output_type": "stream",
     "text": [
      "Train – Mean Loss: 0.6574\n"
     ]
    },
    {
     "name": "stderr",
     "output_type": "stream",
     "text": [
      "100%|██████████| 41/41 [00:06<00:00,  6.16it/s]\n"
     ]
    },
    {
     "name": "stdout",
     "output_type": "stream",
     "text": [
      "Test – IoU: 0.4514, Loss: 0.5779\n",
      "---------------------\n",
      "Epoch 9/30 - MaskRCNN\n",
      "---------------------\n"
     ]
    },
    {
     "name": "stderr",
     "output_type": "stream",
     "text": [
      "100%|██████████| 41/41 [00:06<00:00,  6.08it/s]\n"
     ]
    },
    {
     "name": "stdout",
     "output_type": "stream",
     "text": [
      "Train – Mean Loss: 0.6222\n"
     ]
    },
    {
     "name": "stderr",
     "output_type": "stream",
     "text": [
      "100%|██████████| 41/41 [00:06<00:00,  6.14it/s]\n"
     ]
    },
    {
     "name": "stdout",
     "output_type": "stream",
     "text": [
      "Test – IoU: 0.4852, Loss: 0.5394\n",
      "----------------------\n",
      "Epoch 10/30 - MaskRCNN\n",
      "----------------------\n"
     ]
    },
    {
     "name": "stderr",
     "output_type": "stream",
     "text": [
      "100%|██████████| 41/41 [00:06<00:00,  6.04it/s]\n"
     ]
    },
    {
     "name": "stdout",
     "output_type": "stream",
     "text": [
      "Train – Mean Loss: 0.5136\n"
     ]
    },
    {
     "name": "stderr",
     "output_type": "stream",
     "text": [
      "100%|██████████| 41/41 [00:06<00:00,  6.15it/s]\n"
     ]
    },
    {
     "name": "stdout",
     "output_type": "stream",
     "text": [
      "Test – IoU: 0.4720, Loss: 0.4779\n",
      "----------------------\n",
      "Epoch 11/30 - MaskRCNN\n",
      "----------------------\n"
     ]
    },
    {
     "name": "stderr",
     "output_type": "stream",
     "text": [
      "100%|██████████| 41/41 [00:06<00:00,  6.37it/s]\n"
     ]
    },
    {
     "name": "stdout",
     "output_type": "stream",
     "text": [
      "Train – Mean Loss: 0.4624\n"
     ]
    },
    {
     "name": "stderr",
     "output_type": "stream",
     "text": [
      "100%|██████████| 41/41 [00:06<00:00,  6.61it/s]\n"
     ]
    },
    {
     "name": "stdout",
     "output_type": "stream",
     "text": [
      "Test – IoU: 0.4799, Loss: 0.4475\n",
      "----------------------\n",
      "Epoch 12/30 - MaskRCNN\n",
      "----------------------\n"
     ]
    },
    {
     "name": "stderr",
     "output_type": "stream",
     "text": [
      "100%|██████████| 41/41 [00:06<00:00,  6.21it/s]\n"
     ]
    },
    {
     "name": "stdout",
     "output_type": "stream",
     "text": [
      "Train – Mean Loss: 0.4372\n"
     ]
    },
    {
     "name": "stderr",
     "output_type": "stream",
     "text": [
      "100%|██████████| 41/41 [00:06<00:00,  6.66it/s]\n"
     ]
    },
    {
     "name": "stdout",
     "output_type": "stream",
     "text": [
      "Test – IoU: 0.4770, Loss: 0.4168\n",
      "----------------------\n",
      "Epoch 13/30 - MaskRCNN\n",
      "----------------------\n"
     ]
    },
    {
     "name": "stderr",
     "output_type": "stream",
     "text": [
      "100%|██████████| 41/41 [00:06<00:00,  6.03it/s]\n"
     ]
    },
    {
     "name": "stdout",
     "output_type": "stream",
     "text": [
      "Train – Mean Loss: 0.4155\n"
     ]
    },
    {
     "name": "stderr",
     "output_type": "stream",
     "text": [
      "100%|██████████| 41/41 [00:06<00:00,  6.71it/s]\n"
     ]
    },
    {
     "name": "stdout",
     "output_type": "stream",
     "text": [
      "Test – IoU: 0.4693, Loss: 0.3919\n",
      "----------------------\n",
      "Epoch 14/30 - MaskRCNN\n",
      "----------------------\n"
     ]
    },
    {
     "name": "stderr",
     "output_type": "stream",
     "text": [
      "100%|██████████| 41/41 [00:06<00:00,  6.31it/s]\n"
     ]
    },
    {
     "name": "stdout",
     "output_type": "stream",
     "text": [
      "Train – Mean Loss: 0.3892\n"
     ]
    },
    {
     "name": "stderr",
     "output_type": "stream",
     "text": [
      "100%|██████████| 41/41 [00:06<00:00,  6.20it/s]\n"
     ]
    },
    {
     "name": "stdout",
     "output_type": "stream",
     "text": [
      "Test – IoU: 0.4756, Loss: 0.3877\n",
      "----------------------\n",
      "Epoch 15/30 - MaskRCNN\n",
      "----------------------\n"
     ]
    },
    {
     "name": "stderr",
     "output_type": "stream",
     "text": [
      "100%|██████████| 41/41 [00:05<00:00,  6.95it/s]\n"
     ]
    },
    {
     "name": "stdout",
     "output_type": "stream",
     "text": [
      "Train – Mean Loss: 0.3881\n"
     ]
    },
    {
     "name": "stderr",
     "output_type": "stream",
     "text": [
      "100%|██████████| 41/41 [00:06<00:00,  6.39it/s]\n"
     ]
    },
    {
     "name": "stdout",
     "output_type": "stream",
     "text": [
      "Test – IoU: 0.4758, Loss: 0.3847\n",
      "----------------------\n",
      "Epoch 16/30 - MaskRCNN\n",
      "----------------------\n"
     ]
    },
    {
     "name": "stderr",
     "output_type": "stream",
     "text": [
      "100%|██████████| 41/41 [00:06<00:00,  6.23it/s]\n"
     ]
    },
    {
     "name": "stdout",
     "output_type": "stream",
     "text": [
      "Train – Mean Loss: 0.3840\n"
     ]
    },
    {
     "name": "stderr",
     "output_type": "stream",
     "text": [
      "100%|██████████| 41/41 [00:06<00:00,  6.15it/s]\n"
     ]
    },
    {
     "name": "stdout",
     "output_type": "stream",
     "text": [
      "Test – IoU: 0.4807, Loss: 0.3761\n",
      "----------------------\n",
      "Epoch 17/30 - MaskRCNN\n",
      "----------------------\n"
     ]
    },
    {
     "name": "stderr",
     "output_type": "stream",
     "text": [
      "100%|██████████| 41/41 [00:06<00:00,  5.96it/s]\n"
     ]
    },
    {
     "name": "stdout",
     "output_type": "stream",
     "text": [
      "Train – Mean Loss: 0.3793\n"
     ]
    },
    {
     "name": "stderr",
     "output_type": "stream",
     "text": [
      "100%|██████████| 41/41 [00:05<00:00,  7.01it/s]\n"
     ]
    },
    {
     "name": "stdout",
     "output_type": "stream",
     "text": [
      "Test – IoU: 0.4717, Loss: 0.3816\n",
      "----------------------\n",
      "Epoch 18/30 - MaskRCNN\n",
      "----------------------\n"
     ]
    },
    {
     "name": "stderr",
     "output_type": "stream",
     "text": [
      "100%|██████████| 41/41 [00:06<00:00,  6.39it/s]\n"
     ]
    },
    {
     "name": "stdout",
     "output_type": "stream",
     "text": [
      "Train – Mean Loss: 0.3744\n"
     ]
    },
    {
     "name": "stderr",
     "output_type": "stream",
     "text": [
      "100%|██████████| 41/41 [00:06<00:00,  6.02it/s]\n"
     ]
    },
    {
     "name": "stdout",
     "output_type": "stream",
     "text": [
      "Test – IoU: 0.4802, Loss: 0.3819\n",
      "----------------------\n",
      "Epoch 19/30 - MaskRCNN\n",
      "----------------------\n"
     ]
    },
    {
     "name": "stderr",
     "output_type": "stream",
     "text": [
      "100%|██████████| 41/41 [00:06<00:00,  6.36it/s]\n"
     ]
    },
    {
     "name": "stdout",
     "output_type": "stream",
     "text": [
      "Train – Mean Loss: 0.3779\n"
     ]
    },
    {
     "name": "stderr",
     "output_type": "stream",
     "text": [
      "100%|██████████| 41/41 [00:06<00:00,  6.78it/s]\n"
     ]
    },
    {
     "name": "stdout",
     "output_type": "stream",
     "text": [
      "Test – IoU: 0.4724, Loss: 0.3777\n",
      "----------------------\n",
      "Epoch 20/30 - MaskRCNN\n",
      "----------------------\n"
     ]
    },
    {
     "name": "stderr",
     "output_type": "stream",
     "text": [
      "100%|██████████| 41/41 [00:06<00:00,  6.27it/s]\n"
     ]
    },
    {
     "name": "stdout",
     "output_type": "stream",
     "text": [
      "Train – Mean Loss: 0.3747\n"
     ]
    },
    {
     "name": "stderr",
     "output_type": "stream",
     "text": [
      "100%|██████████| 41/41 [00:06<00:00,  6.01it/s]\n"
     ]
    },
    {
     "name": "stdout",
     "output_type": "stream",
     "text": [
      "Test – IoU: 0.4848, Loss: 0.3780\n",
      "----------------------\n",
      "Epoch 21/30 - MaskRCNN\n",
      "----------------------\n"
     ]
    },
    {
     "name": "stderr",
     "output_type": "stream",
     "text": [
      "100%|██████████| 41/41 [00:06<00:00,  6.02it/s]\n"
     ]
    },
    {
     "name": "stdout",
     "output_type": "stream",
     "text": [
      "Train – Mean Loss: 0.3774\n"
     ]
    },
    {
     "name": "stderr",
     "output_type": "stream",
     "text": [
      "100%|██████████| 41/41 [00:06<00:00,  6.13it/s]\n"
     ]
    },
    {
     "name": "stdout",
     "output_type": "stream",
     "text": [
      "Test – IoU: 0.4878, Loss: 0.3764\n",
      "----------------------\n",
      "Epoch 22/30 - MaskRCNN\n",
      "----------------------\n"
     ]
    },
    {
     "name": "stderr",
     "output_type": "stream",
     "text": [
      "100%|██████████| 41/41 [00:06<00:00,  6.48it/s]\n"
     ]
    },
    {
     "name": "stdout",
     "output_type": "stream",
     "text": [
      "Train – Mean Loss: 0.3758\n"
     ]
    },
    {
     "name": "stderr",
     "output_type": "stream",
     "text": [
      "100%|██████████| 41/41 [00:06<00:00,  6.36it/s]\n"
     ]
    },
    {
     "name": "stdout",
     "output_type": "stream",
     "text": [
      "Test – IoU: 0.4856, Loss: 0.3739\n",
      "----------------------\n",
      "Epoch 23/30 - MaskRCNN\n",
      "----------------------\n"
     ]
    },
    {
     "name": "stderr",
     "output_type": "stream",
     "text": [
      "100%|██████████| 41/41 [00:06<00:00,  6.36it/s]\n"
     ]
    },
    {
     "name": "stdout",
     "output_type": "stream",
     "text": [
      "Train – Mean Loss: 0.3738\n"
     ]
    },
    {
     "name": "stderr",
     "output_type": "stream",
     "text": [
      "100%|██████████| 41/41 [00:06<00:00,  6.28it/s]\n"
     ]
    },
    {
     "name": "stdout",
     "output_type": "stream",
     "text": [
      "Test – IoU: 0.4696, Loss: 0.3760\n",
      "----------------------\n",
      "Epoch 24/30 - MaskRCNN\n",
      "----------------------\n"
     ]
    },
    {
     "name": "stderr",
     "output_type": "stream",
     "text": [
      "100%|██████████| 41/41 [00:06<00:00,  6.07it/s]\n"
     ]
    },
    {
     "name": "stdout",
     "output_type": "stream",
     "text": [
      "Train – Mean Loss: 0.3788\n"
     ]
    },
    {
     "name": "stderr",
     "output_type": "stream",
     "text": [
      "100%|██████████| 41/41 [00:06<00:00,  6.11it/s]\n"
     ]
    },
    {
     "name": "stdout",
     "output_type": "stream",
     "text": [
      "Test – IoU: 0.4732, Loss: 0.3715\n",
      "----------------------\n",
      "Epoch 25/30 - MaskRCNN\n",
      "----------------------\n"
     ]
    },
    {
     "name": "stderr",
     "output_type": "stream",
     "text": [
      "100%|██████████| 41/41 [00:06<00:00,  6.35it/s]\n"
     ]
    },
    {
     "name": "stdout",
     "output_type": "stream",
     "text": [
      "Train – Mean Loss: 0.3783\n"
     ]
    },
    {
     "name": "stderr",
     "output_type": "stream",
     "text": [
      "100%|██████████| 41/41 [00:06<00:00,  6.57it/s]\n"
     ]
    },
    {
     "name": "stdout",
     "output_type": "stream",
     "text": [
      "Test – IoU: 0.4820, Loss: 0.3754\n",
      "----------------------\n",
      "Epoch 26/30 - MaskRCNN\n",
      "----------------------\n"
     ]
    },
    {
     "name": "stderr",
     "output_type": "stream",
     "text": [
      "100%|██████████| 41/41 [00:05<00:00,  7.04it/s]\n"
     ]
    },
    {
     "name": "stdout",
     "output_type": "stream",
     "text": [
      "Train – Mean Loss: 0.3780\n"
     ]
    },
    {
     "name": "stderr",
     "output_type": "stream",
     "text": [
      "100%|██████████| 41/41 [00:06<00:00,  6.02it/s]\n"
     ]
    },
    {
     "name": "stdout",
     "output_type": "stream",
     "text": [
      "Test – IoU: 0.4793, Loss: 0.3755\n",
      "----------------------\n",
      "Epoch 27/30 - MaskRCNN\n",
      "----------------------\n"
     ]
    },
    {
     "name": "stderr",
     "output_type": "stream",
     "text": [
      "100%|██████████| 41/41 [00:06<00:00,  6.19it/s]\n"
     ]
    },
    {
     "name": "stdout",
     "output_type": "stream",
     "text": [
      "Train – Mean Loss: 0.3746\n"
     ]
    },
    {
     "name": "stderr",
     "output_type": "stream",
     "text": [
      "100%|██████████| 41/41 [00:06<00:00,  6.80it/s]\n"
     ]
    },
    {
     "name": "stdout",
     "output_type": "stream",
     "text": [
      "Test – IoU: 0.4836, Loss: 0.3757\n",
      "----------------------\n",
      "Epoch 28/30 - MaskRCNN\n",
      "----------------------\n"
     ]
    },
    {
     "name": "stderr",
     "output_type": "stream",
     "text": [
      "100%|██████████| 41/41 [00:06<00:00,  6.18it/s]\n"
     ]
    },
    {
     "name": "stdout",
     "output_type": "stream",
     "text": [
      "Train – Mean Loss: 0.3726\n"
     ]
    },
    {
     "name": "stderr",
     "output_type": "stream",
     "text": [
      "100%|██████████| 41/41 [00:06<00:00,  6.36it/s]\n"
     ]
    },
    {
     "name": "stdout",
     "output_type": "stream",
     "text": [
      "Test – IoU: 0.4876, Loss: 0.3822\n",
      "----------------------\n",
      "Epoch 29/30 - MaskRCNN\n",
      "----------------------\n"
     ]
    },
    {
     "name": "stderr",
     "output_type": "stream",
     "text": [
      "100%|██████████| 41/41 [00:06<00:00,  6.15it/s]\n"
     ]
    },
    {
     "name": "stdout",
     "output_type": "stream",
     "text": [
      "Train – Mean Loss: 0.3777\n"
     ]
    },
    {
     "name": "stderr",
     "output_type": "stream",
     "text": [
      "100%|██████████| 41/41 [00:06<00:00,  6.22it/s]\n"
     ]
    },
    {
     "name": "stdout",
     "output_type": "stream",
     "text": [
      "Test – IoU: 0.4867, Loss: 0.3752\n",
      "----------------------\n",
      "Epoch 30/30 - MaskRCNN\n",
      "----------------------\n"
     ]
    },
    {
     "name": "stderr",
     "output_type": "stream",
     "text": [
      "100%|██████████| 41/41 [00:06<00:00,  6.31it/s]\n"
     ]
    },
    {
     "name": "stdout",
     "output_type": "stream",
     "text": [
      "Train – Mean Loss: 0.3776\n"
     ]
    },
    {
     "name": "stderr",
     "output_type": "stream",
     "text": [
      "100%|██████████| 41/41 [00:06<00:00,  6.58it/s]"
     ]
    },
    {
     "name": "stdout",
     "output_type": "stream",
     "text": [
      "Test – IoU: 0.4826, Loss: 0.3721\n"
     ]
    },
    {
     "name": "stderr",
     "output_type": "stream",
     "text": [
      "\n"
     ]
    }
   ],
   "source": [
    "import warnings\n",
    "\n",
    "load_dotenv()\n",
    "api_key = os.getenv('COMET_API_KEY')\n",
    "\n",
    "with warnings.catch_warnings():\n",
    "    warnings.filterwarnings('ignore', message='As you are running in a Jupyter environment, you will need to call `experiment.end()` when finished to ensure all metrics and code are logged before exiting.')\n",
    "\n",
    "    comet_logger = CometLogger(api_key=api_key,\n",
    "                            project_name=\"msc-thesis\",\n",
    "                            experiment_name=\"MaskRCNN\",\n",
    "                            log_env_details=False,)\n",
    "\n",
    "\n",
    "with warnings.catch_warnings():\n",
    "    warnings.filterwarnings('ignore', message='Creating a tensor from a list of numpy.ndarrays is extremely slow.')\n",
    "    maskrcnn_training_testing_loop(maskrcnn,device, train_dataloader, optimizer, scheduler, n_epochs=30, box_score_thresh=0.5, comet_logger=comet_logger)"
   ]
  },
  {
   "cell_type": "code",
   "execution_count": 61,
   "metadata": {},
   "outputs": [],
   "source": [
    "with torch.set_grad_enabled(False):\n",
    "    comet_logger.upload_images(\n",
    "        model = maskrcnn,\n",
    "        device = device,\n",
    "        dataloader = test_dataloader,\n",
    "        confidence_thr = 0.5,\n",
    "        entry_name = \"sample_img\",\n",
    "        overwrite = True,\n",
    "        indices = [0,1,2,3,4,5,6,7,8,9],\n",
    "    )"
   ]
  },
  {
   "cell_type": "code",
   "execution_count": 64,
   "metadata": {},
   "outputs": [
    {
     "name": "stderr",
     "output_type": "stream",
     "text": [
      "\u001b[1;38;5;39mCOMET INFO:\u001b[0m ---------------------------------------------------------------------------------------\n",
      "\u001b[1;38;5;39mCOMET INFO:\u001b[0m Comet.ml CometLogger Summary\n",
      "\u001b[1;38;5;39mCOMET INFO:\u001b[0m ---------------------------------------------------------------------------------------\n",
      "\u001b[1;38;5;39mCOMET INFO:\u001b[0m   Data:\n",
      "\u001b[1;38;5;39mCOMET INFO:\u001b[0m     display_summary_level : 1\n",
      "\u001b[1;38;5;39mCOMET INFO:\u001b[0m     name                  : MaskRCNN\n",
      "\u001b[1;38;5;39mCOMET INFO:\u001b[0m     url                   : https://www.comet.com/bolf-marton/msc-thesis/cf8c0d4035934bff8291396d84dc72ac\n",
      "\u001b[1;38;5;39mCOMET INFO:\u001b[0m   Metrics [count] (min, max):\n",
      "\u001b[1;38;5;39mCOMET INFO:\u001b[0m     iou [20]           : (0.0, 0.3947790845349966)\n",
      "\u001b[1;38;5;39mCOMET INFO:\u001b[0m     learning_rate [20] : (1e-05, 0.01)\n",
      "\u001b[1;38;5;39mCOMET INFO:\u001b[0m     loss [86]          : (0.40882590413093567, 55.40547180175781)\n",
      "\u001b[1;38;5;39mCOMET INFO:\u001b[0m     test_loss [20]     : (0.9949111342430115, 2.192868232727051)\n",
      "\u001b[1;38;5;39mCOMET INFO:\u001b[0m     training_loss [20] : (0.9987791776657104, 10.655182838439941)\n",
      "\u001b[1;38;5;39mCOMET INFO:\u001b[0m   Others:\n",
      "\u001b[1;38;5;39mCOMET INFO:\u001b[0m     Name : MaskRCNN\n",
      "\u001b[1;38;5;39mCOMET INFO:\u001b[0m   Uploads:\n",
      "\u001b[1;38;5;39mCOMET INFO:\u001b[0m     filename                 : 1\n",
      "\u001b[1;38;5;39mCOMET INFO:\u001b[0m     git metadata             : 1\n",
      "\u001b[1;38;5;39mCOMET INFO:\u001b[0m     git-patch (uncompressed) : 1 (46.41 KB)\n",
      "\u001b[1;38;5;39mCOMET INFO:\u001b[0m     notebook                 : 1\n",
      "\u001b[1;38;5;39mCOMET INFO:\u001b[0m     source_code              : 1\n",
      "\u001b[1;38;5;39mCOMET INFO:\u001b[0m \n"
     ]
    },
    {
     "name": "stderr",
     "output_type": "stream",
     "text": [
      "\u001b[1;38;5;39mCOMET INFO:\u001b[0m Uploading 26 metrics, params and output messages\n",
      "\u001b[1;38;5;39mCOMET INFO:\u001b[0m Please wait for assets to finish uploading (timeout is 10800 seconds)\n",
      "\u001b[1;38;5;39mCOMET INFO:\u001b[0m All assets have been sent, waiting for delivery confirmation\n"
     ]
    }
   ],
   "source": [
    "comet_logger.end()"
   ]
  },
  {
   "cell_type": "code",
   "execution_count": null,
   "metadata": {},
   "outputs": [],
   "source": [
    "torch.save(maskrcnn.state_dict(), \"src/models/MaskRCNN_trained.pth\")"
   ]
  }
 ],
 "metadata": {
  "kernelspec": {
   "display_name": ".venv",
   "language": "python",
   "name": "python3"
  },
  "language_info": {
   "codemirror_mode": {
    "name": "ipython",
    "version": 3
   },
   "file_extension": ".py",
   "mimetype": "text/x-python",
   "name": "python",
   "nbconvert_exporter": "python",
   "pygments_lexer": "ipython3",
   "version": "3.10.17"
  }
 },
 "nbformat": 4,
 "nbformat_minor": 2
}
