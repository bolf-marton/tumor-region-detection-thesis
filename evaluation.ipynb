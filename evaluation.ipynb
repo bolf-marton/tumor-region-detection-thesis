{
 "cells": [
  {
   "cell_type": "markdown",
   "id": "35ed3864",
   "metadata": {},
   "source": [
    "# Initialization"
   ]
  },
  {
   "cell_type": "code",
   "execution_count": 1,
   "id": "c9f2f13e",
   "metadata": {},
   "outputs": [],
   "source": [
    "%load_ext autoreload\n",
    "%autoreload 2"
   ]
  },
  {
   "cell_type": "code",
   "execution_count": 93,
   "id": "fb47903f",
   "metadata": {},
   "outputs": [
    {
     "data": {
      "text/plain": [
       "<torch._C.Generator at 0x7f06742376d0>"
      ]
     },
     "execution_count": 93,
     "metadata": {},
     "output_type": "execute_result"
    }
   ],
   "source": [
    "import os\n",
    "import torch\n",
    "import numpy as np\n",
    "from torch.utils.data import DataLoader\n",
    "from pathlib import Path\n",
    "import warnings\n",
    "import pickle\n",
    "import pandas as pd\n",
    "from IPython.display import display\n",
    "import matplotlib.pyplot as plt\n",
    "import seaborn as sns\n",
    "\n",
    "from src.utils.coco import COCODataset\n",
    "from src.utils.pretty_print import *\n",
    "from src.models import get_model_resnet34, get_model_unet, get_model_maskrcnn_with_groupnorm\n",
    "from src.utils.eval import resnet_eval, unet_eval, maskrcnn_eval\n",
    "from src.utils.visualization import visualize_masks\n",
    "\n",
    "os.environ[\"CUDA_VISIBLE_DEVICES\"] = \"0\"\n",
    "device = \"cuda\" if torch.cuda.is_available() else \"cpu\"\n",
    "\n",
    "SEED = 42\n",
    "\n",
    "# for reproducibility\n",
    "torch.manual_seed(SEED)"
   ]
  },
  {
   "cell_type": "markdown",
   "id": "fa0f9364",
   "metadata": {},
   "source": [
    "# Datasets"
   ]
  },
  {
   "cell_type": "markdown",
   "id": "9b4c2047",
   "metadata": {},
   "source": [
    "## Slide dataset"
   ]
  },
  {
   "cell_type": "code",
   "execution_count": 24,
   "id": "36fccd82",
   "metadata": {},
   "outputs": [],
   "source": [
    "slide_path = Path(\"/storage01/bolma/dev/data/datasets/WSI-ROI/slides/l8/annotations.json\")"
   ]
  },
  {
   "cell_type": "code",
   "execution_count": 25,
   "id": "6bc34926",
   "metadata": {},
   "outputs": [
    {
     "name": "stdout",
     "output_type": "stream",
     "text": [
      "loading annotations into memory...\n",
      "Done (t=0.00s)\n",
      "creating index...\n",
      "index created!\n",
      "\n",
      "\u001b[92m✅ Loaded split from dataset_split.json\u001b[0m\n",
      "\n",
      "\u001b[92m✅ Found 38 training images and 10 test images\u001b[0m\n",
      "\n",
      "\u001b[92m✅ Loaded test set with 10 images\n",
      "\u001b[0m\n",
      "\n",
      "\u001b[92m✅ Datasets is ready to use!\u001b[0m\n"
     ]
    }
   ],
   "source": [
    "slide_dataset = COCODataset(\n",
    "    annotation_file=slide_path,\n",
    "    train=False,\n",
    "    transform=None,\n",
    "    random_seed=SEED,\n",
    "    split_file=Path(\"dataset_split.json\"),\n",
    "    bbox_format='pascal_voc'\n",
    ")\n",
    "\n",
    "print_success(\"Datasets is ready to use!\")"
   ]
  },
  {
   "cell_type": "code",
   "execution_count": 46,
   "id": "2b09bd14",
   "metadata": {},
   "outputs": [],
   "source": [
    "BATCH_SIZE = 1\n",
    "NUM_WORKERS = 8"
   ]
  },
  {
   "cell_type": "code",
   "execution_count": 47,
   "id": "98da380e",
   "metadata": {},
   "outputs": [
    {
     "name": "stdout",
     "output_type": "stream",
     "text": [
      "\n",
      "ℹ️ Created DataLoader with batch size 1\n",
      "\t- Test batches: 10\n"
     ]
    }
   ],
   "source": [
    "slide_dataloader = DataLoader(\n",
    "    slide_dataset,\n",
    "    batch_size=BATCH_SIZE,\n",
    "    shuffle=False,\n",
    "    num_workers=NUM_WORKERS,\n",
    "    #collate_fn=lambda x: tuple(zip(*x))\n",
    ")\n",
    "\n",
    "print_info(f\"Created DataLoader with batch size {BATCH_SIZE}\")\n",
    "print(f\"\\t- Test batches: {len(slide_dataloader)}\")"
   ]
  },
  {
   "cell_type": "markdown",
   "id": "7eff85fb",
   "metadata": {},
   "source": [
    "## Tile dataset"
   ]
  },
  {
   "cell_type": "code",
   "execution_count": 3,
   "id": "0f29d6e0",
   "metadata": {},
   "outputs": [],
   "source": [
    "tile_path = Path(\"/storage01/bolma/dev/data/datasets/WSI-ROI/tiles/l6_256x256_tiles.json\")"
   ]
  },
  {
   "cell_type": "code",
   "execution_count": 4,
   "id": "568fdc6f",
   "metadata": {},
   "outputs": [
    {
     "name": "stdout",
     "output_type": "stream",
     "text": [
      "loading annotations into memory...\n",
      "Done (t=0.01s)\n",
      "creating index...\n",
      "index created!\n",
      "\n",
      "\u001b[92m✅ Loaded split from dataset_split.json\u001b[0m\n",
      "\n",
      "\u001b[92m✅ Found 4423 training images and 1211 test images\u001b[0m\n",
      "\n",
      "\u001b[92m✅ Loaded test set with 1211 images\n",
      "\u001b[0m\n",
      "\n",
      "\u001b[92m✅ Datasets is ready to use!\u001b[0m\n"
     ]
    }
   ],
   "source": [
    "tile_dataset = COCODataset(\n",
    "    annotation_file=tile_path,\n",
    "    train=False,\n",
    "    transform=None,\n",
    "    random_seed=SEED,\n",
    "    split_file=Path(\"dataset_split.json\"),\n",
    "    bbox_format='pascal_voc'\n",
    ")\n",
    "\n",
    "print_success(\"Datasets is ready to use!\")"
   ]
  },
  {
   "cell_type": "code",
   "execution_count": 5,
   "id": "309b548e",
   "metadata": {},
   "outputs": [],
   "source": [
    "BATCH_SIZE = 32\n",
    "NUM_WORKERS = 8"
   ]
  },
  {
   "cell_type": "code",
   "execution_count": 6,
   "id": "f2b9fd92",
   "metadata": {},
   "outputs": [],
   "source": [
    "def classification_collate_fn(batch):\n",
    "    \"\"\"\n",
    "    Custom collate function for to properly handle batching for classification tasks.\n",
    "    \"\"\"\n",
    "    images = []\n",
    "    labels = []\n",
    "    \n",
    "    for sample in batch:\n",
    "        image, target = sample\n",
    "        images.append(image)\n",
    "        \n",
    "        # For classification, we only need the label\n",
    "        # Assuming the first label is the class we want to predict\n",
    "        if 'labels' in target and len(target['labels']) > 0:\n",
    "            labels.append(target['labels'][0])\n",
    "        else:\n",
    "            # Default to class 0 if no label is present\n",
    "            labels.append(torch.tensor(0))\n",
    "    \n",
    "    # Stack images and labels into batches\n",
    "    images = torch.stack(images, 0)\n",
    "    labels = torch.stack(labels, 0)\n",
    "    \n",
    "    return images, {'labels': labels}"
   ]
  },
  {
   "cell_type": "code",
   "execution_count": 7,
   "id": "fbed346f",
   "metadata": {},
   "outputs": [
    {
     "name": "stdout",
     "output_type": "stream",
     "text": [
      "\n",
      "ℹ️ Created DataLoader with batch size 32\n",
      "\t- Test batches: 38\n"
     ]
    }
   ],
   "source": [
    "tile_dataloader = DataLoader(\n",
    "    tile_dataset,\n",
    "    batch_size=BATCH_SIZE,\n",
    "    shuffle=False,\n",
    "    num_workers=NUM_WORKERS,\n",
    "    collate_fn=classification_collate_fn\n",
    ")\n",
    "\n",
    "print_info(f\"Created DataLoader with batch size {BATCH_SIZE}\")\n",
    "print(f\"\\t- Test batches: {len(tile_dataloader)}\")"
   ]
  },
  {
   "cell_type": "markdown",
   "id": "4f515086",
   "metadata": {},
   "source": [
    "# Evaluation"
   ]
  },
  {
   "cell_type": "markdown",
   "id": "fc06e498",
   "metadata": {},
   "source": [
    "## Tile-based"
   ]
  },
  {
   "cell_type": "code",
   "execution_count": 8,
   "id": "f6816c1b",
   "metadata": {},
   "outputs": [
    {
     "name": "stderr",
     "output_type": "stream",
     "text": [
      "Using cache found in /home/bolma/.cache/torch/hub/pytorch_vision_v0.10.0\n"
     ]
    }
   ],
   "source": [
    "resnet = get_model_resnet34(num_classes=2, pretrained=True)\n",
    "\n",
    "optimizer = torch.optim.SGD(resnet.parameters(), lr=0.01, momentum=0.9)"
   ]
  },
  {
   "cell_type": "code",
   "execution_count": 9,
   "id": "16caca23",
   "metadata": {},
   "outputs": [
    {
     "data": {
      "text/plain": [
       "ResNet(\n",
       "  (conv1): Conv2d(3, 64, kernel_size=(7, 7), stride=(2, 2), padding=(3, 3), bias=False)\n",
       "  (bn1): BatchNorm2d(64, eps=1e-05, momentum=0.1, affine=True, track_running_stats=True)\n",
       "  (relu): ReLU(inplace=True)\n",
       "  (maxpool): MaxPool2d(kernel_size=3, stride=2, padding=1, dilation=1, ceil_mode=False)\n",
       "  (layer1): Sequential(\n",
       "    (0): BasicBlock(\n",
       "      (conv1): Conv2d(64, 64, kernel_size=(3, 3), stride=(1, 1), padding=(1, 1), bias=False)\n",
       "      (bn1): BatchNorm2d(64, eps=1e-05, momentum=0.1, affine=True, track_running_stats=True)\n",
       "      (relu): ReLU(inplace=True)\n",
       "      (conv2): Conv2d(64, 64, kernel_size=(3, 3), stride=(1, 1), padding=(1, 1), bias=False)\n",
       "      (bn2): BatchNorm2d(64, eps=1e-05, momentum=0.1, affine=True, track_running_stats=True)\n",
       "    )\n",
       "    (1): BasicBlock(\n",
       "      (conv1): Conv2d(64, 64, kernel_size=(3, 3), stride=(1, 1), padding=(1, 1), bias=False)\n",
       "      (bn1): BatchNorm2d(64, eps=1e-05, momentum=0.1, affine=True, track_running_stats=True)\n",
       "      (relu): ReLU(inplace=True)\n",
       "      (conv2): Conv2d(64, 64, kernel_size=(3, 3), stride=(1, 1), padding=(1, 1), bias=False)\n",
       "      (bn2): BatchNorm2d(64, eps=1e-05, momentum=0.1, affine=True, track_running_stats=True)\n",
       "    )\n",
       "    (2): BasicBlock(\n",
       "      (conv1): Conv2d(64, 64, kernel_size=(3, 3), stride=(1, 1), padding=(1, 1), bias=False)\n",
       "      (bn1): BatchNorm2d(64, eps=1e-05, momentum=0.1, affine=True, track_running_stats=True)\n",
       "      (relu): ReLU(inplace=True)\n",
       "      (conv2): Conv2d(64, 64, kernel_size=(3, 3), stride=(1, 1), padding=(1, 1), bias=False)\n",
       "      (bn2): BatchNorm2d(64, eps=1e-05, momentum=0.1, affine=True, track_running_stats=True)\n",
       "    )\n",
       "  )\n",
       "  (layer2): Sequential(\n",
       "    (0): BasicBlock(\n",
       "      (conv1): Conv2d(64, 128, kernel_size=(3, 3), stride=(2, 2), padding=(1, 1), bias=False)\n",
       "      (bn1): BatchNorm2d(128, eps=1e-05, momentum=0.1, affine=True, track_running_stats=True)\n",
       "      (relu): ReLU(inplace=True)\n",
       "      (conv2): Conv2d(128, 128, kernel_size=(3, 3), stride=(1, 1), padding=(1, 1), bias=False)\n",
       "      (bn2): BatchNorm2d(128, eps=1e-05, momentum=0.1, affine=True, track_running_stats=True)\n",
       "      (downsample): Sequential(\n",
       "        (0): Conv2d(64, 128, kernel_size=(1, 1), stride=(2, 2), bias=False)\n",
       "        (1): BatchNorm2d(128, eps=1e-05, momentum=0.1, affine=True, track_running_stats=True)\n",
       "      )\n",
       "    )\n",
       "    (1): BasicBlock(\n",
       "      (conv1): Conv2d(128, 128, kernel_size=(3, 3), stride=(1, 1), padding=(1, 1), bias=False)\n",
       "      (bn1): BatchNorm2d(128, eps=1e-05, momentum=0.1, affine=True, track_running_stats=True)\n",
       "      (relu): ReLU(inplace=True)\n",
       "      (conv2): Conv2d(128, 128, kernel_size=(3, 3), stride=(1, 1), padding=(1, 1), bias=False)\n",
       "      (bn2): BatchNorm2d(128, eps=1e-05, momentum=0.1, affine=True, track_running_stats=True)\n",
       "    )\n",
       "    (2): BasicBlock(\n",
       "      (conv1): Conv2d(128, 128, kernel_size=(3, 3), stride=(1, 1), padding=(1, 1), bias=False)\n",
       "      (bn1): BatchNorm2d(128, eps=1e-05, momentum=0.1, affine=True, track_running_stats=True)\n",
       "      (relu): ReLU(inplace=True)\n",
       "      (conv2): Conv2d(128, 128, kernel_size=(3, 3), stride=(1, 1), padding=(1, 1), bias=False)\n",
       "      (bn2): BatchNorm2d(128, eps=1e-05, momentum=0.1, affine=True, track_running_stats=True)\n",
       "    )\n",
       "    (3): BasicBlock(\n",
       "      (conv1): Conv2d(128, 128, kernel_size=(3, 3), stride=(1, 1), padding=(1, 1), bias=False)\n",
       "      (bn1): BatchNorm2d(128, eps=1e-05, momentum=0.1, affine=True, track_running_stats=True)\n",
       "      (relu): ReLU(inplace=True)\n",
       "      (conv2): Conv2d(128, 128, kernel_size=(3, 3), stride=(1, 1), padding=(1, 1), bias=False)\n",
       "      (bn2): BatchNorm2d(128, eps=1e-05, momentum=0.1, affine=True, track_running_stats=True)\n",
       "    )\n",
       "  )\n",
       "  (layer3): Sequential(\n",
       "    (0): BasicBlock(\n",
       "      (conv1): Conv2d(128, 256, kernel_size=(3, 3), stride=(2, 2), padding=(1, 1), bias=False)\n",
       "      (bn1): BatchNorm2d(256, eps=1e-05, momentum=0.1, affine=True, track_running_stats=True)\n",
       "      (relu): ReLU(inplace=True)\n",
       "      (conv2): Conv2d(256, 256, kernel_size=(3, 3), stride=(1, 1), padding=(1, 1), bias=False)\n",
       "      (bn2): BatchNorm2d(256, eps=1e-05, momentum=0.1, affine=True, track_running_stats=True)\n",
       "      (downsample): Sequential(\n",
       "        (0): Conv2d(128, 256, kernel_size=(1, 1), stride=(2, 2), bias=False)\n",
       "        (1): BatchNorm2d(256, eps=1e-05, momentum=0.1, affine=True, track_running_stats=True)\n",
       "      )\n",
       "    )\n",
       "    (1): BasicBlock(\n",
       "      (conv1): Conv2d(256, 256, kernel_size=(3, 3), stride=(1, 1), padding=(1, 1), bias=False)\n",
       "      (bn1): BatchNorm2d(256, eps=1e-05, momentum=0.1, affine=True, track_running_stats=True)\n",
       "      (relu): ReLU(inplace=True)\n",
       "      (conv2): Conv2d(256, 256, kernel_size=(3, 3), stride=(1, 1), padding=(1, 1), bias=False)\n",
       "      (bn2): BatchNorm2d(256, eps=1e-05, momentum=0.1, affine=True, track_running_stats=True)\n",
       "    )\n",
       "    (2): BasicBlock(\n",
       "      (conv1): Conv2d(256, 256, kernel_size=(3, 3), stride=(1, 1), padding=(1, 1), bias=False)\n",
       "      (bn1): BatchNorm2d(256, eps=1e-05, momentum=0.1, affine=True, track_running_stats=True)\n",
       "      (relu): ReLU(inplace=True)\n",
       "      (conv2): Conv2d(256, 256, kernel_size=(3, 3), stride=(1, 1), padding=(1, 1), bias=False)\n",
       "      (bn2): BatchNorm2d(256, eps=1e-05, momentum=0.1, affine=True, track_running_stats=True)\n",
       "    )\n",
       "    (3): BasicBlock(\n",
       "      (conv1): Conv2d(256, 256, kernel_size=(3, 3), stride=(1, 1), padding=(1, 1), bias=False)\n",
       "      (bn1): BatchNorm2d(256, eps=1e-05, momentum=0.1, affine=True, track_running_stats=True)\n",
       "      (relu): ReLU(inplace=True)\n",
       "      (conv2): Conv2d(256, 256, kernel_size=(3, 3), stride=(1, 1), padding=(1, 1), bias=False)\n",
       "      (bn2): BatchNorm2d(256, eps=1e-05, momentum=0.1, affine=True, track_running_stats=True)\n",
       "    )\n",
       "    (4): BasicBlock(\n",
       "      (conv1): Conv2d(256, 256, kernel_size=(3, 3), stride=(1, 1), padding=(1, 1), bias=False)\n",
       "      (bn1): BatchNorm2d(256, eps=1e-05, momentum=0.1, affine=True, track_running_stats=True)\n",
       "      (relu): ReLU(inplace=True)\n",
       "      (conv2): Conv2d(256, 256, kernel_size=(3, 3), stride=(1, 1), padding=(1, 1), bias=False)\n",
       "      (bn2): BatchNorm2d(256, eps=1e-05, momentum=0.1, affine=True, track_running_stats=True)\n",
       "    )\n",
       "    (5): BasicBlock(\n",
       "      (conv1): Conv2d(256, 256, kernel_size=(3, 3), stride=(1, 1), padding=(1, 1), bias=False)\n",
       "      (bn1): BatchNorm2d(256, eps=1e-05, momentum=0.1, affine=True, track_running_stats=True)\n",
       "      (relu): ReLU(inplace=True)\n",
       "      (conv2): Conv2d(256, 256, kernel_size=(3, 3), stride=(1, 1), padding=(1, 1), bias=False)\n",
       "      (bn2): BatchNorm2d(256, eps=1e-05, momentum=0.1, affine=True, track_running_stats=True)\n",
       "    )\n",
       "  )\n",
       "  (layer4): Sequential(\n",
       "    (0): BasicBlock(\n",
       "      (conv1): Conv2d(256, 512, kernel_size=(3, 3), stride=(2, 2), padding=(1, 1), bias=False)\n",
       "      (bn1): BatchNorm2d(512, eps=1e-05, momentum=0.1, affine=True, track_running_stats=True)\n",
       "      (relu): ReLU(inplace=True)\n",
       "      (conv2): Conv2d(512, 512, kernel_size=(3, 3), stride=(1, 1), padding=(1, 1), bias=False)\n",
       "      (bn2): BatchNorm2d(512, eps=1e-05, momentum=0.1, affine=True, track_running_stats=True)\n",
       "      (downsample): Sequential(\n",
       "        (0): Conv2d(256, 512, kernel_size=(1, 1), stride=(2, 2), bias=False)\n",
       "        (1): BatchNorm2d(512, eps=1e-05, momentum=0.1, affine=True, track_running_stats=True)\n",
       "      )\n",
       "    )\n",
       "    (1): BasicBlock(\n",
       "      (conv1): Conv2d(512, 512, kernel_size=(3, 3), stride=(1, 1), padding=(1, 1), bias=False)\n",
       "      (bn1): BatchNorm2d(512, eps=1e-05, momentum=0.1, affine=True, track_running_stats=True)\n",
       "      (relu): ReLU(inplace=True)\n",
       "      (conv2): Conv2d(512, 512, kernel_size=(3, 3), stride=(1, 1), padding=(1, 1), bias=False)\n",
       "      (bn2): BatchNorm2d(512, eps=1e-05, momentum=0.1, affine=True, track_running_stats=True)\n",
       "    )\n",
       "    (2): BasicBlock(\n",
       "      (conv1): Conv2d(512, 512, kernel_size=(3, 3), stride=(1, 1), padding=(1, 1), bias=False)\n",
       "      (bn1): BatchNorm2d(512, eps=1e-05, momentum=0.1, affine=True, track_running_stats=True)\n",
       "      (relu): ReLU(inplace=True)\n",
       "      (conv2): Conv2d(512, 512, kernel_size=(3, 3), stride=(1, 1), padding=(1, 1), bias=False)\n",
       "      (bn2): BatchNorm2d(512, eps=1e-05, momentum=0.1, affine=True, track_running_stats=True)\n",
       "    )\n",
       "  )\n",
       "  (avgpool): AdaptiveAvgPool2d(output_size=(1, 1))\n",
       "  (fc): Linear(in_features=512, out_features=2, bias=True)\n",
       ")"
      ]
     },
     "execution_count": 9,
     "metadata": {},
     "output_type": "execute_result"
    }
   ],
   "source": [
    "resnet.load_state_dict(torch.load(\"src/models/weights/ResNet_trained_weights_eval.pth\", weights_only=True))\n",
    "resnet.eval()"
   ]
  },
  {
   "cell_type": "code",
   "execution_count": 154,
   "id": "c803912b",
   "metadata": {},
   "outputs": [
    {
     "name": "stdout",
     "output_type": "stream",
     "text": [
      "loading annotations into memory...\n",
      "Done (t=0.01s)\n",
      "creating index...\n",
      "index created!\n",
      "\n",
      "\u001b[92m✅ Loaded split from /storage01/bolma/dev/tumor-region-detection-thesis/dataset_split.json\u001b[0m\n",
      "\n",
      "\u001b[92m✅ Found 4423 training images and 1211 test images\u001b[0m\n",
      "\n",
      "\u001b[92m✅ Loaded test set with 1211 images\n",
      "\u001b[0m\n"
     ]
    },
    {
     "name": "stderr",
     "output_type": "stream",
     "text": []
    },
    {
     "name": "stderr",
     "output_type": "stream",
     "text": [
      "Processing images: 100%|██████████| 1211/1211 [00:05<00:00, 222.30it/s]\n"
     ]
    },
    {
     "name": "stdout",
     "output_type": "stream",
     "text": [
      "Found 10 unique WSI sources.\n"
     ]
    },
    {
     "name": "stderr",
     "output_type": "stream",
     "text": [
      "Creating masks from tile groups: 100%|██████████| 10/10 [00:00<00:00, 386.97it/s]\n"
     ]
    },
    {
     "name": "stdout",
     "output_type": "stream",
     "text": [
      "\n",
      "\u001b[92m✅ Results saved to results/resnet_results.pkl\u001b[0m\n"
     ]
    }
   ],
   "source": [
    "resnet_results = resnet_eval(model=resnet,device=device, eval_dataset_annotation_path=tile_path)\n",
    "\n",
    "results_path = Path(\"results/resnet_results.pkl\")\n",
    "    \n",
    "with open(results_path, 'wb') as f:\n",
    "    pickle.dump(resnet_results, f)\n",
    "print_success(f\"Results saved to {results_path}\")"
   ]
  },
  {
   "cell_type": "code",
   "execution_count": 41,
   "id": "bbcb9a1f",
   "metadata": {},
   "outputs": [
    {
     "name": "stdout",
     "output_type": "stream",
     "text": [
      "Mean IoU = 0.4954, Mean inference time = 2.7725 s\n"
     ]
    }
   ],
   "source": [
    "print(f\"Mean IoU = {np.average(np.array(resnet_results['ious'])):.4f}, Mean inference time = {np.average(np.array(resnet_results['inference_times'])):.4f} s\")"
   ]
  },
  {
   "cell_type": "markdown",
   "id": "e3875b0b",
   "metadata": {},
   "source": [
    "## Semantic segmentation"
   ]
  },
  {
   "cell_type": "code",
   "execution_count": 43,
   "id": "3dceb170",
   "metadata": {},
   "outputs": [],
   "source": [
    "unet = get_model_unet(in_channels=3,\n",
    "                          out_channels=1,\n",
    "                          features=[32, 64, 128, 256])"
   ]
  },
  {
   "cell_type": "code",
   "execution_count": 44,
   "id": "42d14b2f",
   "metadata": {},
   "outputs": [
    {
     "data": {
      "text/plain": [
       "UNet(\n",
       "  (ups): ModuleList(\n",
       "    (0): ConvTranspose2d(512, 256, kernel_size=(2, 2), stride=(2, 2))\n",
       "    (1): DoubleConv(\n",
       "      (conv): Sequential(\n",
       "        (0): Conv2d(512, 256, kernel_size=(3, 3), stride=(1, 1), padding=(1, 1), bias=False)\n",
       "        (1): BatchNorm2d(256, eps=1e-05, momentum=0.1, affine=True, track_running_stats=True)\n",
       "        (2): ReLU(inplace=True)\n",
       "        (3): Conv2d(256, 256, kernel_size=(3, 3), stride=(1, 1), padding=(1, 1), bias=False)\n",
       "        (4): BatchNorm2d(256, eps=1e-05, momentum=0.1, affine=True, track_running_stats=True)\n",
       "        (5): ReLU(inplace=True)\n",
       "      )\n",
       "    )\n",
       "    (2): ConvTranspose2d(256, 128, kernel_size=(2, 2), stride=(2, 2))\n",
       "    (3): DoubleConv(\n",
       "      (conv): Sequential(\n",
       "        (0): Conv2d(256, 128, kernel_size=(3, 3), stride=(1, 1), padding=(1, 1), bias=False)\n",
       "        (1): BatchNorm2d(128, eps=1e-05, momentum=0.1, affine=True, track_running_stats=True)\n",
       "        (2): ReLU(inplace=True)\n",
       "        (3): Conv2d(128, 128, kernel_size=(3, 3), stride=(1, 1), padding=(1, 1), bias=False)\n",
       "        (4): BatchNorm2d(128, eps=1e-05, momentum=0.1, affine=True, track_running_stats=True)\n",
       "        (5): ReLU(inplace=True)\n",
       "      )\n",
       "    )\n",
       "    (4): ConvTranspose2d(128, 64, kernel_size=(2, 2), stride=(2, 2))\n",
       "    (5): DoubleConv(\n",
       "      (conv): Sequential(\n",
       "        (0): Conv2d(128, 64, kernel_size=(3, 3), stride=(1, 1), padding=(1, 1), bias=False)\n",
       "        (1): BatchNorm2d(64, eps=1e-05, momentum=0.1, affine=True, track_running_stats=True)\n",
       "        (2): ReLU(inplace=True)\n",
       "        (3): Conv2d(64, 64, kernel_size=(3, 3), stride=(1, 1), padding=(1, 1), bias=False)\n",
       "        (4): BatchNorm2d(64, eps=1e-05, momentum=0.1, affine=True, track_running_stats=True)\n",
       "        (5): ReLU(inplace=True)\n",
       "      )\n",
       "    )\n",
       "    (6): ConvTranspose2d(64, 32, kernel_size=(2, 2), stride=(2, 2))\n",
       "    (7): DoubleConv(\n",
       "      (conv): Sequential(\n",
       "        (0): Conv2d(64, 32, kernel_size=(3, 3), stride=(1, 1), padding=(1, 1), bias=False)\n",
       "        (1): BatchNorm2d(32, eps=1e-05, momentum=0.1, affine=True, track_running_stats=True)\n",
       "        (2): ReLU(inplace=True)\n",
       "        (3): Conv2d(32, 32, kernel_size=(3, 3), stride=(1, 1), padding=(1, 1), bias=False)\n",
       "        (4): BatchNorm2d(32, eps=1e-05, momentum=0.1, affine=True, track_running_stats=True)\n",
       "        (5): ReLU(inplace=True)\n",
       "      )\n",
       "    )\n",
       "  )\n",
       "  (downs): ModuleList(\n",
       "    (0): DoubleConv(\n",
       "      (conv): Sequential(\n",
       "        (0): Conv2d(3, 32, kernel_size=(3, 3), stride=(1, 1), padding=(1, 1), bias=False)\n",
       "        (1): BatchNorm2d(32, eps=1e-05, momentum=0.1, affine=True, track_running_stats=True)\n",
       "        (2): ReLU(inplace=True)\n",
       "        (3): Conv2d(32, 32, kernel_size=(3, 3), stride=(1, 1), padding=(1, 1), bias=False)\n",
       "        (4): BatchNorm2d(32, eps=1e-05, momentum=0.1, affine=True, track_running_stats=True)\n",
       "        (5): ReLU(inplace=True)\n",
       "      )\n",
       "    )\n",
       "    (1): DoubleConv(\n",
       "      (conv): Sequential(\n",
       "        (0): Conv2d(32, 64, kernel_size=(3, 3), stride=(1, 1), padding=(1, 1), bias=False)\n",
       "        (1): BatchNorm2d(64, eps=1e-05, momentum=0.1, affine=True, track_running_stats=True)\n",
       "        (2): ReLU(inplace=True)\n",
       "        (3): Conv2d(64, 64, kernel_size=(3, 3), stride=(1, 1), padding=(1, 1), bias=False)\n",
       "        (4): BatchNorm2d(64, eps=1e-05, momentum=0.1, affine=True, track_running_stats=True)\n",
       "        (5): ReLU(inplace=True)\n",
       "      )\n",
       "    )\n",
       "    (2): DoubleConv(\n",
       "      (conv): Sequential(\n",
       "        (0): Conv2d(64, 128, kernel_size=(3, 3), stride=(1, 1), padding=(1, 1), bias=False)\n",
       "        (1): BatchNorm2d(128, eps=1e-05, momentum=0.1, affine=True, track_running_stats=True)\n",
       "        (2): ReLU(inplace=True)\n",
       "        (3): Conv2d(128, 128, kernel_size=(3, 3), stride=(1, 1), padding=(1, 1), bias=False)\n",
       "        (4): BatchNorm2d(128, eps=1e-05, momentum=0.1, affine=True, track_running_stats=True)\n",
       "        (5): ReLU(inplace=True)\n",
       "      )\n",
       "    )\n",
       "    (3): DoubleConv(\n",
       "      (conv): Sequential(\n",
       "        (0): Conv2d(128, 256, kernel_size=(3, 3), stride=(1, 1), padding=(1, 1), bias=False)\n",
       "        (1): BatchNorm2d(256, eps=1e-05, momentum=0.1, affine=True, track_running_stats=True)\n",
       "        (2): ReLU(inplace=True)\n",
       "        (3): Conv2d(256, 256, kernel_size=(3, 3), stride=(1, 1), padding=(1, 1), bias=False)\n",
       "        (4): BatchNorm2d(256, eps=1e-05, momentum=0.1, affine=True, track_running_stats=True)\n",
       "        (5): ReLU(inplace=True)\n",
       "      )\n",
       "    )\n",
       "  )\n",
       "  (pool): MaxPool2d(kernel_size=2, stride=2, padding=0, dilation=1, ceil_mode=False)\n",
       "  (bottleneck): DoubleConv(\n",
       "    (conv): Sequential(\n",
       "      (0): Conv2d(256, 512, kernel_size=(3, 3), stride=(1, 1), padding=(1, 1), bias=False)\n",
       "      (1): BatchNorm2d(512, eps=1e-05, momentum=0.1, affine=True, track_running_stats=True)\n",
       "      (2): ReLU(inplace=True)\n",
       "      (3): Conv2d(512, 512, kernel_size=(3, 3), stride=(1, 1), padding=(1, 1), bias=False)\n",
       "      (4): BatchNorm2d(512, eps=1e-05, momentum=0.1, affine=True, track_running_stats=True)\n",
       "      (5): ReLU(inplace=True)\n",
       "    )\n",
       "  )\n",
       "  (final_conv): Conv2d(32, 1, kernel_size=(1, 1), stride=(1, 1))\n",
       "  (sigmoid): Sigmoid()\n",
       ")"
      ]
     },
     "execution_count": 44,
     "metadata": {},
     "output_type": "execute_result"
    }
   ],
   "source": [
    "unet.load_state_dict(torch.load(\"src/models/weights/UNet_trained_weights_eval.pth\", weights_only=True))\n",
    "unet.eval()"
   ]
  },
  {
   "cell_type": "code",
   "execution_count": 48,
   "id": "2e3e98a8",
   "metadata": {},
   "outputs": [
    {
     "name": "stderr",
     "output_type": "stream",
     "text": [
      "10it [00:01,  9.58it/s]\n"
     ]
    },
    {
     "name": "stdout",
     "output_type": "stream",
     "text": [
      "\n",
      "\u001b[92m✅ Results saved to results/unet_results.pkl\u001b[0m\n"
     ]
    }
   ],
   "source": [
    "# Supressing some warning coming from a library with legacy code\n",
    "with warnings.catch_warnings():\n",
    "    warnings.filterwarnings('ignore', message='Creating a tensor from a list of numpy.ndarrays is extremely slow.')\n",
    "    unet_results = unet_eval(\n",
    "        model=unet,\n",
    "        device=device,\n",
    "        dataloader=slide_dataloader,\n",
    ")\n",
    "    \n",
    "results_path = Path(\"results/unet_results.pkl\")\n",
    "    \n",
    "with open(results_path, 'wb') as f:\n",
    "    pickle.dump(unet_results, f)\n",
    "print_success(f\"Results saved to {results_path}\")"
   ]
  },
  {
   "cell_type": "code",
   "execution_count": 49,
   "id": "52345c59",
   "metadata": {},
   "outputs": [
    {
     "name": "stdout",
     "output_type": "stream",
     "text": [
      "Mean IoU = 0.4837, Mean inference time = 0.0214 s\n"
     ]
    }
   ],
   "source": [
    "print(f\"Mean IoU = {np.average(np.array(unet_results['ious'])):.4f}, Mean inference time = {np.average(np.array(unet_results['inference_times'])):.4f} s\")"
   ]
  },
  {
   "cell_type": "markdown",
   "id": "eebd7df2",
   "metadata": {},
   "source": [
    "## Instance segmentation"
   ]
  },
  {
   "cell_type": "code",
   "execution_count": 50,
   "id": "73aebbf9",
   "metadata": {},
   "outputs": [],
   "source": [
    "maskrcnn = get_model_maskrcnn_with_groupnorm(num_classes=2, \n",
    "                      box_score_thresh=0.1,\n",
    "                      box_nms_thresh=0.3,\n",
    "                      box_fg_iou_thresh=0.5,\n",
    "                      box_bg_iou_thresh=0.4,\n",
    "                      box_detections_per_img=10,\n",
    "                      image_mean = [0.485, 0.456, 0.406],\n",
    "                      image_std = [0.229, 0.224, 0.225])"
   ]
  },
  {
   "cell_type": "code",
   "execution_count": 51,
   "id": "04cfc079",
   "metadata": {},
   "outputs": [
    {
     "data": {
      "text/plain": [
       "MaskRCNN(\n",
       "  (transform): GeneralizedRCNNTransform(\n",
       "      Normalize(mean=[0.485, 0.456, 0.406], std=[0.229, 0.224, 0.225])\n",
       "      Resize(min_size=(800,), max_size=1333, mode='bilinear')\n",
       "  )\n",
       "  (backbone): BackboneWithFPN(\n",
       "    (body): IntermediateLayerGetter(\n",
       "      (conv1): Conv2d(3, 64, kernel_size=(7, 7), stride=(2, 2), padding=(3, 3), bias=False)\n",
       "      (bn1): GroupNorm(32, 64, eps=1e-05, affine=True)\n",
       "      (relu): ReLU(inplace=True)\n",
       "      (maxpool): MaxPool2d(kernel_size=3, stride=2, padding=1, dilation=1, ceil_mode=False)\n",
       "      (layer1): Sequential(\n",
       "        (0): Bottleneck(\n",
       "          (conv1): Conv2d(64, 64, kernel_size=(1, 1), stride=(1, 1), bias=False)\n",
       "          (bn1): GroupNorm(32, 64, eps=1e-05, affine=True)\n",
       "          (conv2): Conv2d(64, 64, kernel_size=(3, 3), stride=(1, 1), padding=(1, 1), bias=False)\n",
       "          (bn2): GroupNorm(32, 64, eps=1e-05, affine=True)\n",
       "          (conv3): Conv2d(64, 256, kernel_size=(1, 1), stride=(1, 1), bias=False)\n",
       "          (bn3): GroupNorm(32, 256, eps=1e-05, affine=True)\n",
       "          (relu): ReLU(inplace=True)\n",
       "          (downsample): Sequential(\n",
       "            (0): Conv2d(64, 256, kernel_size=(1, 1), stride=(1, 1), bias=False)\n",
       "            (1): GroupNorm(32, 256, eps=1e-05, affine=True)\n",
       "          )\n",
       "        )\n",
       "        (1): Bottleneck(\n",
       "          (conv1): Conv2d(256, 64, kernel_size=(1, 1), stride=(1, 1), bias=False)\n",
       "          (bn1): GroupNorm(32, 64, eps=1e-05, affine=True)\n",
       "          (conv2): Conv2d(64, 64, kernel_size=(3, 3), stride=(1, 1), padding=(1, 1), bias=False)\n",
       "          (bn2): GroupNorm(32, 64, eps=1e-05, affine=True)\n",
       "          (conv3): Conv2d(64, 256, kernel_size=(1, 1), stride=(1, 1), bias=False)\n",
       "          (bn3): GroupNorm(32, 256, eps=1e-05, affine=True)\n",
       "          (relu): ReLU(inplace=True)\n",
       "        )\n",
       "        (2): Bottleneck(\n",
       "          (conv1): Conv2d(256, 64, kernel_size=(1, 1), stride=(1, 1), bias=False)\n",
       "          (bn1): GroupNorm(32, 64, eps=1e-05, affine=True)\n",
       "          (conv2): Conv2d(64, 64, kernel_size=(3, 3), stride=(1, 1), padding=(1, 1), bias=False)\n",
       "          (bn2): GroupNorm(32, 64, eps=1e-05, affine=True)\n",
       "          (conv3): Conv2d(64, 256, kernel_size=(1, 1), stride=(1, 1), bias=False)\n",
       "          (bn3): GroupNorm(32, 256, eps=1e-05, affine=True)\n",
       "          (relu): ReLU(inplace=True)\n",
       "        )\n",
       "      )\n",
       "      (layer2): Sequential(\n",
       "        (0): Bottleneck(\n",
       "          (conv1): Conv2d(256, 128, kernel_size=(1, 1), stride=(1, 1), bias=False)\n",
       "          (bn1): GroupNorm(32, 128, eps=1e-05, affine=True)\n",
       "          (conv2): Conv2d(128, 128, kernel_size=(3, 3), stride=(2, 2), padding=(1, 1), bias=False)\n",
       "          (bn2): GroupNorm(32, 128, eps=1e-05, affine=True)\n",
       "          (conv3): Conv2d(128, 512, kernel_size=(1, 1), stride=(1, 1), bias=False)\n",
       "          (bn3): GroupNorm(32, 512, eps=1e-05, affine=True)\n",
       "          (relu): ReLU(inplace=True)\n",
       "          (downsample): Sequential(\n",
       "            (0): Conv2d(256, 512, kernel_size=(1, 1), stride=(2, 2), bias=False)\n",
       "            (1): GroupNorm(32, 512, eps=1e-05, affine=True)\n",
       "          )\n",
       "        )\n",
       "        (1): Bottleneck(\n",
       "          (conv1): Conv2d(512, 128, kernel_size=(1, 1), stride=(1, 1), bias=False)\n",
       "          (bn1): GroupNorm(32, 128, eps=1e-05, affine=True)\n",
       "          (conv2): Conv2d(128, 128, kernel_size=(3, 3), stride=(1, 1), padding=(1, 1), bias=False)\n",
       "          (bn2): GroupNorm(32, 128, eps=1e-05, affine=True)\n",
       "          (conv3): Conv2d(128, 512, kernel_size=(1, 1), stride=(1, 1), bias=False)\n",
       "          (bn3): GroupNorm(32, 512, eps=1e-05, affine=True)\n",
       "          (relu): ReLU(inplace=True)\n",
       "        )\n",
       "        (2): Bottleneck(\n",
       "          (conv1): Conv2d(512, 128, kernel_size=(1, 1), stride=(1, 1), bias=False)\n",
       "          (bn1): GroupNorm(32, 128, eps=1e-05, affine=True)\n",
       "          (conv2): Conv2d(128, 128, kernel_size=(3, 3), stride=(1, 1), padding=(1, 1), bias=False)\n",
       "          (bn2): GroupNorm(32, 128, eps=1e-05, affine=True)\n",
       "          (conv3): Conv2d(128, 512, kernel_size=(1, 1), stride=(1, 1), bias=False)\n",
       "          (bn3): GroupNorm(32, 512, eps=1e-05, affine=True)\n",
       "          (relu): ReLU(inplace=True)\n",
       "        )\n",
       "        (3): Bottleneck(\n",
       "          (conv1): Conv2d(512, 128, kernel_size=(1, 1), stride=(1, 1), bias=False)\n",
       "          (bn1): GroupNorm(32, 128, eps=1e-05, affine=True)\n",
       "          (conv2): Conv2d(128, 128, kernel_size=(3, 3), stride=(1, 1), padding=(1, 1), bias=False)\n",
       "          (bn2): GroupNorm(32, 128, eps=1e-05, affine=True)\n",
       "          (conv3): Conv2d(128, 512, kernel_size=(1, 1), stride=(1, 1), bias=False)\n",
       "          (bn3): GroupNorm(32, 512, eps=1e-05, affine=True)\n",
       "          (relu): ReLU(inplace=True)\n",
       "        )\n",
       "      )\n",
       "      (layer3): Sequential(\n",
       "        (0): Bottleneck(\n",
       "          (conv1): Conv2d(512, 256, kernel_size=(1, 1), stride=(1, 1), bias=False)\n",
       "          (bn1): GroupNorm(32, 256, eps=1e-05, affine=True)\n",
       "          (conv2): Conv2d(256, 256, kernel_size=(3, 3), stride=(2, 2), padding=(1, 1), bias=False)\n",
       "          (bn2): GroupNorm(32, 256, eps=1e-05, affine=True)\n",
       "          (conv3): Conv2d(256, 1024, kernel_size=(1, 1), stride=(1, 1), bias=False)\n",
       "          (bn3): GroupNorm(32, 1024, eps=1e-05, affine=True)\n",
       "          (relu): ReLU(inplace=True)\n",
       "          (downsample): Sequential(\n",
       "            (0): Conv2d(512, 1024, kernel_size=(1, 1), stride=(2, 2), bias=False)\n",
       "            (1): GroupNorm(32, 1024, eps=1e-05, affine=True)\n",
       "          )\n",
       "        )\n",
       "        (1): Bottleneck(\n",
       "          (conv1): Conv2d(1024, 256, kernel_size=(1, 1), stride=(1, 1), bias=False)\n",
       "          (bn1): GroupNorm(32, 256, eps=1e-05, affine=True)\n",
       "          (conv2): Conv2d(256, 256, kernel_size=(3, 3), stride=(1, 1), padding=(1, 1), bias=False)\n",
       "          (bn2): GroupNorm(32, 256, eps=1e-05, affine=True)\n",
       "          (conv3): Conv2d(256, 1024, kernel_size=(1, 1), stride=(1, 1), bias=False)\n",
       "          (bn3): GroupNorm(32, 1024, eps=1e-05, affine=True)\n",
       "          (relu): ReLU(inplace=True)\n",
       "        )\n",
       "        (2): Bottleneck(\n",
       "          (conv1): Conv2d(1024, 256, kernel_size=(1, 1), stride=(1, 1), bias=False)\n",
       "          (bn1): GroupNorm(32, 256, eps=1e-05, affine=True)\n",
       "          (conv2): Conv2d(256, 256, kernel_size=(3, 3), stride=(1, 1), padding=(1, 1), bias=False)\n",
       "          (bn2): GroupNorm(32, 256, eps=1e-05, affine=True)\n",
       "          (conv3): Conv2d(256, 1024, kernel_size=(1, 1), stride=(1, 1), bias=False)\n",
       "          (bn3): GroupNorm(32, 1024, eps=1e-05, affine=True)\n",
       "          (relu): ReLU(inplace=True)\n",
       "        )\n",
       "        (3): Bottleneck(\n",
       "          (conv1): Conv2d(1024, 256, kernel_size=(1, 1), stride=(1, 1), bias=False)\n",
       "          (bn1): GroupNorm(32, 256, eps=1e-05, affine=True)\n",
       "          (conv2): Conv2d(256, 256, kernel_size=(3, 3), stride=(1, 1), padding=(1, 1), bias=False)\n",
       "          (bn2): GroupNorm(32, 256, eps=1e-05, affine=True)\n",
       "          (conv3): Conv2d(256, 1024, kernel_size=(1, 1), stride=(1, 1), bias=False)\n",
       "          (bn3): GroupNorm(32, 1024, eps=1e-05, affine=True)\n",
       "          (relu): ReLU(inplace=True)\n",
       "        )\n",
       "        (4): Bottleneck(\n",
       "          (conv1): Conv2d(1024, 256, kernel_size=(1, 1), stride=(1, 1), bias=False)\n",
       "          (bn1): GroupNorm(32, 256, eps=1e-05, affine=True)\n",
       "          (conv2): Conv2d(256, 256, kernel_size=(3, 3), stride=(1, 1), padding=(1, 1), bias=False)\n",
       "          (bn2): GroupNorm(32, 256, eps=1e-05, affine=True)\n",
       "          (conv3): Conv2d(256, 1024, kernel_size=(1, 1), stride=(1, 1), bias=False)\n",
       "          (bn3): GroupNorm(32, 1024, eps=1e-05, affine=True)\n",
       "          (relu): ReLU(inplace=True)\n",
       "        )\n",
       "        (5): Bottleneck(\n",
       "          (conv1): Conv2d(1024, 256, kernel_size=(1, 1), stride=(1, 1), bias=False)\n",
       "          (bn1): GroupNorm(32, 256, eps=1e-05, affine=True)\n",
       "          (conv2): Conv2d(256, 256, kernel_size=(3, 3), stride=(1, 1), padding=(1, 1), bias=False)\n",
       "          (bn2): GroupNorm(32, 256, eps=1e-05, affine=True)\n",
       "          (conv3): Conv2d(256, 1024, kernel_size=(1, 1), stride=(1, 1), bias=False)\n",
       "          (bn3): GroupNorm(32, 1024, eps=1e-05, affine=True)\n",
       "          (relu): ReLU(inplace=True)\n",
       "        )\n",
       "      )\n",
       "      (layer4): Sequential(\n",
       "        (0): Bottleneck(\n",
       "          (conv1): Conv2d(1024, 512, kernel_size=(1, 1), stride=(1, 1), bias=False)\n",
       "          (bn1): GroupNorm(32, 512, eps=1e-05, affine=True)\n",
       "          (conv2): Conv2d(512, 512, kernel_size=(3, 3), stride=(2, 2), padding=(1, 1), bias=False)\n",
       "          (bn2): GroupNorm(32, 512, eps=1e-05, affine=True)\n",
       "          (conv3): Conv2d(512, 2048, kernel_size=(1, 1), stride=(1, 1), bias=False)\n",
       "          (bn3): GroupNorm(32, 2048, eps=1e-05, affine=True)\n",
       "          (relu): ReLU(inplace=True)\n",
       "          (downsample): Sequential(\n",
       "            (0): Conv2d(1024, 2048, kernel_size=(1, 1), stride=(2, 2), bias=False)\n",
       "            (1): GroupNorm(32, 2048, eps=1e-05, affine=True)\n",
       "          )\n",
       "        )\n",
       "        (1): Bottleneck(\n",
       "          (conv1): Conv2d(2048, 512, kernel_size=(1, 1), stride=(1, 1), bias=False)\n",
       "          (bn1): GroupNorm(32, 512, eps=1e-05, affine=True)\n",
       "          (conv2): Conv2d(512, 512, kernel_size=(3, 3), stride=(1, 1), padding=(1, 1), bias=False)\n",
       "          (bn2): GroupNorm(32, 512, eps=1e-05, affine=True)\n",
       "          (conv3): Conv2d(512, 2048, kernel_size=(1, 1), stride=(1, 1), bias=False)\n",
       "          (bn3): GroupNorm(32, 2048, eps=1e-05, affine=True)\n",
       "          (relu): ReLU(inplace=True)\n",
       "        )\n",
       "        (2): Bottleneck(\n",
       "          (conv1): Conv2d(2048, 512, kernel_size=(1, 1), stride=(1, 1), bias=False)\n",
       "          (bn1): GroupNorm(32, 512, eps=1e-05, affine=True)\n",
       "          (conv2): Conv2d(512, 512, kernel_size=(3, 3), stride=(1, 1), padding=(1, 1), bias=False)\n",
       "          (bn2): GroupNorm(32, 512, eps=1e-05, affine=True)\n",
       "          (conv3): Conv2d(512, 2048, kernel_size=(1, 1), stride=(1, 1), bias=False)\n",
       "          (bn3): GroupNorm(32, 2048, eps=1e-05, affine=True)\n",
       "          (relu): ReLU(inplace=True)\n",
       "        )\n",
       "      )\n",
       "    )\n",
       "    (fpn): FeaturePyramidNetwork(\n",
       "      (inner_blocks): ModuleList(\n",
       "        (0): Conv2dNormActivation(\n",
       "          (0): Conv2d(256, 256, kernel_size=(1, 1), stride=(1, 1), bias=False)\n",
       "          (1): GroupNorm(32, 256, eps=1e-05, affine=True)\n",
       "        )\n",
       "        (1): Conv2dNormActivation(\n",
       "          (0): Conv2d(512, 256, kernel_size=(1, 1), stride=(1, 1), bias=False)\n",
       "          (1): GroupNorm(32, 256, eps=1e-05, affine=True)\n",
       "        )\n",
       "        (2): Conv2dNormActivation(\n",
       "          (0): Conv2d(1024, 256, kernel_size=(1, 1), stride=(1, 1), bias=False)\n",
       "          (1): GroupNorm(32, 256, eps=1e-05, affine=True)\n",
       "        )\n",
       "        (3): Conv2dNormActivation(\n",
       "          (0): Conv2d(2048, 256, kernel_size=(1, 1), stride=(1, 1), bias=False)\n",
       "          (1): GroupNorm(32, 256, eps=1e-05, affine=True)\n",
       "        )\n",
       "      )\n",
       "      (layer_blocks): ModuleList(\n",
       "        (0-3): 4 x Conv2dNormActivation(\n",
       "          (0): Conv2d(256, 256, kernel_size=(3, 3), stride=(1, 1), padding=(1, 1), bias=False)\n",
       "          (1): GroupNorm(32, 256, eps=1e-05, affine=True)\n",
       "        )\n",
       "      )\n",
       "      (extra_blocks): LastLevelMaxPool()\n",
       "    )\n",
       "  )\n",
       "  (rpn): RegionProposalNetwork(\n",
       "    (anchor_generator): AnchorGenerator()\n",
       "    (head): RPNHead(\n",
       "      (conv): Sequential(\n",
       "        (0): Conv2dNormActivation(\n",
       "          (0): Conv2d(256, 256, kernel_size=(3, 3), stride=(1, 1), padding=(1, 1))\n",
       "          (1): ReLU(inplace=True)\n",
       "        )\n",
       "        (1): Conv2dNormActivation(\n",
       "          (0): Conv2d(256, 256, kernel_size=(3, 3), stride=(1, 1), padding=(1, 1))\n",
       "          (1): ReLU(inplace=True)\n",
       "        )\n",
       "      )\n",
       "      (cls_logits): Conv2d(256, 3, kernel_size=(1, 1), stride=(1, 1))\n",
       "      (bbox_pred): Conv2d(256, 12, kernel_size=(1, 1), stride=(1, 1))\n",
       "    )\n",
       "  )\n",
       "  (roi_heads): RoIHeads(\n",
       "    (box_roi_pool): MultiScaleRoIAlign(featmap_names=['0', '1', '2', '3'], output_size=(7, 7), sampling_ratio=2)\n",
       "    (box_head): FastRCNNConvFCHead(\n",
       "      (0): Conv2dNormActivation(\n",
       "        (0): Conv2d(256, 256, kernel_size=(3, 3), stride=(1, 1), padding=(1, 1), bias=False)\n",
       "        (1): GroupNorm(32, 256, eps=1e-05, affine=True)\n",
       "        (2): ReLU(inplace=True)\n",
       "      )\n",
       "      (1): Conv2dNormActivation(\n",
       "        (0): Conv2d(256, 256, kernel_size=(3, 3), stride=(1, 1), padding=(1, 1), bias=False)\n",
       "        (1): GroupNorm(32, 256, eps=1e-05, affine=True)\n",
       "        (2): ReLU(inplace=True)\n",
       "      )\n",
       "      (2): Conv2dNormActivation(\n",
       "        (0): Conv2d(256, 256, kernel_size=(3, 3), stride=(1, 1), padding=(1, 1), bias=False)\n",
       "        (1): GroupNorm(32, 256, eps=1e-05, affine=True)\n",
       "        (2): ReLU(inplace=True)\n",
       "      )\n",
       "      (3): Conv2dNormActivation(\n",
       "        (0): Conv2d(256, 256, kernel_size=(3, 3), stride=(1, 1), padding=(1, 1), bias=False)\n",
       "        (1): GroupNorm(32, 256, eps=1e-05, affine=True)\n",
       "        (2): ReLU(inplace=True)\n",
       "      )\n",
       "      (4): Flatten(start_dim=1, end_dim=-1)\n",
       "      (5): Linear(in_features=12544, out_features=1024, bias=True)\n",
       "      (6): ReLU(inplace=True)\n",
       "    )\n",
       "    (box_predictor): FastRCNNPredictor(\n",
       "      (cls_score): Linear(in_features=1024, out_features=2, bias=True)\n",
       "      (bbox_pred): Linear(in_features=1024, out_features=8, bias=True)\n",
       "    )\n",
       "    (mask_roi_pool): MultiScaleRoIAlign(featmap_names=['0', '1', '2', '3'], output_size=(14, 14), sampling_ratio=2)\n",
       "    (mask_head): MaskRCNNHeads(\n",
       "      (0): Conv2dNormActivation(\n",
       "        (0): Conv2d(256, 256, kernel_size=(3, 3), stride=(1, 1), padding=(1, 1), bias=False)\n",
       "        (1): GroupNorm(32, 256, eps=1e-05, affine=True)\n",
       "        (2): ReLU(inplace=True)\n",
       "      )\n",
       "      (1): Conv2dNormActivation(\n",
       "        (0): Conv2d(256, 256, kernel_size=(3, 3), stride=(1, 1), padding=(1, 1), bias=False)\n",
       "        (1): GroupNorm(32, 256, eps=1e-05, affine=True)\n",
       "        (2): ReLU(inplace=True)\n",
       "      )\n",
       "      (2): Conv2dNormActivation(\n",
       "        (0): Conv2d(256, 256, kernel_size=(3, 3), stride=(1, 1), padding=(1, 1), bias=False)\n",
       "        (1): GroupNorm(32, 256, eps=1e-05, affine=True)\n",
       "        (2): ReLU(inplace=True)\n",
       "      )\n",
       "      (3): Conv2dNormActivation(\n",
       "        (0): Conv2d(256, 256, kernel_size=(3, 3), stride=(1, 1), padding=(1, 1), bias=False)\n",
       "        (1): GroupNorm(32, 256, eps=1e-05, affine=True)\n",
       "        (2): ReLU(inplace=True)\n",
       "      )\n",
       "    )\n",
       "    (mask_predictor): MaskRCNNPredictor(\n",
       "      (conv5_mask): ConvTranspose2d(256, 256, kernel_size=(2, 2), stride=(2, 2))\n",
       "      (relu): ReLU(inplace=True)\n",
       "      (mask_fcn_logits): Conv2d(256, 2, kernel_size=(1, 1), stride=(1, 1))\n",
       "    )\n",
       "  )\n",
       ")"
      ]
     },
     "execution_count": 51,
     "metadata": {},
     "output_type": "execute_result"
    }
   ],
   "source": [
    "maskrcnn.load_state_dict(torch.load(\"src/models/weights/MaskRCNN_trained_weights_eval.pth\", weights_only=True))\n",
    "maskrcnn.eval()"
   ]
  },
  {
   "cell_type": "code",
   "execution_count": 157,
   "id": "c56da194",
   "metadata": {},
   "outputs": [
    {
     "name": "stderr",
     "output_type": "stream",
     "text": [
      "10it [00:01,  9.45it/s]"
     ]
    },
    {
     "name": "stdout",
     "output_type": "stream",
     "text": [
      "\n",
      "\u001b[92m✅ Results saved to results/maskrcnn_results.pkl\u001b[0m\n"
     ]
    },
    {
     "name": "stderr",
     "output_type": "stream",
     "text": [
      "\n"
     ]
    }
   ],
   "source": [
    "# Supressing some warning coming from a library with legacy code\n",
    "with warnings.catch_warnings():\n",
    "    warnings.filterwarnings('ignore', message='Creating a tensor from a list of numpy.ndarrays is extremely slow.')\n",
    "    maskrcnn_results = maskrcnn_eval(\n",
    "        model=maskrcnn,\n",
    "        device=device,\n",
    "        dataloader=slide_dataloader,\n",
    ")\n",
    "    \n",
    "results_path = Path(\"results/maskrcnn_results.pkl\")\n",
    "    \n",
    "with open(results_path, 'wb') as f:\n",
    "    pickle.dump(maskrcnn_results, f)\n",
    "print_success(f\"Results saved to {results_path}\")"
   ]
  },
  {
   "cell_type": "code",
   "execution_count": 53,
   "id": "6fba32f0",
   "metadata": {},
   "outputs": [
    {
     "name": "stdout",
     "output_type": "stream",
     "text": [
      "Mean IoU = 0.4539, Mean inference time = 0.0868 s\n"
     ]
    }
   ],
   "source": [
    "print(f\"Mean IoU = {np.average(np.array(maskrcnn_results['ious'])):.4f}, Mean inference time = {np.average(np.array(maskrcnn_results['inference_times'])):.4f} s\")"
   ]
  },
  {
   "cell_type": "markdown",
   "id": "c2d1ca58",
   "metadata": {},
   "source": [
    "# Afterwork"
   ]
  },
  {
   "cell_type": "markdown",
   "id": "e17df1b6",
   "metadata": {},
   "source": [
    "## Matching batch indices with WSI names for model comparison"
   ]
  },
  {
   "cell_type": "code",
   "execution_count": 54,
   "id": "084a66af",
   "metadata": {},
   "outputs": [
    {
     "name": "stdout",
     "output_type": "stream",
     "text": [
      "{0: '8394_24_A4', 1: '1170_17_HE_40x', 2: '779-21_a2_HE_20230308_8', 3: '6766_21_A3_HE_20240515', 4: '290_23_A3_HE_20240116_1', 5: '109_17_HE_40x', 6: '92_17_HE_40x', 7: '5003_11_HE_40x', 8: '995_18_HE_40x', 9: '3201_17_HE_40x'}\n"
     ]
    }
   ],
   "source": [
    "def map_indices_to_wsi_names(slide_dataset):\n",
    "    \"\"\"Maps dataloader batch indices to WSI filenames/identifiers\"\"\"\n",
    "    index_to_wsi_map = {}\n",
    "    \n",
    "    # Iterate through dataset using its indices\n",
    "    for idx in range(len(slide_dataset)):\n",
    "        # Get the image info - accessing the internal COCO dataset\n",
    "        img_id = slide_dataset.image_ids[idx]\n",
    "        img_info = slide_dataset.coco.loadImgs(img_id)[0]\n",
    "        \n",
    "        # Extract filename from the image path\n",
    "        file_path = img_info['file_name']\n",
    "        wsi_name = str(Path(file_path).stem).split(\"_lvl\")[0]\n",
    "        \n",
    "        # Create mapping from index to WSI name\n",
    "        index_to_wsi_map[idx] = wsi_name\n",
    "    \n",
    "    return index_to_wsi_map\n",
    "\n",
    "index_to_wsi_map = map_indices_to_wsi_names(slide_dataset)\n",
    "\n",
    "print(index_to_wsi_map)"
   ]
  },
  {
   "cell_type": "code",
   "execution_count": null,
   "id": "359ad857",
   "metadata": {},
   "outputs": [
    {
     "name": "stdout",
     "output_type": "stream",
     "text": [
      "\n",
      "\u001b[92m✅ Results saved to results/matched_results.pkl\u001b[0m\n"
     ]
    }
   ],
   "source": [
    "matched_results = {\n",
    "    'method': [],\n",
    "    'wsi_name': [],\n",
    "    'iou': [],\n",
    "    'inference_time': [],\n",
    "    'prediction': [],\n",
    "}\n",
    "\n",
    "# ResNet results\n",
    "for i, wsi_name in enumerate(resnet_results['indices']):\n",
    "    matched_results['method'].append('Tile-based')\n",
    "    matched_results['wsi_name'].append(wsi_name)\n",
    "    matched_results['iou'].append(resnet_results['ious'][i])\n",
    "    matched_results['inference_time'].append(resnet_results['inference_times'][i])\n",
    "    matched_results['prediction'].append(resnet_results['predictions'][i])\n",
    "# UNet results\n",
    "for i, idx in enumerate(unet_results['indices']):\n",
    "    if idx in index_to_wsi_map:\n",
    "        matched_results['method'].append('Semantic segmentation')\n",
    "        matched_results['wsi_name'].append(index_to_wsi_map[idx])\n",
    "        matched_results['iou'].append(unet_results['ious'][i])\n",
    "        matched_results['inference_time'].append(unet_results['inference_times'][i])\n",
    "        matched_results['prediction'].append(unet_results['predictions'][i])\n",
    "    else:\n",
    "        raise ValueError(f\"Index {idx} not found in index_to_wsi_map.\")\n",
    "# Mask R-CNN\n",
    "for i, idx in enumerate(maskrcnn_results['indices']):\n",
    "    if idx in index_to_wsi_map:\n",
    "        matched_results['method'].append('Instance segmentation')\n",
    "        matched_results['wsi_name'].append(index_to_wsi_map[idx])\n",
    "        matched_results['iou'].append(maskrcnn_results['ious'][i])\n",
    "        matched_results['inference_time'].append(maskrcnn_results['inference_times'][i])\n",
    "        matched_results['prediction'].append(maskrcnn_results['predictions'][i])\n",
    "    else:\n",
    "        raise ValueError(f\"Index {idx} not found in index_to_wsi_map.\")\n",
    "    \n",
    "# Save the matched results to a pickle file\n",
    "results_path = Path(\"results/matched_results.pkl\")\n",
    "with open(results_path, 'wb') as f:\n",
    "    pickle.dump(matched_results, f)\n",
    "print_success(f\"Results saved to {results_path}\")"
   ]
  },
  {
   "cell_type": "markdown",
   "id": "262028f0",
   "metadata": {},
   "source": [
    "# Results"
   ]
  },
  {
   "cell_type": "markdown",
   "id": "2b5e2dbd",
   "metadata": {},
   "source": [
    "## Loading pickled data (no need to rerun the whole eval process)"
   ]
  },
  {
   "cell_type": "code",
   "execution_count": 115,
   "id": "c23d1a7a",
   "metadata": {},
   "outputs": [
    {
     "name": "stdout",
     "output_type": "stream",
     "text": [
      "\n",
      "\u001b[92m✅ All results loaded successfully!\u001b[0m\n"
     ]
    }
   ],
   "source": [
    "with open('results/matched_results.pkl', 'rb') as f:\n",
    "    results = pickle.load(f)\n",
    "\n",
    "print_success(\"All results loaded successfully!\")"
   ]
  },
  {
   "cell_type": "markdown",
   "id": "71c17680",
   "metadata": {},
   "source": [
    "## Results printing"
   ]
  },
  {
   "cell_type": "markdown",
   "id": "b5bbb50d",
   "metadata": {},
   "source": [
    "### Raw print"
   ]
  },
  {
   "cell_type": "code",
   "execution_count": 76,
   "id": "674bbe3e",
   "metadata": {},
   "outputs": [
    {
     "name": "stdout",
     "output_type": "stream",
     "text": [
      "Statistics by Methods\n",
      "============================================================\n",
      "IoU\n"
     ]
    },
    {
     "data": {
      "text/html": [
       "<div>\n",
       "<style scoped>\n",
       "    .dataframe tbody tr th:only-of-type {\n",
       "        vertical-align: middle;\n",
       "    }\n",
       "\n",
       "    .dataframe tbody tr th {\n",
       "        vertical-align: top;\n",
       "    }\n",
       "\n",
       "    .dataframe thead tr th {\n",
       "        text-align: left;\n",
       "    }\n",
       "\n",
       "    .dataframe thead tr:last-of-type th {\n",
       "        text-align: right;\n",
       "    }\n",
       "</style>\n",
       "<table border=\"1\" class=\"dataframe\">\n",
       "  <thead>\n",
       "    <tr>\n",
       "      <th></th>\n",
       "      <th colspan=\"4\" halign=\"left\">iou</th>\n",
       "    </tr>\n",
       "    <tr>\n",
       "      <th></th>\n",
       "      <th>mean</th>\n",
       "      <th>std</th>\n",
       "      <th>min</th>\n",
       "      <th>max</th>\n",
       "    </tr>\n",
       "    <tr>\n",
       "      <th>method</th>\n",
       "      <th></th>\n",
       "      <th></th>\n",
       "      <th></th>\n",
       "      <th></th>\n",
       "    </tr>\n",
       "  </thead>\n",
       "  <tbody>\n",
       "    <tr>\n",
       "      <th>Tile-based</th>\n",
       "      <td>0.4954</td>\n",
       "      <td>0.2397</td>\n",
       "      <td>0.0000</td>\n",
       "      <td>0.7419</td>\n",
       "    </tr>\n",
       "    <tr>\n",
       "      <th>Semantic segmentation</th>\n",
       "      <td>0.4837</td>\n",
       "      <td>0.2739</td>\n",
       "      <td>0.0000</td>\n",
       "      <td>0.7887</td>\n",
       "    </tr>\n",
       "    <tr>\n",
       "      <th>Instance segmentation</th>\n",
       "      <td>0.4539</td>\n",
       "      <td>0.1351</td>\n",
       "      <td>0.2807</td>\n",
       "      <td>0.6997</td>\n",
       "    </tr>\n",
       "  </tbody>\n",
       "</table>\n",
       "</div>"
      ],
      "text/plain": [
       "                          iou                        \n",
       "                         mean     std     min     max\n",
       "method                                               \n",
       "Tile-based             0.4954  0.2397  0.0000  0.7419\n",
       "Semantic segmentation  0.4837  0.2739  0.0000  0.7887\n",
       "Instance segmentation  0.4539  0.1351  0.2807  0.6997"
      ]
     },
     "metadata": {},
     "output_type": "display_data"
    },
    {
     "name": "stdout",
     "output_type": "stream",
     "text": [
      "Inference time\n"
     ]
    },
    {
     "data": {
      "text/html": [
       "<div>\n",
       "<style scoped>\n",
       "    .dataframe tbody tr th:only-of-type {\n",
       "        vertical-align: middle;\n",
       "    }\n",
       "\n",
       "    .dataframe tbody tr th {\n",
       "        vertical-align: top;\n",
       "    }\n",
       "\n",
       "    .dataframe thead tr th {\n",
       "        text-align: left;\n",
       "    }\n",
       "\n",
       "    .dataframe thead tr:last-of-type th {\n",
       "        text-align: right;\n",
       "    }\n",
       "</style>\n",
       "<table border=\"1\" class=\"dataframe\">\n",
       "  <thead>\n",
       "    <tr>\n",
       "      <th></th>\n",
       "      <th colspan=\"4\" halign=\"left\">inference_time</th>\n",
       "    </tr>\n",
       "    <tr>\n",
       "      <th></th>\n",
       "      <th>mean</th>\n",
       "      <th>std</th>\n",
       "      <th>min</th>\n",
       "      <th>max</th>\n",
       "    </tr>\n",
       "    <tr>\n",
       "      <th>method</th>\n",
       "      <th></th>\n",
       "      <th></th>\n",
       "      <th></th>\n",
       "      <th></th>\n",
       "    </tr>\n",
       "  </thead>\n",
       "  <tbody>\n",
       "    <tr>\n",
       "      <th>Tile-based</th>\n",
       "      <td>2.8197</td>\n",
       "      <td>0.1452</td>\n",
       "      <td>2.6616</td>\n",
       "      <td>2.9727</td>\n",
       "    </tr>\n",
       "    <tr>\n",
       "      <th>Semantic segmentation</th>\n",
       "      <td>0.0214</td>\n",
       "      <td>0.0354</td>\n",
       "      <td>0.0021</td>\n",
       "      <td>0.1199</td>\n",
       "    </tr>\n",
       "    <tr>\n",
       "      <th>Instance segmentation</th>\n",
       "      <td>0.0868</td>\n",
       "      <td>0.1383</td>\n",
       "      <td>0.0345</td>\n",
       "      <td>0.4799</td>\n",
       "    </tr>\n",
       "  </tbody>\n",
       "</table>\n",
       "</div>"
      ],
      "text/plain": [
       "                      inference_time                        \n",
       "                                mean     std     min     max\n",
       "method                                                      \n",
       "Tile-based                    2.8197  0.1452  2.6616  2.9727\n",
       "Semantic segmentation         0.0214  0.0354  0.0021  0.1199\n",
       "Instance segmentation         0.0868  0.1383  0.0345  0.4799"
      ]
     },
     "metadata": {},
     "output_type": "display_data"
    },
    {
     "name": "stdout",
     "output_type": "stream",
     "text": [
      "Results by WSI\n",
      "============================================================\n"
     ]
    },
    {
     "data": {
      "text/html": [
       "<div>\n",
       "<style scoped>\n",
       "    .dataframe tbody tr th:only-of-type {\n",
       "        vertical-align: middle;\n",
       "    }\n",
       "\n",
       "    .dataframe tbody tr th {\n",
       "        vertical-align: top;\n",
       "    }\n",
       "\n",
       "    .dataframe thead tr th {\n",
       "        text-align: left;\n",
       "    }\n",
       "\n",
       "    .dataframe thead tr:last-of-type th {\n",
       "        text-align: right;\n",
       "    }\n",
       "</style>\n",
       "<table border=\"1\" class=\"dataframe\">\n",
       "  <thead>\n",
       "    <tr>\n",
       "      <th></th>\n",
       "      <th colspan=\"3\" halign=\"left\">inference_time</th>\n",
       "      <th colspan=\"3\" halign=\"left\">iou</th>\n",
       "    </tr>\n",
       "    <tr>\n",
       "      <th>method</th>\n",
       "      <th>Tile-based</th>\n",
       "      <th>Semantic segmentation</th>\n",
       "      <th>Instance segmentation</th>\n",
       "      <th>Tile-based</th>\n",
       "      <th>Semantic segmentation</th>\n",
       "      <th>Instance segmentation</th>\n",
       "    </tr>\n",
       "    <tr>\n",
       "      <th>wsi_name</th>\n",
       "      <th></th>\n",
       "      <th></th>\n",
       "      <th></th>\n",
       "      <th></th>\n",
       "      <th></th>\n",
       "      <th></th>\n",
       "    </tr>\n",
       "  </thead>\n",
       "  <tbody>\n",
       "    <tr>\n",
       "      <th>109_17_HE_40x</th>\n",
       "      <td>2.9693</td>\n",
       "      <td>0.0023</td>\n",
       "      <td>0.0358</td>\n",
       "      <td>0.7308</td>\n",
       "      <td>0.7533</td>\n",
       "      <td>0.5121</td>\n",
       "    </tr>\n",
       "    <tr>\n",
       "      <th>1170_17_HE_40x</th>\n",
       "      <td>2.9086</td>\n",
       "      <td>0.0158</td>\n",
       "      <td>0.0526</td>\n",
       "      <td>0.4324</td>\n",
       "      <td>0.6568</td>\n",
       "      <td>0.6997</td>\n",
       "    </tr>\n",
       "    <tr>\n",
       "      <th>290_23_A3_HE_20240116_1</th>\n",
       "      <td>2.9692</td>\n",
       "      <td>0.0023</td>\n",
       "      <td>0.0410</td>\n",
       "      <td>0.6875</td>\n",
       "      <td>0.2557</td>\n",
       "      <td>0.3068</td>\n",
       "    </tr>\n",
       "    <tr>\n",
       "      <th>3201_17_HE_40x</th>\n",
       "      <td>2.6616</td>\n",
       "      <td>0.0167</td>\n",
       "      <td>0.0471</td>\n",
       "      <td>0.5435</td>\n",
       "      <td>0.6930</td>\n",
       "      <td>0.4111</td>\n",
       "    </tr>\n",
       "    <tr>\n",
       "      <th>5003_11_HE_40x</th>\n",
       "      <td>2.7031</td>\n",
       "      <td>0.0021</td>\n",
       "      <td>0.0387</td>\n",
       "      <td>0.2000</td>\n",
       "      <td>0.3158</td>\n",
       "      <td>0.2953</td>\n",
       "    </tr>\n",
       "    <tr>\n",
       "      <th>6766_21_A3_HE_20240515</th>\n",
       "      <td>2.6821</td>\n",
       "      <td>0.0172</td>\n",
       "      <td>0.0535</td>\n",
       "      <td>0.7419</td>\n",
       "      <td>0.6733</td>\n",
       "      <td>0.5632</td>\n",
       "    </tr>\n",
       "    <tr>\n",
       "      <th>779-21_a2_HE_20230308_8</th>\n",
       "      <td>2.7072</td>\n",
       "      <td>0.0021</td>\n",
       "      <td>0.0361</td>\n",
       "      <td>0.5714</td>\n",
       "      <td>0.7887</td>\n",
       "      <td>0.5518</td>\n",
       "    </tr>\n",
       "    <tr>\n",
       "      <th>8394_24_A4</th>\n",
       "      <td>2.9588</td>\n",
       "      <td>0.1199</td>\n",
       "      <td>0.4799</td>\n",
       "      <td>0.6176</td>\n",
       "      <td>0.0000</td>\n",
       "      <td>0.4692</td>\n",
       "    </tr>\n",
       "    <tr>\n",
       "      <th>92_17_HE_40x</th>\n",
       "      <td>2.9727</td>\n",
       "      <td>0.0160</td>\n",
       "      <td>0.0345</td>\n",
       "      <td>0.0000</td>\n",
       "      <td>0.1919</td>\n",
       "      <td>0.2807</td>\n",
       "    </tr>\n",
       "    <tr>\n",
       "      <th>995_18_HE_40x</th>\n",
       "      <td>2.6639</td>\n",
       "      <td>0.0193</td>\n",
       "      <td>0.0488</td>\n",
       "      <td>0.4286</td>\n",
       "      <td>0.5084</td>\n",
       "      <td>0.4489</td>\n",
       "    </tr>\n",
       "  </tbody>\n",
       "</table>\n",
       "</div>"
      ],
      "text/plain": [
       "                        inference_time                        \\\n",
       "method                      Tile-based Semantic segmentation   \n",
       "wsi_name                                                       \n",
       "109_17_HE_40x                   2.9693                0.0023   \n",
       "1170_17_HE_40x                  2.9086                0.0158   \n",
       "290_23_A3_HE_20240116_1         2.9692                0.0023   \n",
       "3201_17_HE_40x                  2.6616                0.0167   \n",
       "5003_11_HE_40x                  2.7031                0.0021   \n",
       "6766_21_A3_HE_20240515          2.6821                0.0172   \n",
       "779-21_a2_HE_20230308_8         2.7072                0.0021   \n",
       "8394_24_A4                      2.9588                0.1199   \n",
       "92_17_HE_40x                    2.9727                0.0160   \n",
       "995_18_HE_40x                   2.6639                0.0193   \n",
       "\n",
       "                                                     iou  \\\n",
       "method                  Instance segmentation Tile-based   \n",
       "wsi_name                                                   \n",
       "109_17_HE_40x                          0.0358     0.7308   \n",
       "1170_17_HE_40x                         0.0526     0.4324   \n",
       "290_23_A3_HE_20240116_1                0.0410     0.6875   \n",
       "3201_17_HE_40x                         0.0471     0.5435   \n",
       "5003_11_HE_40x                         0.0387     0.2000   \n",
       "6766_21_A3_HE_20240515                 0.0535     0.7419   \n",
       "779-21_a2_HE_20230308_8                0.0361     0.5714   \n",
       "8394_24_A4                             0.4799     0.6176   \n",
       "92_17_HE_40x                           0.0345     0.0000   \n",
       "995_18_HE_40x                          0.0488     0.4286   \n",
       "\n",
       "                                                                     \n",
       "method                  Semantic segmentation Instance segmentation  \n",
       "wsi_name                                                             \n",
       "109_17_HE_40x                          0.7533                0.5121  \n",
       "1170_17_HE_40x                         0.6568                0.6997  \n",
       "290_23_A3_HE_20240116_1                0.2557                0.3068  \n",
       "3201_17_HE_40x                         0.6930                0.4111  \n",
       "5003_11_HE_40x                         0.3158                0.2953  \n",
       "6766_21_A3_HE_20240515                 0.6733                0.5632  \n",
       "779-21_a2_HE_20230308_8                0.7887                0.5518  \n",
       "8394_24_A4                             0.0000                0.4692  \n",
       "92_17_HE_40x                           0.1919                0.2807  \n",
       "995_18_HE_40x                          0.5084                0.4489  "
      ]
     },
     "metadata": {},
     "output_type": "display_data"
    }
   ],
   "source": [
    "# Load matched results\n",
    "with open('results/matched_results.pkl', 'rb') as f:\n",
    "    matched_results = pickle.load(f)\n",
    "# print order\n",
    "print_order = [\"Tile-based\", \"Semantic segmentation\", \"Instance segmentation\"]\n",
    "\n",
    "# Create DataFrame from matched results\n",
    "results_df = pd.DataFrame({\n",
    "    'method': matched_results['method'],\n",
    "    'wsi_name': matched_results['wsi_name'],\n",
    "    'iou': [float(iou) for iou in matched_results['iou']],\n",
    "    'inference_time': [float(time) for time in matched_results['inference_time']]\n",
    "})\n",
    "\n",
    "# reorder the methods based on the print order\n",
    "results_df['method'] = pd.Categorical(\n",
    "    results_df['method'], \n",
    "    categories=print_order,\n",
    "    ordered=True\n",
    ")\n",
    "\n",
    "# statistics by methods\n",
    "print(\"Statistics by Methods\")\n",
    "print(\"=\" * 60)\n",
    "print(\"IoU\")\n",
    "method_stats = results_df.groupby('method', observed=False).agg({\n",
    "    'iou': ['mean', 'std', 'min', 'max'],\n",
    "}).round(4)\n",
    "display(method_stats)\n",
    "\n",
    "print(\"Inference time\")\n",
    "method_stats = results_df.groupby('method', observed=False).agg({\n",
    "    'inference_time': ['mean', 'std', 'min', 'max'],\n",
    "}).round(4)\n",
    "display(method_stats)\n",
    "\n",
    "\n",
    "\n",
    "# Individual WSI results\n",
    "print(\"Results by WSI\")\n",
    "print(\"=\" * 60)\n",
    "pivot_df = results_df.pivot_table(\n",
    "    index='wsi_name', \n",
    "    columns='method', \n",
    "    values=['iou', 'inference_time'],\n",
    "    aggfunc='mean',\n",
    "    observed=False\n",
    ").round(4)\n",
    "display(pivot_df)"
   ]
  },
  {
   "cell_type": "markdown",
   "id": "ec7eddcc",
   "metadata": {},
   "source": [
    "### Plots"
   ]
  },
  {
   "cell_type": "code",
   "execution_count": 91,
   "id": "0d78697c",
   "metadata": {},
   "outputs": [
    {
     "name": "stderr",
     "output_type": "stream",
     "text": [
      "/tmp/ipykernel_2737291/2751031604.py:21: FutureWarning: \n",
      "\n",
      "Passing `palette` without assigning `hue` is deprecated and will be removed in v0.14.0. Assign the `x` variable to `hue` and set `legend=False` for the same effect.\n",
      "\n",
      "  sns.boxplot(data=results_df, x='method', y='iou', palette=color_list)\n"
     ]
    },
    {
     "data": {
      "image/png": "[encoded data removed]",
      "text/plain": [
       "<Figure size 1000x600 with 1 Axes>"
      ]
     },
     "metadata": {},
     "output_type": "display_data"
    },
    {
     "name": "stderr",
     "output_type": "stream",
     "text": [
      "/tmp/ipykernel_2737291/2751031604.py:35: FutureWarning: \n",
      "\n",
      "Passing `palette` without assigning `hue` is deprecated and will be removed in v0.14.0. Assign the `x` variable to `hue` and set `legend=False` for the same effect.\n",
      "\n",
      "  sns.barplot(data=results_df, x='method', y='inference_time', estimator='mean', errorbar=('ci', 95), palette=color_list)\n"
     ]
    },
    {
     "data": {
      "image/png": "[encoded data removed]",
      "text/plain": [
       "<Figure size 1000x600 with 1 Axes>"
      ]
     },
     "metadata": {},
     "output_type": "display_data"
    },
    {
     "data": {
      "image/png": "[encoded data removed]",
      "text/plain": [
       "<Figure size 1200x800 with 2 Axes>"
      ]
     },
     "metadata": {},
     "output_type": "display_data"
    }
   ],
   "source": [
    "# PLOTS\n",
    "\n",
    "# Define font sizes\n",
    "TITLE_SIZE = 20\n",
    "AXIS_LABEL_SIZE = 18\n",
    "TICK_LABEL_SIZE = 12\n",
    "LEGEND_SIZE = 15\n",
    "ANNOTATION_SIZE = 15\n",
    "\n",
    "#defining colors for each method for plots\n",
    "method_colors = {\n",
    "    \"Tile-based\": \"#F28963\",          \n",
    "    \"Semantic segmentation\": \"#44CA49\",\n",
    "    \"Instance segmentation\": \"#7884C4\"\n",
    "}\n",
    "color_list = [method_colors[method] for method in print_order]\n",
    "\n",
    "\n",
    "# Box plot of IoU by method\n",
    "plt.figure(figsize=(10, 6))\n",
    "sns.boxplot(data=results_df, x='method', y='iou', palette=color_list)\n",
    "plt.title('IoU distribution by method', fontsize=TITLE_SIZE)\n",
    "plt.ylabel('IoU', fontsize=AXIS_LABEL_SIZE)\n",
    "plt.xlabel('Method', fontsize=AXIS_LABEL_SIZE)\n",
    "plt.grid(axis='y', linestyle='--', alpha=0.7)\n",
    "plt.xticks(fontsize=TICK_LABEL_SIZE)\n",
    "plt.yticks(fontsize=TICK_LABEL_SIZE)\n",
    "plt.tight_layout()\n",
    "\n",
    "plt.savefig('results/figures/iou_boxplot.png', dpi=300)\n",
    "plt.show()\n",
    "\n",
    "# Bar plot of mean inference times\n",
    "plt.figure(figsize=(10, 6))\n",
    "sns.barplot(data=results_df, x='method', y='inference_time', estimator='mean', errorbar=('ci', 95), palette=color_list)\n",
    "plt.title('Mean inference time by method', fontsize=TITLE_SIZE)\n",
    "plt.ylabel('Inference time (seconds)', fontsize=AXIS_LABEL_SIZE)\n",
    "plt.yscale('log')\n",
    "plt.xlabel('Method', fontsize=AXIS_LABEL_SIZE)\n",
    "plt.grid(axis='y', linestyle='--', alpha=0.7)\n",
    "plt.xticks(fontsize=TICK_LABEL_SIZE)\n",
    "plt.yticks(fontsize=TICK_LABEL_SIZE)\n",
    "plt.tight_layout()\n",
    "\n",
    "plt.savefig('results/figures/inference_time_barplot.png', dpi=300)\n",
    "plt.show()\n",
    "\n",
    "# IoU heatmap\n",
    "pivot_iou = results_df.pivot_table(index='wsi_name', columns='method', values='iou', observed=False)\n",
    "plt.figure(figsize=(12, 8))\n",
    "sns.heatmap(\n",
    "    pivot_iou, \n",
    "    annot=True, \n",
    "    cmap=\"RdYlGn\", \n",
    "    fmt='.3f', \n",
    "    cbar_kws={'label': 'IoU'}, \n",
    "    vmin=0, \n",
    "    vmax=1,\n",
    "    annot_kws={\"size\": ANNOTATION_SIZE}\n",
    ")\n",
    "plt.title('IoU heatmap for each image by methods', fontsize=TITLE_SIZE)\n",
    "plt.xlabel('Method', fontsize=AXIS_LABEL_SIZE)\n",
    "plt.ylabel('WSI Name', fontsize=AXIS_LABEL_SIZE)\n",
    "plt.xticks(fontsize=TICK_LABEL_SIZE)\n",
    "plt.yticks(fontsize=TICK_LABEL_SIZE)\n",
    "cbar = plt.gca().collections[0].colorbar\n",
    "cbar.ax.tick_params(labelsize=TICK_LABEL_SIZE)\n",
    "cbar.set_label('IoU', fontsize=AXIS_LABEL_SIZE)\n",
    "plt.tight_layout()\n",
    "\n",
    "plt.savefig('results/figures/iou_heatmap.png', dpi=300)\n",
    "plt.show()"
   ]
  },
  {
   "cell_type": "markdown",
   "id": "98d1a66c",
   "metadata": {},
   "source": [
    "## Image visualization"
   ]
  },
  {
   "cell_type": "code",
   "execution_count": 156,
   "id": "e84969bc",
   "metadata": {},
   "outputs": [
    {
     "name": "stdout",
     "output_type": "stream",
     "text": [
      "Visualizing 5003_11_HE_40x...\n",
      "[(556288, 588800), (278144, 294400), (139072, 147200), (69536, 73600), (34768, 36800), (17384, 18400), (8692, 9200), (4346, 4600), (2173, 2300), (1086, 1150)]\n",
      "torch.Size([3, 1024, 768])\n",
      "Tile-based torch.Size([5888, 8192])\n",
      "Semantic segmentation torch.Size([5888, 8192])\n",
      "Instance segmentation torch.Size([5888, 8192])\n"
     ]
    },
    {
     "ename": "IndexError",
     "evalue": "boolean index did not match indexed array along axis 0; size of axis is 1024 but size of corresponding boolean axis is 5888",
     "output_type": "error",
     "traceback": [
      "\u001b[0;31m---------------------------------------------------------------------------\u001b[0m",
      "\u001b[0;31mIndexError\u001b[0m                                Traceback (most recent call last)",
      "Cell \u001b[0;32mIn[156], line 13\u001b[0m\n\u001b[1;32m     11\u001b[0m \u001b[38;5;28;01mfor\u001b[39;00m wsi_name \u001b[38;5;129;01min\u001b[39;00m unique_wsi_names:\n\u001b[1;32m     12\u001b[0m     \u001b[38;5;28mprint\u001b[39m(\u001b[38;5;124mf\u001b[39m\u001b[38;5;124m\"\u001b[39m\u001b[38;5;124mVisualizing \u001b[39m\u001b[38;5;132;01m{\u001b[39;00mwsi_name\u001b[38;5;132;01m}\u001b[39;00m\u001b[38;5;124m...\u001b[39m\u001b[38;5;124m\"\u001b[39m)\n\u001b[0;32m---> 13\u001b[0m     \u001b[43mvisualize_masks\u001b[49m\u001b[43m(\u001b[49m\u001b[43mwsi_name\u001b[49m\u001b[38;5;241;43m=\u001b[39;49m\u001b[43mwsi_name\u001b[49m\u001b[43m,\u001b[49m\u001b[43m \u001b[49m\n\u001b[1;32m     14\u001b[0m \u001b[43m                    \u001b[49m\u001b[43mmatched_results\u001b[49m\u001b[38;5;241;43m=\u001b[39;49m\u001b[43mmatched_results\u001b[49m\u001b[43m,\u001b[49m\u001b[43m \u001b[49m\n\u001b[1;32m     15\u001b[0m \u001b[43m                    \u001b[49m\u001b[43mwsi_folder\u001b[49m\u001b[38;5;241;43m=\u001b[39;49m\u001b[43mwsi_path\u001b[49m\u001b[43m,\u001b[49m\u001b[43m \u001b[49m\n\u001b[1;32m     16\u001b[0m \u001b[43m                    \u001b[49m\u001b[43mwsi_name_index_map\u001b[49m\u001b[38;5;241;43m=\u001b[39;49m\u001b[43mindex_to_wsi_map\u001b[49m\u001b[43m,\u001b[49m\n\u001b[1;32m     17\u001b[0m \u001b[43m                    \u001b[49m\u001b[43mslide_dataset\u001b[49m\u001b[38;5;241;43m=\u001b[39;49m\u001b[43mslide_dataset\u001b[49m\u001b[43m)\u001b[49m\n",
      "File \u001b[0;32m/storage01/bolma/dev/tumor-region-detection-thesis/src/utils/visualization.py:148\u001b[0m, in \u001b[0;36mvisualize_masks\u001b[0;34m(wsi_name, matched_results, wsi_folder, wsi_name_index_map, slide_dataset, alpha)\u001b[0m\n\u001b[1;32m    146\u001b[0m \u001b[38;5;66;03m# Apply the mask with alpha blending\u001b[39;00m\n\u001b[1;32m    147\u001b[0m mask_overlay \u001b[38;5;241m=\u001b[39m np\u001b[38;5;241m.\u001b[39mzeros_like(original_image)\n\u001b[0;32m--> 148\u001b[0m mask_overlay[binary_mask \u001b[38;5;241m>\u001b[39m \u001b[38;5;241m0\u001b[39m] \u001b[38;5;241m=\u001b[39m \u001b[43mcolored_mask\u001b[49m\u001b[43m[\u001b[49m\u001b[43mbinary_mask\u001b[49m\u001b[43m \u001b[49m\u001b[38;5;241;43m>\u001b[39;49m\u001b[43m \u001b[49m\u001b[38;5;241;43m0\u001b[39;49m\u001b[43m]\u001b[49m\n\u001b[1;32m    149\u001b[0m \u001b[38;5;66;03m# plt.imshow(mask_overlay, alpha=alpha)\u001b[39;00m\n\u001b[1;32m    150\u001b[0m \n\u001b[1;32m    151\u001b[0m \u001b[38;5;66;03m# Add to legend\u001b[39;00m\n\u001b[1;32m    152\u001b[0m legend_elements\u001b[38;5;241m.\u001b[39mappend(Patch(facecolor\u001b[38;5;241m=\u001b[39mnp\u001b[38;5;241m.\u001b[39marray(color)\u001b[38;5;241m/\u001b[39m\u001b[38;5;241m255\u001b[39m, \n\u001b[1;32m    153\u001b[0m                              edgecolor\u001b[38;5;241m=\u001b[39mnp\u001b[38;5;241m.\u001b[39marray(color)\u001b[38;5;241m/\u001b[39m\u001b[38;5;241m255\u001b[39m, \n\u001b[1;32m    154\u001b[0m                              label\u001b[38;5;241m=\u001b[39mmethod, \n\u001b[1;32m    155\u001b[0m                              alpha\u001b[38;5;241m=\u001b[39malpha))\n",
      "\u001b[0;31mIndexError\u001b[0m: boolean index did not match indexed array along axis 0; size of axis is 1024 but size of corresponding boolean axis is 5888"
     ]
    },
    {
     "data": {
      "image/png": "[encoded data removed]",
      "text/plain": [
       "<Figure size 1500x1000 with 1 Axes>"
      ]
     },
     "metadata": {},
     "output_type": "display_data"
    }
   ],
   "source": [
    "# Get unique WSI names\n",
    "unique_wsi_names = set(results_df['wsi_name'])\n",
    "\n",
    "# Create a figure directory if it doesn't exist\n",
    "figures_dir = Path(\"results/images/\")\n",
    "figures_dir.mkdir(exist_ok=True, parents=True)\n",
    "\n",
    "wsi_path = Path(\"/storage01/bolma/dev/data/BIOMAG_slides/Lung\")\n",
    "\n",
    "# Visualize each WSI\n",
    "for wsi_name in unique_wsi_names:\n",
    "    print(f\"Visualizing {wsi_name}...\")\n",
    "    visualize_masks(wsi_name=wsi_name, \n",
    "                    matched_results=matched_results, \n",
    "                    wsi_folder=wsi_path, \n",
    "                    wsi_name_index_map=index_to_wsi_map,\n",
    "                    slide_dataset=slide_dataset)"
   ]
  }
 ],
 "metadata": {
  "kernelspec": {
   "display_name": ".venv",
   "language": "python",
   "name": "python3"
  },
  "language_info": {
   "codemirror_mode": {
    "name": "ipython",
    "version": 3
   },
   "file_extension": ".py",
   "mimetype": "text/x-python",
   "name": "python",
   "nbconvert_exporter": "python",
   "pygments_lexer": "ipython3",
   "version": "3.10.17"
  }
 },
 "nbformat": 4,
 "nbformat_minor": 5
}
